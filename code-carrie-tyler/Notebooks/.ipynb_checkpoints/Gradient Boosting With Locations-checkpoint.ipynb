{
 "cells": [
  {
   "cell_type": "code",
   "execution_count": 654,
   "metadata": {},
   "outputs": [],
   "source": [
    "%matplotlib inline\n",
    "import pandas as pd\n",
    "import numpy as np\n",
    "from sklearn.model_selection import train_test_split\n",
    "from sklearn.preprocessing import LabelEncoder\n",
    "from sklearn.pipeline import Pipeline\n",
    "from sklearn.metrics import fbeta_score\n",
    "import xgboost as xgb\n",
    "import matplotlib.pyplot as plt\n",
    "import seaborn as sns\n",
    "\n",
    "sns.set()"
   ]
  },
  {
   "cell_type": "code",
   "execution_count": 655,
   "metadata": {},
   "outputs": [],
   "source": [
    "street_locations = pd.read_csv('../street_locations.csv').set_index('Street')\n",
    "intersection_locations = pd.read_csv('../intersection_locations.csv').set_index(['Street1', 'Street2'])"
   ]
  },
  {
   "cell_type": "code",
   "execution_count": 656,
   "metadata": {},
   "outputs": [],
   "source": [
    "data = pd.read_csv('../data/train-parking.csv', parse_dates=['Date'])\n",
    "test = pd.read_csv('../data/test-no-labels-with-id.csv', parse_dates=['Date'])"
   ]
  },
  {
   "cell_type": "code",
   "execution_count": 657,
   "metadata": {},
   "outputs": [],
   "source": [
    "data = data[data['Real.Spots'] < 100] \n",
    "data[['hour', 'minute']] = data['Time'].str.extract('([0-9]+):([0-9]+)', expand = True).astype('int')\n",
    "data = data.sort_values(['Date', 'hour', 'minute'])\n",
    "\n",
    "test[['hour', 'minute']] = test['Time'].str.extract('([0-9]+):([0-9]+)', expand = False).astype('int')"
   ]
  },
  {
   "cell_type": "code",
   "execution_count": 710,
   "metadata": {},
   "outputs": [],
   "source": [
    "train, val = train_test_split(data, test_size = 0.2, shuffle = False)\n",
    "train, val = train.copy(), val.copy()"
   ]
  },
  {
   "cell_type": "code",
   "execution_count": 711,
   "metadata": {},
   "outputs": [],
   "source": [
    "train = train[((train['Street'] != 'Jones Street') & (train['To'] != 'Jones Street')) | \\\n",
    "((train['Street'] != 'Mason Street') & (train['To'] != 'Mason Street'))]"
   ]
  },
  {
   "cell_type": "code",
   "execution_count": 712,
   "metadata": {},
   "outputs": [],
   "source": [
    "cats = ['Street', 'To', 'From']\n",
    "unique_street_names = np.unique(np.concatenate([train[cat].values for cat in cats]))\n",
    "street_table = pd.DataFrame({'Street' : unique_street_names, \n",
    "                             'id' : np.arange(unique_street_names.shape[0])})\\\n",
    "                .set_index('Street')"
   ]
  },
  {
   "cell_type": "code",
   "execution_count": 713,
   "metadata": {},
   "outputs": [],
   "source": [
    "train['dow'] = train['Date'].dt.dayofweek\n",
    "val['dow'] = val['Date'].dt.dayofweek\n",
    "test['dow'] = test['Date'].dt.dayofweek"
   ]
  },
  {
   "cell_type": "code",
   "execution_count": 714,
   "metadata": {},
   "outputs": [],
   "source": [
    "train['random'] = np.random.rand(train.shape[0])\n",
    "val['random'] = np.random.rand(val.shape[0])\n",
    "test['random'] = np.random.rand(test.shape[0])"
   ]
  },
  {
   "cell_type": "code",
   "execution_count": 715,
   "metadata": {},
   "outputs": [],
   "source": [
    "means = train.groupby(['Street'])['Real.Spots'].mean().rename('Real.Spots_pred')"
   ]
  },
  {
   "cell_type": "code",
   "execution_count": 716,
   "metadata": {},
   "outputs": [],
   "source": [
    "means = train.groupby(['Street'])['Real.Spots']\\\n",
    "    .quantile([0,.25,.50,.75,1.00]).unstack()\\\n",
    "    .rename({0.0 : '0%', .25 : '25%', .5 : '50%', .75 : '75%', 1 : '100%'}, axis = 1)"
   ]
  },
  {
   "cell_type": "code",
   "execution_count": 717,
   "metadata": {},
   "outputs": [],
   "source": [
    "train2 = train.join(street_locations, on = 'Street')\\\n",
    "        .join(intersection_locations, on = ['Street', 'From'])\\\n",
    "        .join(means, on = ['Street'])\\\n",
    "        .join(street_table['id'].rename('Street_Label'), on = 'Street')\\\n",
    "        .join(street_table['id'].rename('To_Label'), on = 'To')\\\n",
    "        .join(street_table['id'].rename('From_Label'), on = 'From')\\\n",
    "        .drop(['Street', 'From', 'To', 'Date', 'Time'], axis = 1)\\\n",
    "        .drop(['random', '50%', 'dow', 'Latitude', 'latitude', 'Longitude', '100%', '0%', '25%'], axis = 1)\n",
    "        #.drop(['random', 'Longitude', '0%', 'longitude', \n",
    "        #       '25%', 'To_Label', 'latitude', 'dow'], axis = 1)\n",
    "        \n",
    "val2 = val.join(street_locations, on = 'Street')\\\n",
    "        .join(intersection_locations, on = ['Street', 'From'])\\\n",
    "        .join(means, on = ['Street'])\\\n",
    "        .join(street_table['id'].rename('Street_Label'), on = 'Street')\\\n",
    "        .join(street_table['id'].rename('To_Label'), on = 'To')\\\n",
    "        .join(street_table['id'].rename('From_Label'), on = 'From')\\\n",
    "        .drop(['Street', 'From', 'To', 'Date', 'Time'], axis = 1)\\\n",
    "        .drop(['random', '50%', 'dow', 'Latitude', 'latitude', 'Longitude', '100%', '0%', '25%'], axis = 1)\n",
    "        #.drop(['random', 'Longitude', '0%', 'longitude', \n",
    "        #       '25%', 'To_Label', 'latitude', 'dow'], axis = 1)\n",
    "        \n",
    "test2 = test.join(street_locations, on = 'Street')\\\n",
    "        .join(intersection_locations, on = ['Street', 'From'])\\\n",
    "        .join(means, on = ['Street'])\\\n",
    "        .join(street_table['id'].rename('Street_Label'), on = 'Street')\\\n",
    "        .join(street_table['id'].rename('To_Label'), on = 'To')\\\n",
    "        .join(street_table['id'].rename('From_Label'), on = 'From')\\\n",
    "        .drop(['Street', 'From', 'To', 'Date', 'Time'], axis = 1)\\\n",
    "        .drop(['random', '50%', 'dow', 'Latitude', 'latitude', 'Longitude', '100%', '0%', '25%'], axis = 1)\n",
    "        #.drop(['random', 'Longitude', '0%', 'longitude', \n",
    "        #       '25%', 'To_Label', 'latitude', 'dow'], axis = 1)"
   ]
  },
  {
   "cell_type": "code",
   "execution_count": 718,
   "metadata": {},
   "outputs": [],
   "source": [
    "train3 = train2.copy()"
   ]
  },
  {
   "cell_type": "code",
   "execution_count": null,
   "metadata": {},
   "outputs": [],
   "source": []
  },
  {
   "cell_type": "code",
   "execution_count": 719,
   "metadata": {},
   "outputs": [],
   "source": [
    "#train3['Real.Spots'] = np.maximum(0, np.random.choice([0, 1, 2], p = [0.989, 0.01, 0.001], size= train3.shape[0]))\n",
    "#train3['any_spot'] = train3['Real.Spots'] > 0"
   ]
  },
  {
   "cell_type": "code",
   "execution_count": 720,
   "metadata": {},
   "outputs": [],
   "source": [
    "train4 = train3\n",
    "#train4 = pd.concat([train2, train3])"
   ]
  },
  {
   "cell_type": "code",
   "execution_count": null,
   "metadata": {},
   "outputs": [],
   "source": []
  },
  {
   "cell_type": "code",
   "execution_count": 721,
   "metadata": {},
   "outputs": [],
   "source": [
    "dtrain = xgb.DMatrix(train4.drop(['Real.Spots', 'any_spot'], axis = 1), \n",
    "                     label = train4['Real.Spots'])\n",
    "dval = xgb.DMatrix(val2.drop(['Real.Spots', 'any_spot'], axis = 1), \n",
    "                   label = val2['Real.Spots'])\n",
    "# specify parameters via map\n",
    "param = {'max_depth':6, 'eta':.008, 'colsample_bytree' : 0.75, \n",
    "         'subsample' : 0.6, 'objective':'reg:linear'}\n",
    "num_round = 350\n",
    "bst = xgb.train(param, dtrain, num_round)\n",
    "# make prediction\n",
    "preds = bst.predict(dval)"
   ]
  },
  {
   "cell_type": "code",
   "execution_count": 722,
   "metadata": {},
   "outputs": [
    {
     "name": "stdout",
     "output_type": "stream",
     "text": [
      "1.89898989899\n",
      "0.606060606061\n"
     ]
    },
    {
     "data": {
      "text/plain": [
       "[<matplotlib.lines.Line2D at 0x1a29e1f7f0>]"
      ]
     },
     "execution_count": 722,
     "metadata": {},
     "output_type": "execute_result"
    },
    {
     "data": {
      "image/png": "[encoded data removed]",
      "text/plain": [
       "<matplotlib.figure.Figure at 0x1a29d25eb8>"
      ]
     },
     "metadata": {},
     "output_type": "display_data"
    }
   ],
   "source": [
    "thresh = []\n",
    "fscore = []\n",
    "for i in np.linspace(0,4, 100):\n",
    "    score = fbeta_score(val2['any_spot'], (preds > i), 0.5)\n",
    "    thresh.append(i)\n",
    "    fscore.append(score)\n",
    "\n",
    "print(thresh[np.argmax(fscore)])\n",
    "print(np.max(fscore))\n",
    "plt.plot(thresh, fscore)"
   ]
  },
  {
   "cell_type": "code",
   "execution_count": 729,
   "metadata": {},
   "outputs": [
    {
     "data": {
      "text/plain": [
       "0.53745928338762206"
      ]
     },
     "execution_count": 729,
     "metadata": {},
     "output_type": "execute_result"
    }
   ],
   "source": [
    "fbeta_score(val2['any_spot'], (preds > 1.5), 0.5)"
   ]
  },
  {
   "cell_type": "code",
   "execution_count": 724,
   "metadata": {},
   "outputs": [],
   "source": [
    "msk = np.random.permutation(train4.shape[0])"
   ]
  },
  {
   "cell_type": "code",
   "execution_count": 725,
   "metadata": {},
   "outputs": [],
   "source": [
    "base_score = fbeta_score(train4['any_spot'], (bst.predict(dtrain) > 1.5), 0.5)\n",
    "importances = []\n",
    "for col in train4.drop(['Real.Spots', 'any_spot'], axis = 1).columns:\n",
    "    x = train4.assign(**{col : train4[col].iloc[msk].values})\n",
    "    dx = xgb.DMatrix(x.drop(['Real.Spots', 'any_spot'], axis = 1), \n",
    "                         label = x['Real.Spots'])\n",
    "    score = fbeta_score(x['any_spot'], bst.predict(dx) > 1.3, 0.5)\n",
    "    importances.append((col, (base_score - score) /base_score))"
   ]
  },
  {
   "cell_type": "code",
   "execution_count": 726,
   "metadata": {},
   "outputs": [
    {
     "data": {
      "text/html": [
       "<div>\n",
       "<style scoped>\n",
       "    .dataframe tbody tr th:only-of-type {\n",
       "        vertical-align: middle;\n",
       "    }\n",
       "\n",
       "    .dataframe tbody tr th {\n",
       "        vertical-align: top;\n",
       "    }\n",
       "\n",
       "    .dataframe thead th {\n",
       "        text-align: right;\n",
       "    }\n",
       "</style>\n",
       "<table border=\"1\" class=\"dataframe\">\n",
       "  <thead>\n",
       "    <tr style=\"text-align: right;\">\n",
       "      <th></th>\n",
       "      <th>col</th>\n",
       "      <th>imp</th>\n",
       "    </tr>\n",
       "  </thead>\n",
       "  <tbody>\n",
       "    <tr>\n",
       "      <th>2</th>\n",
       "      <td>minute</td>\n",
       "      <td>0.150012</td>\n",
       "    </tr>\n",
       "    <tr>\n",
       "      <th>0</th>\n",
       "      <td>Street.Length</td>\n",
       "      <td>0.144869</td>\n",
       "    </tr>\n",
       "    <tr>\n",
       "      <th>1</th>\n",
       "      <td>hour</td>\n",
       "      <td>0.121036</td>\n",
       "    </tr>\n",
       "    <tr>\n",
       "      <th>3</th>\n",
       "      <td>longitude</td>\n",
       "      <td>0.108323</td>\n",
       "    </tr>\n",
       "    <tr>\n",
       "      <th>4</th>\n",
       "      <td>75%</td>\n",
       "      <td>0.099202</td>\n",
       "    </tr>\n",
       "    <tr>\n",
       "      <th>7</th>\n",
       "      <td>From_Label</td>\n",
       "      <td>0.071270</td>\n",
       "    </tr>\n",
       "    <tr>\n",
       "      <th>6</th>\n",
       "      <td>To_Label</td>\n",
       "      <td>0.044236</td>\n",
       "    </tr>\n",
       "    <tr>\n",
       "      <th>5</th>\n",
       "      <td>Street_Label</td>\n",
       "      <td>0.025678</td>\n",
       "    </tr>\n",
       "  </tbody>\n",
       "</table>\n",
       "</div>"
      ],
      "text/plain": [
       "             col       imp\n",
       "2         minute  0.150012\n",
       "0  Street.Length  0.144869\n",
       "1           hour  0.121036\n",
       "3      longitude  0.108323\n",
       "4            75%  0.099202\n",
       "7     From_Label  0.071270\n",
       "6       To_Label  0.044236\n",
       "5   Street_Label  0.025678"
      ]
     },
     "execution_count": 726,
     "metadata": {},
     "output_type": "execute_result"
    }
   ],
   "source": [
    "pd.DataFrame(importances, columns=['col', 'imp']).sort_values('imp', ascending =False)"
   ]
  },
  {
   "cell_type": "code",
   "execution_count": 727,
   "metadata": {},
   "outputs": [
    {
     "data": {
      "text/plain": [
       "0.72181670721816715"
      ]
     },
     "execution_count": 727,
     "metadata": {},
     "output_type": "execute_result"
    }
   ],
   "source": [
    "fbeta_score(train['any_spot'], bst.predict(dtrain) > 1.5, 0.5)"
   ]
  },
  {
   "cell_type": "code",
   "execution_count": 728,
   "metadata": {},
   "outputs": [
    {
     "data": {
      "text/plain": [
       "0.49878345498783466"
      ]
     },
     "execution_count": 728,
     "metadata": {},
     "output_type": "execute_result"
    }
   ],
   "source": [
    "fbeta_score(val['any_spot'], preds > 1, 0.5)"
   ]
  },
  {
   "cell_type": "code",
   "execution_count": 707,
   "metadata": {},
   "outputs": [],
   "source": [
    "dtest = xgb.DMatrix(test2.drop('id', axis = 1))"
   ]
  },
  {
   "cell_type": "code",
   "execution_count": 708,
   "metadata": {},
   "outputs": [],
   "source": [
    "test_preds = bst.predict(dtest)"
   ]
  },
  {
   "cell_type": "code",
   "execution_count": 709,
   "metadata": {},
   "outputs": [],
   "source": [
    "pd.DataFrame({'id' : test2['id'], 'any_spot' : test_preds > 1.5})[['id', 'any_spot']]\\\n",
    "    .to_csv('../predictions/xgbwithloc5.csv', index = False)"
   ]
  },
  {
   "cell_type": "code",
   "execution_count": null,
   "metadata": {},
   "outputs": [],
   "source": []
  },
  {
   "cell_type": "code",
   "execution_count": null,
   "metadata": {},
   "outputs": [],
   "source": []
  }
 ],
 "metadata": {
  "kernelspec": {
   "display_name": "Python 3",
   "language": "python",
   "name": "python3"
  },
  "language_info": {
   "codemirror_mode": {
    "name": "ipython",
    "version": 3
   },
   "file_extension": ".py",
   "mimetype": "text/x-python",
   "name": "python",
   "nbconvert_exporter": "python",
   "pygments_lexer": "ipython3",
   "version": "3.6.3"
  }
 },
 "nbformat": 4,
 "nbformat_minor": 2
}

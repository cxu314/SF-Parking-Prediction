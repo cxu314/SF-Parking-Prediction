{
 "cells": [
  {
   "cell_type": "code",
   "execution_count": 1,
   "metadata": {},
   "outputs": [],
   "source": [
    "import pandas as pd\n",
    "import numpy as np\n",
    "import geocoder"
   ]
  },
  {
   "cell_type": "code",
   "execution_count": 2,
   "metadata": {},
   "outputs": [],
   "source": [
    "data = pd.read_csv('../data/train-parking.csv', parse_dates=['Date'])"
   ]
  },
  {
   "cell_type": "code",
   "execution_count": 18,
   "metadata": {},
   "outputs": [],
   "source": [
    "x = data[['Street', 'From']].drop_duplicates()\n",
    "results1 = np.array([x['Street'], x['From']]).T"
   ]
  },
  {
   "cell_type": "code",
   "execution_count": 20,
   "metadata": {},
   "outputs": [],
   "source": [
    "x = data[['Street', 'To']].drop_duplicates()\n",
    "results2 = np.array([x['Street'], x['To']]).T"
   ]
  },
  {
   "cell_type": "code",
   "execution_count": 32,
   "metadata": {},
   "outputs": [],
   "source": [
    "results3 = np.concatenate([results1, results2])"
   ]
  },
  {
   "cell_type": "code",
   "execution_count": 34,
   "metadata": {},
   "outputs": [
    {
     "data": {
      "text/plain": [
       "array([['25th Street', 'Mission Street'],\n",
       "       ['Ellis Street', 'Polk Street'],\n",
       "       ['Geary Boulevard', 'Van Ness Avenue'],\n",
       "       ['Bush Street', 'Van Ness Avenue'],\n",
       "       ['Daniel Burnham Court', 'Van Ness Avenue'],\n",
       "       ['Cedar Street', 'Larkin Street'],\n",
       "       ['Larkin Street', 'Pine Street'],\n",
       "       ['Pine Street', 'Polk Street'],\n",
       "       ['Larkin Street', 'Myrtle Street'],\n",
       "       ['Van Ness Avenue', 'Van Ness Avenue'],\n",
       "       ['Larkin Street', 'Sutter Street'],\n",
       "       ['Larkin Street', 'McAllister Street'],\n",
       "       ['23rd Street', 'Mission Street'],\n",
       "       ['23rd Street', 'Bartlett Street'],\n",
       "       ['23rd Street', 'South Van Ness Avenue'],\n",
       "       ['Bryant Street', 'Mariposa Street'],\n",
       "       ['Post Street', 'Van Ness Avenue'],\n",
       "       ['Jessie Street', 'New Montgomery Street'],\n",
       "       ['Clay Street', 'Van Ness Avenue'],\n",
       "       [\"O'Farrell Street\", 'Van Ness Avenue'],\n",
       "       ['Geary Street', 'Kearny Street'],\n",
       "       ['Kearny Street', 'Kearny Street'],\n",
       "       ['Clay Street', 'Polk Street'],\n",
       "       ['Jackson Street', 'Polk Street'],\n",
       "       ['Kearny Street', 'Post Street'],\n",
       "       ['Pacific Avenue', 'Van Ness Avenue'],\n",
       "       ['Van Ness Avenue', 'Washington Street'],\n",
       "       ['Polk Street', 'Washington Street'],\n",
       "       ['Jackson Street', 'Polk Street'],\n",
       "       ['Bonita Street', 'Polk Street'],\n",
       "       ['Bush Street', 'Taylor Street'],\n",
       "       ['Julia Street', 'Mission Street'],\n",
       "       ['6th Street', 'Mission Street'],\n",
       "       ['McAllister Street', 'Van Ness Avenue'],\n",
       "       ['Golden Gate Avenue', 'Van Ness Avenue'],\n",
       "       ['Hayes Street', 'Van Ness Avenue'],\n",
       "       ['Alice B. Toklas Place', 'Polk Street'],\n",
       "       ['Eddy Street', 'Leavenworth Street'],\n",
       "       ['Ellis Street', 'Jones Street'],\n",
       "       ['Bush Street', 'Parking Entrance Lane'],\n",
       "       ['Geary Street', 'Jones Street'],\n",
       "       ['Larkin Street', 'Post Street'],\n",
       "       ['Polk Street', 'Turk Street'],\n",
       "       ['Geary Street', 'Larkin Street'],\n",
       "       ['Sutter Street', 'Taylor Street'],\n",
       "       ['Larkin Street', \"O'Farrell Street\"],\n",
       "       ['Dr Carlton P Goodlett Place', 'Grove Street'],\n",
       "       ['Larkin Street', 'Larkin Street'],\n",
       "       ['Geary Street', 'Leavenworth Street'],\n",
       "       ['Powell Street', 'Sutter Street'],\n",
       "       ['Grove Street', 'Polk Street'],\n",
       "       ['Leavenworth Street', 'Turk Street'],\n",
       "       ['Golden Gate Avenue', 'Hyde Street'],\n",
       "       ['Polk Street', 'Willow Street'],\n",
       "       ['Taylor Street', 'Turk Street'],\n",
       "       [\"O'Farrell Street\", 'Taylor Street'],\n",
       "       ['Mason Street', 'Sutter Street'],\n",
       "       ['Mason Street', 'Sutter Street'],\n",
       "       ['Larkin Street', 'Turk Street'],\n",
       "       ['Bush Street', 'Jones Street'],\n",
       "       ['Jones Street', 'Sutter Street'],\n",
       "       ['Jones Street', 'Post Street'],\n",
       "       ['Colin Place', 'Jones Street'],\n",
       "       ['Antonio Street', 'Jones Street'],\n",
       "       ['Clay Street', 'Montgomery Street'],\n",
       "       ['Bush Street', 'Montgomery Street'],\n",
       "       ['Battery Street', 'Pine Street'],\n",
       "       ['Battery Street', 'Washington Street'],\n",
       "       ['Stockton Street', 'Stockton Street'],\n",
       "       ['Montgomery Street', 'Montgomery Street'],\n",
       "       ['Montgomery Street', 'Verdi Place'],\n",
       "       ['Stockton Street', 'Stockton Tunnel'],\n",
       "       ['11th Street', 'Mission Street'],\n",
       "       ['Montgomery Street', 'Washington Street'],\n",
       "       ['Jackson Street', 'Montgomery Street'],\n",
       "       ['Hardie Place', 'Kearny Street'],\n",
       "       ['Hotaling Street', 'Washington Street'],\n",
       "       ['Battery Street', 'Halleck Street'],\n",
       "       ['Battery Street', 'California Street'],\n",
       "       ['Montgomery Street', 'Pine Street'],\n",
       "       ['Kearny Street', 'Nottingham Place'],\n",
       "       ['Green Street', 'Stockton Street'],\n",
       "       ['Columbus Avenue', 'Kearny Street'],\n",
       "       ['Polk Street', 'Redwood Street'],\n",
       "       ['26th Street', 'Mission Street'],\n",
       "       ['Olive Street', 'Polk Street'],\n",
       "       ['Myrtle Street', 'Van Ness Avenue'],\n",
       "       ['Fern Street', 'Van Ness Avenue'],\n",
       "       ['Post Street', 'Van Ness Avenue'],\n",
       "       ['Larkin Street', 'Post Street'],\n",
       "       ['Pine Street', 'Polk Street'],\n",
       "       ['Pine Street', 'Van Ness Avenue'],\n",
       "       ['Geary Street', 'Larkin Street'],\n",
       "       ['Bush Street', 'Van Ness Avenue'],\n",
       "       ['Larkin Street', 'Larkin Street'],\n",
       "       ['Fulton Street', 'Larkin Street'],\n",
       "       ['23rd Street', 'Bartlett Street'],\n",
       "       ['23rd Street', 'Valencia Street'],\n",
       "       ['23rd Street', 'Capp Street'],\n",
       "       ['17th Street', 'Bryant Street'],\n",
       "       ['Hemlock Street', 'Van Ness Avenue'],\n",
       "       ['Annie Street', 'Jessie Street'],\n",
       "       ['Austin Street', 'Van Ness Avenue'],\n",
       "       ['Van Ness Avenue', 'Washington Street'],\n",
       "       ['Alice B. Toklas Place', 'Van Ness Avenue'],\n",
       "       ['Kearny Street', 'Maiden Lane'],\n",
       "       ['Kearny Street', 'Post Street'],\n",
       "       ['Polk Street', 'Washington Street'],\n",
       "       ['Post Street', 'Post Street'],\n",
       "       ['Broadway', 'Van Ness Avenue'],\n",
       "       ['Polk Street', 'Washington Street'],\n",
       "       ['Larkin Street', 'Washington Street'],\n",
       "       ['Jackson Street', 'Van Ness Avenue'],\n",
       "       ['Polk Street', 'Vallejo Street'],\n",
       "       ['Green Street', 'Polk Street'],\n",
       "       ['Bush Street', 'Mason Street'],\n",
       "       [\"Angelo's Alley\", 'Mission Street'],\n",
       "       ['7th Street', 'Mission Street'],\n",
       "       ['Eddy Street', 'Van Ness Avenue'],\n",
       "       ['Turk Street', 'Van Ness Avenue'],\n",
       "       ['Grove Street', 'Van Ness Avenue'],\n",
       "       ['Van Ness Avenue', 'Van Ness Avenue'],\n",
       "       ['Fell Street', 'Van Ness Avenue'],\n",
       "       ['Golden Gate Avenue', 'Van Ness Avenue'],\n",
       "       [\"O'Farrell Street\", 'Polk Street'],\n",
       "       ['Ellis Street', 'Leavenworth Street'],\n",
       "       ['Eddy Street', 'Jones Street'],\n",
       "       ['Bush Street', 'Chatham Place'],\n",
       "       ['Geary Street', 'Geary Street'],\n",
       "       ['Meacham Place', 'Post Street'],\n",
       "       ['Elm Street', 'Polk Street'],\n",
       "       ['Geary Street', 'Polk Street'],\n",
       "       ['Bush Street', 'Taylor Street'],\n",
       "       ['Grove Street', 'Van Ness Avenue'],\n",
       "       ['Golden Gate Avenue', 'Larkin Street'],\n",
       "       ['Geary Street', 'Hyde Street'],\n",
       "       ['Sutter Street', 'Sutter Street'],\n",
       "       ['Dr Tom Waddell Place', 'Polk Street'],\n",
       "       ['Eddy Street', 'Leavenworth Street'],\n",
       "       ['Hyde Street', 'McAllister Street'],\n",
       "       ['Eddy Street', 'Polk Street'],\n",
       "       ['Grove Street', 'Larkin Street'],\n",
       "       ['Eddy Street', 'Taylor Street'],\n",
       "       ['Geary Street', 'Taylor Street'],\n",
       "       ['Mason Street', 'Mason Street'],\n",
       "       ['Sutter Street', 'Taylor Street'],\n",
       "       ['Eddy Street', 'Larkin Street'],\n",
       "       ['Jones Street', 'Sutter Street'],\n",
       "       ['Jones Street', 'Jones Street'],\n",
       "       ['Colin Place', 'Jones Street'],\n",
       "       ['Geary Street', 'Jones Street'],\n",
       "       ['Ellis Street', 'Jones Street'],\n",
       "       ['Commercial Street', 'Montgomery Street'],\n",
       "       ['Montgomery Street', 'Sutter Street'],\n",
       "       ['Pine Street', 'Sansome Street'],\n",
       "       ['Battery Street', 'Merchant Street'],\n",
       "       ['Jackson Street', 'Stockton Street'],\n",
       "       ['Kearny Street', 'Sutter Street'],\n",
       "       ['Columbus Avenue', 'Kearny Street'],\n",
       "       ['Jackson Street', 'Montgomery Street'],\n",
       "       ['Montgomery Street', 'Pacific Avenue'],\n",
       "       ['Broadway', 'Montgomery Street'],\n",
       "       ['Stockton Street', 'Stockton Street'],\n",
       "       ['Mission Street', 'Mission Street'],\n",
       "       ['Montgomery Street', 'Montgomery Street'],\n",
       "       ['Bush Street', 'Kearny Street'],\n",
       "       ['Columbus Avenue', 'Washington Street'],\n",
       "       ['Battery Street', 'California Street'],\n",
       "       ['Battery Street', 'Pine Street'],\n",
       "       ['Kearny Street', 'Pine Street'],\n",
       "       ['Broadway', 'Kearny Street'],\n",
       "       ['Stockton Street', 'Union Street'],\n",
       "       ['Columbus Avenue', 'Pacific Avenue'],\n",
       "       ['Redwood Street', 'Van Ness Avenue']], dtype=object)"
      ]
     },
     "execution_count": 34,
     "metadata": {},
     "output_type": "execute_result"
    }
   ],
   "source": [
    "results3.sort(axis = 1)"
   ]
  },
  {
   "cell_type": "code",
   "execution_count": 41,
   "metadata": {},
   "outputs": [],
   "source": [
    "intersection_names = pd.DataFrame(results3).drop_duplicates()"
   ]
  },
  {
   "cell_type": "code",
   "execution_count": 52,
   "metadata": {
    "scrolled": true
   },
   "outputs": [
    {
     "name": "stdout",
     "output_type": "stream",
     "text": [
      "25th Street, Mission Street : [37.7506482, -122.4183159]\n",
      "Ellis Street, Polk Street : [37.7840397, -122.4193807]\n",
      "Geary Boulevard, Van Ness Avenue : [37.7856601, -122.4214764]\n",
      "Bush Street, Van Ness Avenue : [37.7884986, -122.4218922]\n",
      "Daniel Burnham Court, Van Ness Avenue : [37.7870844, -122.4217571]\n",
      "Cedar Street, Larkin Street : [37.7865918, -122.418214]\n",
      "Larkin Street, Pine Street : [37.7898426, -122.4188741]\n",
      "Pine Street, Polk Street : None\n",
      "Larkin Street, Myrtle Street : [37.7856499, -122.4180244]\n",
      "Van Ness Avenue, Van Ness Avenue : [37.7917022, -122.4226899]\n",
      "Larkin Street, Sutter Street : [37.7879799, -122.4184982]\n",
      "Larkin Street, McAllister Street : [37.78049559999999, -122.4170084]\n",
      "23rd Street, Mission Street : [37.7538455, -122.4186194]\n",
      "23rd Street, Bartlett Street : [37.7537794, -122.4197291]\n",
      "23rd Street, South Van Ness Avenue : [37.753976, -122.4164407]\n",
      "Bryant Street, Mariposa Street : [37.7630423, -122.4102673]\n",
      "Post Street, Van Ness Avenue : [37.7866423, -122.4215171]\n",
      "Jessie Street, New Montgomery Street : [37.787909, -122.4010664]\n",
      "Clay Street, Van Ness Avenue : [37.7921793, -122.4227822]\n",
      "O'Farrell Street, Van Ness Avenue : [37.7847623, -122.4212963]\n",
      "Geary Street, Kearny Street : [37.7879767, -122.4035082]\n",
      "Kearny Street, Kearny Street : [37.79755919999999, -122.4054381]\n",
      "Clay Street, Polk Street : [37.7923909, -122.4210761]\n",
      "Jackson Street, Polk Street : [37.7941507, -122.4214163]\n",
      "Kearny Street, Post Street : [37.7889065, -122.4036866]\n",
      "Pacific Avenue, Van Ness Avenue : None\n",
      "Van Ness Avenue, Washington Street : [37.7930755, -122.422808]\n",
      "Polk Street, Washington Street : [37.7932722, -122.4212389]\n",
      "Bonita Street, Polk Street : [37.7973874, -122.4220709]\n",
      "Bush Street, Taylor Street : [37.7897577, -122.412102]\n",
      "Julia Street, Mission Street : [37.778053, -122.4124236]\n",
      "6th Street, Mission Street : [37.7809745, -122.4087337]\n",
      "McAllister Street, Van Ness Avenue : [37.7800953, -122.4201902]\n",
      "Golden Gate Avenue, Van Ness Avenue : [37.7810463, -122.4203923]\n",
      "Hayes Street, Van Ness Avenue : [37.7773125, -122.4196331]\n",
      "Alice B. Toklas Place, Polk Street : [37.7854391, -122.419668]\n",
      "Eddy Street, Leavenworth Street : [37.7837352, -122.4142647]\n",
      "Ellis Street, Jones Street : [37.784875, -122.4128063]\n",
      "Bush Street, Parking Entrance Lane : [37.7908821, -122.4015519]\n",
      "Geary Street, Jones Street : [37.7867426, -122.4131825]\n",
      "Larkin Street, Post Street : [37.7870509, -122.4183057]\n",
      "Polk Street, Turk Street : [37.7821712, -122.4190094]\n",
      "Geary Street, Larkin Street : [37.786119, -122.4181182]\n",
      "Sutter Street, Taylor Street : [37.78880950000001, -122.4119083]\n",
      "Larkin Street, O'Farrell Street : None\n",
      "Dr Carlton P Goodlett Place, Grove Street : [37.7784944, -122.4182568]\n",
      "Larkin Street, Larkin Street : [37.7822605, -122.4130207]\n",
      "Geary Street, Leavenworth Street : [37.7865325, -122.4148339]\n",
      "Powell Street, Sutter Street : [37.7892337, -122.4086166]\n",
      "Grove Street, Polk Street : [37.7784944, -122.4182568]\n",
      "Leavenworth Street, Turk Street : [37.7827943, -122.4140676]\n",
      "Golden Gate Avenue, Hyde Street : [37.7816678, -122.4155242]\n",
      "Polk Street, Willow Street : [37.7835829, -122.4192937]\n",
      "Taylor Street, Turk Street : [37.7832142, -122.4107842]\n",
      "O'Farrell Street, Taylor Street : [37.7860127, -122.4113644]\n",
      "Mason Street, Sutter Street : [37.7890236, -122.4102744]\n",
      "Larkin Street, Turk Street : [37.7823865, -122.417359]\n",
      "Bush Street, Jones Street : [37.7895396, -122.4137511]\n",
      "Jones Street, Sutter Street : [37.7886086, -122.4135648]\n",
      "Jones Street, Post Street : [37.78768170000001, -122.4133747]\n",
      "Colin Place, Jones Street : [37.7873942, -122.4133176]\n",
      "Antonio Street, Jones Street : [37.7853194, -122.4128958]\n",
      "Clay Street, Montgomery Street : [37.7946786, -122.4031771]\n",
      "Bush Street, Montgomery Street : [37.790976, -122.4024281]\n",
      "Battery Street, Pine Street : [37.7922635, -122.3997971]\n",
      "Battery Street, Washington Street : None\n",
      "Stockton Street, Stockton Street : [37.7927714, -122.4076486]\n",
      "Montgomery Street, Montgomery Street : [37.7887998, -122.4020053]\n",
      "Montgomery Street, Verdi Place : [37.797867, -122.4038234]\n",
      "Stockton Street, Stockton Tunnel : [37.7927714, -122.4076486]\n",
      "11th Street, Mission Street : [37.7743325, -122.4171372]\n",
      "Montgomery Street, Washington Street : [37.7955356, -122.4033268]\n",
      "Jackson Street, Montgomery Street : [37.7964276, -122.4035182]\n",
      "Hardie Place, Kearny Street : [37.7902722, -122.403981]\n",
      "Hotaling Street, Washington Street : [37.7956019, -122.4027573]\n",
      "Battery Street, Halleck Street : [37.7937021, -122.4000847]\n",
      "Battery Street, California Street : [37.7932237, -122.3999893]\n",
      "Montgomery Street, Pine Street : [37.7919106, -122.4025966]\n",
      "Kearny Street, Nottingham Place : [37.79755919999999, -122.4054381]\n",
      "Green Street, Stockton Street : [37.7994642, -122.40891]\n",
      "Columbus Avenue, Kearny Street : [37.7969361, -122.4053194]\n",
      "Polk Street, Redwood Street : [37.7807903, -122.41873]\n",
      "26th Street, Mission Street : [37.749044, -122.4181659]\n",
      "Olive Street, Polk Street : [37.784507, -122.4194781]\n",
      "Myrtle Street, Van Ness Avenue : [37.785221, -122.4213855]\n",
      "Fern Street, Van Ness Avenue : [37.7880441, -122.4218018]\n",
      "Pine Street, Van Ness Avenue : [37.7894225, -122.4220832]\n",
      "Fulton Street, Larkin Street : [37.779594, -122.4168277]\n",
      "23rd Street, Valencia Street : [37.7537066, -122.4208358]\n",
      "23rd Street, Capp Street : [37.7539117, -122.4175294]\n",
      "17th Street, Bryant Street : [37.7643177, -122.4103838]\n",
      "Hemlock Street, Van Ness Avenue : [37.7871072, -122.421611]\n",
      "Annie Street, Jessie Street : [37.7872887, -122.401856]\n",
      "Austin Street, Van Ness Avenue : [37.7889621, -122.4219902]\n",
      "Alice B. Toklas Place, Van Ness Avenue : [37.7852444, -122.4212351]\n",
      "Kearny Street, Maiden Lane : [37.7884376, -122.4035956]\n",
      "Post Street, Post Street : [37.7879797, -122.4075169]\n",
      "Broadway, Van Ness Avenue : None\n",
      "Larkin Street, Washington Street : [37.7934841, -122.419605]\n",
      "Jackson Street, Van Ness Avenue : [37.7939555, -122.4229958]\n",
      "Polk Street, Vallejo Street : [37.7969013, -122.4219788]\n",
      "Green Street, Polk Street : [37.7978373, -122.4221651]\n",
      "Bush Street, Mason Street : [37.7899599, -122.4104554]\n",
      "Angelo's Alley, Mission Street : [37.77813, -122.4123278]\n",
      "7th Street, Mission Street : [37.7792143, -122.4109628]\n",
      "Eddy Street, Van Ness Avenue : [37.7829102, -122.4207636]\n",
      "Turk Street, Van Ness Avenue : [37.7819764, -122.4205794]\n",
      "Grove Street, Van Ness Avenue : [37.7782787, -122.4198293]\n",
      "Fell Street, Van Ness Avenue : [37.7763836, -122.4194447]\n",
      "O'Farrell Street, Polk Street : [37.78497480000001, -122.419572]\n",
      "Ellis Street, Leavenworth Street : [37.7846684, -122.4144517]\n",
      "Eddy Street, Jones Street : [37.7839391, -122.4126225]\n",
      "Bush Street, Chatham Place : [37.790473, -122.4063513]\n",
      "Geary Street, Geary Street : [37.7856601, -122.4214764]\n",
      "Meacham Place, Post Street : [37.7872141, -122.4170177]\n",
      "Elm Street, Polk Street : [37.7817222, -122.4189219]\n",
      "Geary Street, Polk Street : [37.7859036, -122.419754]\n",
      "Golden Gate Avenue, Larkin Street : [37.7814608, -122.4171737]\n",
      "Geary Street, Hyde Street : [37.78632899999999, -122.4164715]\n",
      "Sutter Street, Sutter Street : [37.7873556, -122.4234272]\n",
      "Dr Tom Waddell Place, Polk Street : [37.7779906, -122.4181585]\n",
      "Hyde Street, McAllister Street : [37.7807062, -122.4153337]\n",
      "Eddy Street, Polk Street : [37.7831079, -122.419195]\n",
      "Grove Street, Larkin Street : [37.778684, -122.4166426]\n",
      "Eddy Street, Taylor Street : [37.7841597, -122.4109775]\n",
      "Geary Street, Taylor Street : [37.78694650000001, -122.4115479]\n",
      "Mason Street, Mason Street : [37.6856228, -121.9104979]\n",
      "Eddy Street, Larkin Street : None\n",
      "Jones Street, Jones Street : [37.9192027, -122.0618294]\n",
      "Commercial Street, Montgomery Street : [37.7942315, -122.4030656]\n",
      "Montgomery Street, Sutter Street : [37.79004, -122.4022157]\n",
      "Pine Street, Sansome Street : [37.7921137, -122.4009809]\n",
      "Battery Street, Merchant Street : [37.7954607, -122.4004453]\n",
      "Jackson Street, Stockton Street : [37.7958293, -122.4082803]\n",
      "Kearny Street, Sutter Street : [37.78982740000001, -122.4038894]\n",
      "Montgomery Street, Pacific Avenue : [37.7973059, -122.4036995]\n",
      "Broadway, Montgomery Street : [37.7982343, -122.4038784]\n",
      "Mission Street, Mission Street : [37.7634446, -122.4195422]\n",
      "Bush Street, Kearny Street : [37.7907632, -122.4040735]\n",
      "Columbus Avenue, Washington Street : [37.7955356, -122.4033268]\n",
      "Kearny Street, Pine Street : [37.7916933, -122.4042585]\n"
     ]
    },
    {
     "name": "stdout",
     "output_type": "stream",
     "text": [
      "Broadway, Kearny Street : [37.7980203, -122.4055234]\n",
      "Stockton Street, Union Street : [37.8004505, -122.4092074]\n",
      "Columbus Avenue, Pacific Avenue : [37.7970734, -122.4055576]\n",
      "Redwood Street, Van Ness Avenue : [37.7805845, -122.4202962]\n"
     ]
    }
   ],
   "source": [
    "locations = []\n",
    "for _, intersection in intersection_names.iterrows():\n",
    "    geo_results = geocoder.google(\n",
    "        intersection[0] + ' & ' + intersection[1] + ' San Francisco, CA')\n",
    "    print(intersection[0] + ', ' + intersection[1] + ' : ' + str(geo_results.latlng))\n",
    "    locations.append((intersection[0], intersection[1], geo_results.latlng))"
   ]
  },
  {
   "cell_type": "code",
   "execution_count": 53,
   "metadata": {},
   "outputs": [
    {
     "data": {
      "text/plain": [
       "[('25th Street', 'Mission Street', [37.7506482, -122.4183159]),\n",
       " ('Ellis Street', 'Polk Street', [37.7840397, -122.4193807]),\n",
       " ('Geary Boulevard', 'Van Ness Avenue', [37.7856601, -122.4214764]),\n",
       " ('Bush Street', 'Van Ness Avenue', [37.7884986, -122.4218922]),\n",
       " ('Daniel Burnham Court', 'Van Ness Avenue', [37.7870844, -122.4217571]),\n",
       " ('Cedar Street', 'Larkin Street', [37.7865918, -122.418214]),\n",
       " ('Larkin Street', 'Pine Street', [37.7898426, -122.4188741]),\n",
       " ('Pine Street', 'Polk Street', None),\n",
       " ('Larkin Street', 'Myrtle Street', [37.7856499, -122.4180244]),\n",
       " ('Van Ness Avenue', 'Van Ness Avenue', [37.7917022, -122.4226899]),\n",
       " ('Larkin Street', 'Sutter Street', [37.7879799, -122.4184982]),\n",
       " ('Larkin Street', 'McAllister Street', [37.78049559999999, -122.4170084]),\n",
       " ('23rd Street', 'Mission Street', [37.7538455, -122.4186194]),\n",
       " ('23rd Street', 'Bartlett Street', [37.7537794, -122.4197291]),\n",
       " ('23rd Street', 'South Van Ness Avenue', [37.753976, -122.4164407]),\n",
       " ('Bryant Street', 'Mariposa Street', [37.7630423, -122.4102673]),\n",
       " ('Post Street', 'Van Ness Avenue', [37.7866423, -122.4215171]),\n",
       " ('Jessie Street', 'New Montgomery Street', [37.787909, -122.4010664]),\n",
       " ('Clay Street', 'Van Ness Avenue', [37.7921793, -122.4227822]),\n",
       " (\"O'Farrell Street\", 'Van Ness Avenue', [37.7847623, -122.4212963]),\n",
       " ('Geary Street', 'Kearny Street', [37.7879767, -122.4035082]),\n",
       " ('Kearny Street', 'Kearny Street', [37.79755919999999, -122.4054381]),\n",
       " ('Clay Street', 'Polk Street', [37.7923909, -122.4210761]),\n",
       " ('Jackson Street', 'Polk Street', [37.7941507, -122.4214163]),\n",
       " ('Kearny Street', 'Post Street', [37.7889065, -122.4036866]),\n",
       " ('Pacific Avenue', 'Van Ness Avenue', None),\n",
       " ('Van Ness Avenue', 'Washington Street', [37.7930755, -122.422808]),\n",
       " ('Polk Street', 'Washington Street', [37.7932722, -122.4212389]),\n",
       " ('Bonita Street', 'Polk Street', [37.7973874, -122.4220709]),\n",
       " ('Bush Street', 'Taylor Street', [37.7897577, -122.412102]),\n",
       " ('Julia Street', 'Mission Street', [37.778053, -122.4124236]),\n",
       " ('6th Street', 'Mission Street', [37.7809745, -122.4087337]),\n",
       " ('McAllister Street', 'Van Ness Avenue', [37.7800953, -122.4201902]),\n",
       " ('Golden Gate Avenue', 'Van Ness Avenue', [37.7810463, -122.4203923]),\n",
       " ('Hayes Street', 'Van Ness Avenue', [37.7773125, -122.4196331]),\n",
       " ('Alice B. Toklas Place', 'Polk Street', [37.7854391, -122.419668]),\n",
       " ('Eddy Street', 'Leavenworth Street', [37.7837352, -122.4142647]),\n",
       " ('Ellis Street', 'Jones Street', [37.784875, -122.4128063]),\n",
       " ('Bush Street', 'Parking Entrance Lane', [37.7908821, -122.4015519]),\n",
       " ('Geary Street', 'Jones Street', [37.7867426, -122.4131825]),\n",
       " ('Larkin Street', 'Post Street', [37.7870509, -122.4183057]),\n",
       " ('Polk Street', 'Turk Street', [37.7821712, -122.4190094]),\n",
       " ('Geary Street', 'Larkin Street', [37.786119, -122.4181182]),\n",
       " ('Sutter Street', 'Taylor Street', [37.78880950000001, -122.4119083]),\n",
       " ('Larkin Street', \"O'Farrell Street\", None),\n",
       " ('Dr Carlton P Goodlett Place', 'Grove Street', [37.7784944, -122.4182568]),\n",
       " ('Larkin Street', 'Larkin Street', [37.7822605, -122.4130207]),\n",
       " ('Geary Street', 'Leavenworth Street', [37.7865325, -122.4148339]),\n",
       " ('Powell Street', 'Sutter Street', [37.7892337, -122.4086166]),\n",
       " ('Grove Street', 'Polk Street', [37.7784944, -122.4182568]),\n",
       " ('Leavenworth Street', 'Turk Street', [37.7827943, -122.4140676]),\n",
       " ('Golden Gate Avenue', 'Hyde Street', [37.7816678, -122.4155242]),\n",
       " ('Polk Street', 'Willow Street', [37.7835829, -122.4192937]),\n",
       " ('Taylor Street', 'Turk Street', [37.7832142, -122.4107842]),\n",
       " (\"O'Farrell Street\", 'Taylor Street', [37.7860127, -122.4113644]),\n",
       " ('Mason Street', 'Sutter Street', [37.7890236, -122.4102744]),\n",
       " ('Larkin Street', 'Turk Street', [37.7823865, -122.417359]),\n",
       " ('Bush Street', 'Jones Street', [37.7895396, -122.4137511]),\n",
       " ('Jones Street', 'Sutter Street', [37.7886086, -122.4135648]),\n",
       " ('Jones Street', 'Post Street', [37.78768170000001, -122.4133747]),\n",
       " ('Colin Place', 'Jones Street', [37.7873942, -122.4133176]),\n",
       " ('Antonio Street', 'Jones Street', [37.7853194, -122.4128958]),\n",
       " ('Clay Street', 'Montgomery Street', [37.7946786, -122.4031771]),\n",
       " ('Bush Street', 'Montgomery Street', [37.790976, -122.4024281]),\n",
       " ('Battery Street', 'Pine Street', [37.7922635, -122.3997971]),\n",
       " ('Battery Street', 'Washington Street', None),\n",
       " ('Stockton Street', 'Stockton Street', [37.7927714, -122.4076486]),\n",
       " ('Montgomery Street', 'Montgomery Street', [37.7887998, -122.4020053]),\n",
       " ('Montgomery Street', 'Verdi Place', [37.797867, -122.4038234]),\n",
       " ('Stockton Street', 'Stockton Tunnel', [37.7927714, -122.4076486]),\n",
       " ('11th Street', 'Mission Street', [37.7743325, -122.4171372]),\n",
       " ('Montgomery Street', 'Washington Street', [37.7955356, -122.4033268]),\n",
       " ('Jackson Street', 'Montgomery Street', [37.7964276, -122.4035182]),\n",
       " ('Hardie Place', 'Kearny Street', [37.7902722, -122.403981]),\n",
       " ('Hotaling Street', 'Washington Street', [37.7956019, -122.4027573]),\n",
       " ('Battery Street', 'Halleck Street', [37.7937021, -122.4000847]),\n",
       " ('Battery Street', 'California Street', [37.7932237, -122.3999893]),\n",
       " ('Montgomery Street', 'Pine Street', [37.7919106, -122.4025966]),\n",
       " ('Kearny Street', 'Nottingham Place', [37.79755919999999, -122.4054381]),\n",
       " ('Green Street', 'Stockton Street', [37.7994642, -122.40891]),\n",
       " ('Columbus Avenue', 'Kearny Street', [37.7969361, -122.4053194]),\n",
       " ('Polk Street', 'Redwood Street', [37.7807903, -122.41873]),\n",
       " ('26th Street', 'Mission Street', [37.749044, -122.4181659]),\n",
       " ('Olive Street', 'Polk Street', [37.784507, -122.4194781]),\n",
       " ('Myrtle Street', 'Van Ness Avenue', [37.785221, -122.4213855]),\n",
       " ('Fern Street', 'Van Ness Avenue', [37.7880441, -122.4218018]),\n",
       " ('Pine Street', 'Van Ness Avenue', [37.7894225, -122.4220832]),\n",
       " ('Fulton Street', 'Larkin Street', [37.779594, -122.4168277]),\n",
       " ('23rd Street', 'Valencia Street', [37.7537066, -122.4208358]),\n",
       " ('23rd Street', 'Capp Street', [37.7539117, -122.4175294]),\n",
       " ('17th Street', 'Bryant Street', [37.7643177, -122.4103838]),\n",
       " ('Hemlock Street', 'Van Ness Avenue', [37.7871072, -122.421611]),\n",
       " ('Annie Street', 'Jessie Street', [37.7872887, -122.401856]),\n",
       " ('Austin Street', 'Van Ness Avenue', [37.7889621, -122.4219902]),\n",
       " ('Alice B. Toklas Place', 'Van Ness Avenue', [37.7852444, -122.4212351]),\n",
       " ('Kearny Street', 'Maiden Lane', [37.7884376, -122.4035956]),\n",
       " ('Post Street', 'Post Street', [37.7879797, -122.4075169]),\n",
       " ('Broadway', 'Van Ness Avenue', None),\n",
       " ('Larkin Street', 'Washington Street', [37.7934841, -122.419605]),\n",
       " ('Jackson Street', 'Van Ness Avenue', [37.7939555, -122.4229958]),\n",
       " ('Polk Street', 'Vallejo Street', [37.7969013, -122.4219788]),\n",
       " ('Green Street', 'Polk Street', [37.7978373, -122.4221651]),\n",
       " ('Bush Street', 'Mason Street', [37.7899599, -122.4104554]),\n",
       " (\"Angelo's Alley\", 'Mission Street', [37.77813, -122.4123278]),\n",
       " ('7th Street', 'Mission Street', [37.7792143, -122.4109628]),\n",
       " ('Eddy Street', 'Van Ness Avenue', [37.7829102, -122.4207636]),\n",
       " ('Turk Street', 'Van Ness Avenue', [37.7819764, -122.4205794]),\n",
       " ('Grove Street', 'Van Ness Avenue', [37.7782787, -122.4198293]),\n",
       " ('Fell Street', 'Van Ness Avenue', [37.7763836, -122.4194447]),\n",
       " (\"O'Farrell Street\", 'Polk Street', [37.78497480000001, -122.419572]),\n",
       " ('Ellis Street', 'Leavenworth Street', [37.7846684, -122.4144517]),\n",
       " ('Eddy Street', 'Jones Street', [37.7839391, -122.4126225]),\n",
       " ('Bush Street', 'Chatham Place', [37.790473, -122.4063513]),\n",
       " ('Geary Street', 'Geary Street', [37.7856601, -122.4214764]),\n",
       " ('Meacham Place', 'Post Street', [37.7872141, -122.4170177]),\n",
       " ('Elm Street', 'Polk Street', [37.7817222, -122.4189219]),\n",
       " ('Geary Street', 'Polk Street', [37.7859036, -122.419754]),\n",
       " ('Golden Gate Avenue', 'Larkin Street', [37.7814608, -122.4171737]),\n",
       " ('Geary Street', 'Hyde Street', [37.78632899999999, -122.4164715]),\n",
       " ('Sutter Street', 'Sutter Street', [37.7873556, -122.4234272]),\n",
       " ('Dr Tom Waddell Place', 'Polk Street', [37.7779906, -122.4181585]),\n",
       " ('Hyde Street', 'McAllister Street', [37.7807062, -122.4153337]),\n",
       " ('Eddy Street', 'Polk Street', [37.7831079, -122.419195]),\n",
       " ('Grove Street', 'Larkin Street', [37.778684, -122.4166426]),\n",
       " ('Eddy Street', 'Taylor Street', [37.7841597, -122.4109775]),\n",
       " ('Geary Street', 'Taylor Street', [37.78694650000001, -122.4115479]),\n",
       " ('Mason Street', 'Mason Street', [37.6856228, -121.9104979]),\n",
       " ('Eddy Street', 'Larkin Street', None),\n",
       " ('Jones Street', 'Jones Street', [37.9192027, -122.0618294]),\n",
       " ('Commercial Street', 'Montgomery Street', [37.7942315, -122.4030656]),\n",
       " ('Montgomery Street', 'Sutter Street', [37.79004, -122.4022157]),\n",
       " ('Pine Street', 'Sansome Street', [37.7921137, -122.4009809]),\n",
       " ('Battery Street', 'Merchant Street', [37.7954607, -122.4004453]),\n",
       " ('Jackson Street', 'Stockton Street', [37.7958293, -122.4082803]),\n",
       " ('Kearny Street', 'Sutter Street', [37.78982740000001, -122.4038894]),\n",
       " ('Montgomery Street', 'Pacific Avenue', [37.7973059, -122.4036995]),\n",
       " ('Broadway', 'Montgomery Street', [37.7982343, -122.4038784]),\n",
       " ('Mission Street', 'Mission Street', [37.7634446, -122.4195422]),\n",
       " ('Bush Street', 'Kearny Street', [37.7907632, -122.4040735]),\n",
       " ('Columbus Avenue', 'Washington Street', [37.7955356, -122.4033268]),\n",
       " ('Kearny Street', 'Pine Street', [37.7916933, -122.4042585]),\n",
       " ('Broadway', 'Kearny Street', [37.7980203, -122.4055234]),\n",
       " ('Stockton Street', 'Union Street', [37.8004505, -122.4092074]),\n",
       " ('Columbus Avenue', 'Pacific Avenue', [37.7970734, -122.4055576]),\n",
       " ('Redwood Street', 'Van Ness Avenue', [37.7805845, -122.4202962])]"
      ]
     },
     "execution_count": 53,
     "metadata": {},
     "output_type": "execute_result"
    }
   ],
   "source": [
    "locations"
   ]
  },
  {
   "cell_type": "code",
   "execution_count": 55,
   "metadata": {},
   "outputs": [
    {
     "data": {
      "text/plain": [
       "[('Pine Street', 'Polk Street', None),\n",
       " ('Pacific Avenue', 'Van Ness Avenue', None),\n",
       " ('Larkin Street', \"O'Farrell Street\", None),\n",
       " ('Battery Street', 'Washington Street', None),\n",
       " ('Broadway', 'Van Ness Avenue', None),\n",
       " ('Eddy Street', 'Larkin Street', None)]"
      ]
     },
     "execution_count": 55,
     "metadata": {},
     "output_type": "execute_result"
    }
   ],
   "source": [
    "[loc for loc in locations if loc[2] is None]"
   ]
  },
  {
   "cell_type": "code",
   "execution_count": 66,
   "metadata": {},
   "outputs": [
    {
     "name": "stdout",
     "output_type": "stream",
     "text": [
      "Pine Street, Polk Street : [37.7896366, -122.4205069]\n",
      "Pacific Avenue, Van Ness Avenue : [37.79482429999999, -122.4231804]\n",
      "Larkin Street, O'Farrell Street : [37.7851838, -122.417931]\n",
      "Battery Street, Washington Street : [37.7958797, -122.400531]\n",
      "Broadway, Van Ness Avenue : [37.7957551, -122.4233565]\n",
      "Eddy Street, Larkin Street : [37.7833197, -122.4175497]\n"
     ]
    }
   ],
   "source": [
    "locs2 = []\n",
    "for intersection in [loc for loc in locations if loc[2] is None]:\n",
    "    geo_results = geocoder.google(\n",
    "        intersection[0] + ' & ' + intersection[1] + ', San Francisco, CA')\n",
    "    print(intersection[0] + ', ' + intersection[1] + ' : ' + str(geo_results.latlng))\n",
    "    locs2.append((intersection[0], intersection[1], geo_results.latlng))"
   ]
  },
  {
   "cell_type": "code",
   "execution_count": 68,
   "metadata": {},
   "outputs": [
    {
     "data": {
      "text/plain": [
       "[('Pine Street', 'Polk Street', [37.7896366, -122.4205069]),\n",
       " ('Pacific Avenue', 'Van Ness Avenue', [37.79482429999999, -122.4231804]),\n",
       " ('Larkin Street', \"O'Farrell Street\", [37.7851838, -122.417931]),\n",
       " ('Battery Street', 'Washington Street', [37.7958797, -122.400531]),\n",
       " ('Broadway', 'Van Ness Avenue', [37.7957551, -122.4233565]),\n",
       " ('Eddy Street', 'Larkin Street', [37.7833197, -122.4175497])]"
      ]
     },
     "execution_count": 68,
     "metadata": {},
     "output_type": "execute_result"
    }
   ],
   "source": [
    "locs2"
   ]
  },
  {
   "cell_type": "code",
   "execution_count": 57,
   "metadata": {},
   "outputs": [],
   "source": [
    "non_none_locs = [(loc[0], loc[1], loc[2][0], loc[2][1]) for loc in locations if loc[2] is not None]"
   ]
  },
  {
   "cell_type": "code",
   "execution_count": 69,
   "metadata": {},
   "outputs": [],
   "source": [
    "none_locs = [(loc[0], loc[1], loc[2][0], loc[2][1]) for loc in locs2 if loc[2] is not None]"
   ]
  },
  {
   "cell_type": "code",
   "execution_count": 72,
   "metadata": {},
   "outputs": [],
   "source": [
    "intersections_df = pd.DataFrame(non_none_locs + none_locs, \n",
    "             columns=['Street1', 'Street2', 'latitude', 'longitude'])"
   ]
  },
  {
   "cell_type": "code",
   "execution_count": 75,
   "metadata": {},
   "outputs": [],
   "source": [
    "intersections_df.to_csv('../intersection_locations.csv', index = False)"
   ]
  },
  {
   "cell_type": "code",
   "execution_count": 106,
   "metadata": {},
   "outputs": [
    {
     "ename": "TypeError",
     "evalue": "cannot concatenate object of type \"<class 'numpy.ndarray'>\"; only pd.Series, pd.DataFrame, and pd.Panel (deprecated) objs are valid",
     "output_type": "error",
     "traceback": [
      "\u001b[0;31m---------------------------------------------------------------------------\u001b[0m",
      "\u001b[0;31mTypeError\u001b[0m                                 Traceback (most recent call last)",
      "\u001b[0;32m<ipython-input-106-25efdacc3919>\u001b[0m in \u001b[0;36m<module>\u001b[0;34m()\u001b[0m\n\u001b[1;32m      1\u001b[0m intersections_df2 = pd.concat([intersections_df, \n\u001b[0;32m----> 2\u001b[0;31m            intersections_df.reindex(columns=['Street2', 'Street1', 'latitude', 'longitude'])[['Street1', 'Street2', 'latitude', 'longitude']].values])\\\n\u001b[0m\u001b[1;32m      3\u001b[0m     \u001b[0;34m.\u001b[0m\u001b[0mreset_index\u001b[0m\u001b[0;34m(\u001b[0m\u001b[0mdrop\u001b[0m \u001b[0;34m=\u001b[0m \u001b[0;32mTrue\u001b[0m\u001b[0;34m)\u001b[0m\u001b[0;34m\u001b[0m\u001b[0m\n",
      "\u001b[0;32m~/anaconda2/envs/fastai/lib/python3.6/site-packages/pandas/core/reshape/concat.py\u001b[0m in \u001b[0;36mconcat\u001b[0;34m(objs, axis, join, join_axes, ignore_index, keys, levels, names, verify_integrity, copy)\u001b[0m\n\u001b[1;32m    210\u001b[0m                        \u001b[0mkeys\u001b[0m\u001b[0;34m=\u001b[0m\u001b[0mkeys\u001b[0m\u001b[0;34m,\u001b[0m \u001b[0mlevels\u001b[0m\u001b[0;34m=\u001b[0m\u001b[0mlevels\u001b[0m\u001b[0;34m,\u001b[0m \u001b[0mnames\u001b[0m\u001b[0;34m=\u001b[0m\u001b[0mnames\u001b[0m\u001b[0;34m,\u001b[0m\u001b[0;34m\u001b[0m\u001b[0m\n\u001b[1;32m    211\u001b[0m                        \u001b[0mverify_integrity\u001b[0m\u001b[0;34m=\u001b[0m\u001b[0mverify_integrity\u001b[0m\u001b[0;34m,\u001b[0m\u001b[0;34m\u001b[0m\u001b[0m\n\u001b[0;32m--> 212\u001b[0;31m                        copy=copy)\n\u001b[0m\u001b[1;32m    213\u001b[0m     \u001b[0;32mreturn\u001b[0m \u001b[0mop\u001b[0m\u001b[0;34m.\u001b[0m\u001b[0mget_result\u001b[0m\u001b[0;34m(\u001b[0m\u001b[0;34m)\u001b[0m\u001b[0;34m\u001b[0m\u001b[0m\n\u001b[1;32m    214\u001b[0m \u001b[0;34m\u001b[0m\u001b[0m\n",
      "\u001b[0;32m~/anaconda2/envs/fastai/lib/python3.6/site-packages/pandas/core/reshape/concat.py\u001b[0m in \u001b[0;36m__init__\u001b[0;34m(self, objs, axis, join, join_axes, keys, levels, names, ignore_index, verify_integrity, copy)\u001b[0m\n\u001b[1;32m    270\u001b[0m                        \u001b[0;34m' only pd.Series, pd.DataFrame, and pd.Panel'\u001b[0m\u001b[0;34m\u001b[0m\u001b[0m\n\u001b[1;32m    271\u001b[0m                        ' (deprecated) objs are valid'.format(type(obj)))\n\u001b[0;32m--> 272\u001b[0;31m                 \u001b[0;32mraise\u001b[0m \u001b[0mTypeError\u001b[0m\u001b[0;34m(\u001b[0m\u001b[0mmsg\u001b[0m\u001b[0;34m)\u001b[0m\u001b[0;34m\u001b[0m\u001b[0m\n\u001b[0m\u001b[1;32m    273\u001b[0m \u001b[0;34m\u001b[0m\u001b[0m\n\u001b[1;32m    274\u001b[0m             \u001b[0;31m# consolidate\u001b[0m\u001b[0;34m\u001b[0m\u001b[0;34m\u001b[0m\u001b[0m\n",
      "\u001b[0;31mTypeError\u001b[0m: cannot concatenate object of type \"<class 'numpy.ndarray'>\"; only pd.Series, pd.DataFrame, and pd.Panel (deprecated) objs are valid"
     ]
    }
   ],
   "source": [
    "intersections_df2 = pd.concat([intersections_df, \n",
    "           intersections_df.reindex(columns=['Street2', 'Street1', 'latitude', 'longitude'])[['Street1', 'Street2', 'latitude', 'longitude']])\\\n",
    "    .reset_index(drop = True)"
   ]
  },
  {
   "cell_type": "code",
   "execution_count": 115,
   "metadata": {},
   "outputs": [],
   "source": [
    "intersections_df2.drop_duplicates().to_csv('../intersection_locations.csv', index = False)"
   ]
  },
  {
   "cell_type": "code",
   "execution_count": 104,
   "metadata": {},
   "outputs": [
    {
     "data": {
      "text/html": [
       "<div>\n",
       "<style scoped>\n",
       "    .dataframe tbody tr th:only-of-type {\n",
       "        vertical-align: middle;\n",
       "    }\n",
       "\n",
       "    .dataframe tbody tr th {\n",
       "        vertical-align: top;\n",
       "    }\n",
       "\n",
       "    .dataframe thead th {\n",
       "        text-align: right;\n",
       "    }\n",
       "</style>\n",
       "<table border=\"1\" class=\"dataframe\">\n",
       "  <thead>\n",
       "    <tr style=\"text-align: right;\">\n",
       "      <th></th>\n",
       "      <th>latitude</th>\n",
       "      <th>longitude</th>\n",
       "    </tr>\n",
       "    <tr>\n",
       "      <th>Street2</th>\n",
       "      <th></th>\n",
       "      <th></th>\n",
       "    </tr>\n",
       "  </thead>\n",
       "  <tbody>\n",
       "    <tr>\n",
       "      <th>Mission Street</th>\n",
       "      <td>37.763445</td>\n",
       "      <td>-122.419542</td>\n",
       "    </tr>\n",
       "    <tr>\n",
       "      <th>Mission Street</th>\n",
       "      <td>37.763445</td>\n",
       "      <td>-122.419542</td>\n",
       "    </tr>\n",
       "  </tbody>\n",
       "</table>\n",
       "</div>"
      ],
      "text/plain": [
       "                 latitude   longitude\n",
       "Street2                              \n",
       "Mission Street  37.763445 -122.419542\n",
       "Mission Street  37.763445 -122.419542"
      ]
     },
     "execution_count": 104,
     "metadata": {},
     "output_type": "execute_result"
    }
   ],
   "source": [
    "intersections_df2.set_index(['Street1', 'Street2']).loc['Mission Street']"
   ]
  },
  {
   "cell_type": "code",
   "execution_count": 113,
   "metadata": {},
   "outputs": [
    {
     "data": {
      "text/plain": [
       "10"
      ]
     },
     "execution_count": 113,
     "metadata": {},
     "output_type": "execute_result"
    }
   ],
   "source": [
    "np.sum(intersections_df2['Street1'] == 'Mission Street')"
   ]
  },
  {
   "cell_type": "code",
   "execution_count": 112,
   "metadata": {},
   "outputs": [],
   "source": [
    "intersections_df2 = pd.DataFrame(np.concatenate([intersections_df.values, \n",
    "                intersections_df.values[:,[1,0,2,3]]], axis = 0),\n",
    "            columns = ['Street1', 'Street2', 'latitude', 'longitude'])"
   ]
  },
  {
   "cell_type": "code",
   "execution_count": 3,
   "metadata": {},
   "outputs": [],
   "source": [
    "x = geocoder.google('Jones Street & Jones Street, San Francisco, CA')"
   ]
  },
  {
   "cell_type": "code",
   "execution_count": 4,
   "metadata": {},
   "outputs": [
    {
     "data": {
      "text/plain": [
       "[37.9192027, -122.0618294]"
      ]
     },
     "execution_count": 4,
     "metadata": {},
     "output_type": "execute_result"
    }
   ],
   "source": [
    "x.latlng"
   ]
  },
  {
   "cell_type": "code",
   "execution_count": 5,
   "metadata": {},
   "outputs": [
    {
     "data": {
      "text/plain": [
       "[37.6856228, -121.9104979]"
      ]
     },
     "execution_count": 5,
     "metadata": {},
     "output_type": "execute_result"
    }
   ],
   "source": [
    "x2 = geocoder.google('Mason Street & Mason Street, San Francisco, CA')\n",
    "x2.latlng"
   ]
  },
  {
   "cell_type": "code",
   "execution_count": null,
   "metadata": {},
   "outputs": [],
   "source": []
  }
 ],
 "metadata": {
  "kernelspec": {
   "display_name": "Python 3",
   "language": "python",
   "name": "python3"
  },
  "language_info": {
   "codemirror_mode": {
    "name": "ipython",
    "version": 3
   },
   "file_extension": ".py",
   "mimetype": "text/x-python",
   "name": "python",
   "nbconvert_exporter": "python",
   "pygments_lexer": "ipython3",
   "version": "3.6.3"
  }
 },
 "nbformat": 4,
 "nbformat_minor": 2
}

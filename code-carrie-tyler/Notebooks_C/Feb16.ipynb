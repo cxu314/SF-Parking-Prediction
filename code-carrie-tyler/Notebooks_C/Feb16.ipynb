{
 "cells": [
  {
   "cell_type": "code",
   "execution_count": 1,
   "metadata": {
    "collapsed": true
   },
   "outputs": [],
   "source": [
    "#Fastai imports --> they include a lot of the things we need\n",
    "%load_ext autoreload\n",
    "%autoreload 2\n",
    "%matplotlib inline\n",
    "import sys\n",
    "sys.path.append('/Users/chuanxu/fastai')\n",
    "from fastai.imports import *\n",
    "from fastai.structured import *\n",
    "from pandas_summary import DataFrameSummary\n",
    "from sklearn.ensemble import RandomForestRegressor, RandomForestClassifier\n",
    "from IPython.display import display\n",
    "from sklearn import metrics\n",
    "import holidays\n",
    "import geocoder\n",
    "import torch\n",
    "from sklearn.ensemble import RandomForestClassifier\n",
    "from sklearn.metrics import fbeta_score"
   ]
  },
  {
   "cell_type": "code",
   "execution_count": 2,
   "metadata": {
    "collapsed": true
   },
   "outputs": [],
   "source": [
    "intersection_latlng = {'23rd Street & Bartlett Street': [37.7537794, -122.4197291],\n",
    " '23rd Street & Capp Street': [37.7538455, -122.4186194],\n",
    " '23rd Street & Mission Street': [37.7538455, -122.4186194],\n",
    " '23rd Street & South Van Ness Avenue': [37.753976, -122.4164407],\n",
    " '23rd Street & Valencia Street': [37.7537066, -122.4208358],\n",
    " 'Battery Street & California Street': [37.7932237, -122.3999893],\n",
    " 'Battery Street & Halleck Street': [37.7538455, -122.4186194],\n",
    " 'Battery Street & Merchant Street': [37.7954607, -122.4004453],\n",
    " 'Battery Street & Pine Street': [37.7922635, -122.3997971],\n",
    " 'Battery Street & Washington Street': [37.7958797, -122.400531],\n",
    " 'Bryant Street & 17th Street': [37.7643177, -122.4103838],\n",
    " 'Bryant Street & Mariposa Street': [37.7630423, -122.4102673],\n",
    " 'Bush Street & Chatham Place': [37.790473, -122.4063513],\n",
    " 'Bush Street & Mason Street': [37.7899599, -122.4104554],\n",
    " 'Bush Street & Parking Entrance Lane': [37.7908821, -122.4015519],\n",
    " 'Bush Street & Taylor Street': [37.7897577, -122.412102],\n",
    " 'Columbus Avenue & Kearny Street': [37.7538455, -122.4186194],\n",
    " 'Columbus Avenue & Pacific Avenue': [37.7538455, -122.4186194],\n",
    " 'Geary Street': [37.781461, -122.4561109],\n",
    " 'Geary Street & Hyde Street': [37.7538455, -122.4186194],\n",
    " 'Geary Street & Jones Street': [37.7867426, -122.4131825],\n",
    " 'Geary Street & Larkin Street': [37.7538455, -122.4186194],\n",
    " 'Geary Street & Leavenworth Street': [37.7865325, -122.4148339],\n",
    " 'Geary Street & Polk Street': [37.7859036, -122.419754],\n",
    " 'Grove Street & Dr Carlton P Goodlett Place': [37.7784944, -122.4182568],\n",
    " 'Grove Street & Larkin Street': [37.778684, -122.4166426],\n",
    " 'Grove Street & Van Ness Avenue': [37.7782787, -122.4198293],\n",
    " 'Hyde Street & Golden Gate Avenue': [37.7816678, -122.4155242],\n",
    " 'Hyde Street & McAllister Street': [37.7807062, -122.4153337],\n",
    " 'Jackson Street & Polk Street': [37.7538455, -122.4186194],\n",
    " 'Jackson Street & Van Ness Avenue': [37.7939555, -122.4229958],\n",
    " 'Jessie Street & Annie Street': [37.7872887, -122.401856],\n",
    " 'Jessie Street & New Montgomery Street': [37.787909, -122.4010664],\n",
    " 'Jones Street': [37.7945714, -122.414764],\n",
    " 'Jones Street & Antonio Street': [37.7853194, -122.4128958],\n",
    " 'Jones Street & Bush Street': [37.7538455, -122.4186194],\n",
    " 'Jones Street & Colin Place': [37.7873942, -122.4133176],\n",
    " 'Jones Street & Eddy Street': [37.7538455, -122.4186194],\n",
    " 'Jones Street & Ellis Street': [37.7538455, -122.4186194],\n",
    " 'Jones Street & Geary Street': [37.7538455, -122.4186194],\n",
    " 'Jones Street & Post Street': [37.7538455, -122.4186194],\n",
    " 'Jones Street & Sutter Street': [37.7538455, -122.4186194],\n",
    " 'Kearny Street': [37.79755919999999, -122.4054381],\n",
    " 'Kearny Street & Broadway': [37.7980203, -122.4055234],\n",
    " 'Kearny Street & Bush Street': [37.7538455, -122.4186194],\n",
    " 'Kearny Street & Columbus Avenue': [37.7969361, -122.4053194],\n",
    " 'Kearny Street & Geary Street': [37.7879767, -122.4035082],\n",
    " 'Kearny Street & Hardie Place': [37.7902722, -122.403981],\n",
    " 'Kearny Street & Maiden Lane': [37.7884376, -122.4035956],\n",
    " 'Kearny Street & Nottingham Place': [37.79755919999999, -122.4054381],\n",
    " 'Kearny Street & Post Street': [37.7889065, -122.4036866],\n",
    " 'Kearny Street & Sutter Street': [37.78982740000001, -122.4038894],\n",
    " 'Larkin Street': [37.7919467, -122.4192925],\n",
    " 'Larkin Street & Cedar Street': [37.7538455, -122.4186194],\n",
    " 'Larkin Street & Eddy Street': [37.7833197, -122.4175497],\n",
    " 'Larkin Street & Fulton Street': [37.779594, -122.4168277],\n",
    " 'Larkin Street & Geary Street': [37.786119, -122.4181182],\n",
    " 'Larkin Street & Golden Gate Avenue': [37.7538455, -122.4186194],\n",
    " 'Larkin Street & McAllister Street': [37.7538455, -122.4186194],\n",
    " 'Larkin Street & Myrtle Street': [37.7856499, -122.4180244],\n",
    " \"Larkin Street & O'Farrell Street\": [37.7851838, -122.417931],\n",
    " 'Larkin Street & Post Street': [37.7870509, -122.4183057],\n",
    " 'Larkin Street & Sutter Street': [37.7879799, -122.4184982],\n",
    " 'Larkin Street & Turk Street': [37.7538455, -122.4186194],\n",
    " 'Leavenworth Street & Eddy Street': [37.7837352, -122.4142647],\n",
    " 'Leavenworth Street & Ellis Street': [37.7846684, -122.4144517],\n",
    " 'Leavenworth Street & Turk Street': [37.7827943, -122.4140676],\n",
    " 'Mason Street': [37.7538455, -122.4186194],\n",
    " 'Mason Street & Sutter Street': [37.7538455, -122.4186194],\n",
    " 'Mission Street': [37.7385782, -122.423994],\n",
    " 'Mission Street & 11th Street': [37.7538455, -122.4186194],\n",
    " 'Mission Street & 25th Street': [37.7538455, -122.4186194],\n",
    " 'Mission Street & 26th Street': [37.749044, -122.4181659],\n",
    " 'Mission Street & 6th Street': [37.7809745, -122.4087337],\n",
    " 'Mission Street & 7th Street': [37.7538455, -122.4186194],\n",
    " \"Mission Street & Angelo's Alley\": [37.7538455, -122.4186194],\n",
    " 'Mission Street & Julia Street': [37.778053, -122.4124236],\n",
    " 'Montgomery Street': [37.7538455, -122.4186194],\n",
    " 'Montgomery Street & Broadway': [37.7982343, -122.4038784],\n",
    " 'Montgomery Street & Bush Street': [37.790976, -122.4024281],\n",
    " 'Montgomery Street & Clay Street': [37.7946786, -122.4031771],\n",
    " 'Montgomery Street & Commercial Street': [37.7538455, -122.4186194],\n",
    " 'Montgomery Street & Jackson Street': [37.7964276, -122.4035182],\n",
    " 'Montgomery Street & Pacific Avenue': [37.7538455, -122.4186194],\n",
    " 'Montgomery Street & Sutter Street': [37.79004, -122.4022157],\n",
    " 'Montgomery Street & Verdi Place': [37.7894069, -122.4010673],\n",
    " 'Montgomery Street & Washington Street': [37.7538455, -122.4186194],\n",
    " 'Pine Street & Battery Street': [37.7922635, -122.3997971],\n",
    " 'Pine Street & Kearny Street': [37.7916933, -122.4042585],\n",
    " 'Pine Street & Larkin Street': [37.7538455, -122.4186194],\n",
    " 'Pine Street & Montgomery Street': [37.7919106, -122.4025966],\n",
    " 'Pine Street & Polk Street': [37.7896366, -122.4205069],\n",
    " 'Pine Street & Sansome Street': [37.7921137, -122.4009809],\n",
    " 'Pine Street & Van Ness Avenue': [37.7538455, -122.4186194],\n",
    " 'Polk Street & Alice B. Toklas Place': [37.7854391, -122.419668],\n",
    " 'Polk Street & Bonita Street': [37.7538455, -122.4186194],\n",
    " 'Polk Street & Clay Street': [37.7923909, -122.4210761],\n",
    " 'Polk Street & Dr Tom Waddell Place': [37.7779906, -122.4181585],\n",
    " 'Polk Street & Eddy Street': [37.7831079, -122.419195],\n",
    " 'Polk Street & Ellis Street': [37.7840397, -122.4193807],\n",
    " 'Polk Street & Elm Street': [37.7914361, -122.4208795],\n",
    " 'Polk Street & Green Street': [37.7914361, -122.4208795],\n",
    " 'Polk Street & Grove Street': [37.7538455, -122.4186194],\n",
    " 'Polk Street & Jackson Street': [37.7538455, -122.4186194],\n",
    " \"Polk Street & O'Farrell Street\": [37.78497480000001, -122.419572],\n",
    " 'Polk Street & Olive Street': [37.7538455, -122.4186194],\n",
    " 'Polk Street & Turk Street': [37.7821712, -122.4190094],\n",
    " 'Polk Street & Vallejo Street': [37.7538455, -122.4186194],\n",
    " 'Polk Street & Washington Street': [37.7932722, -122.4212389],\n",
    " 'Polk Street & Willow Street': [37.7538455, -122.4186194],\n",
    " 'Post Street': [37.7863214, -122.4241385],\n",
    " 'Post Street & Kearny Street': [37.7889065, -122.4036866],\n",
    " 'Post Street & Larkin Street': [37.7870509, -122.4183057],\n",
    " 'Post Street & Meacham Place': [37.7872141, -122.4170177],\n",
    " 'Redwood Street & Polk Street': [37.7538455, -122.4186194],\n",
    " 'Redwood Street & Van Ness Avenue': [37.7805845, -122.4202962],\n",
    " 'Stockton Street': [37.7967103, -122.4084529],\n",
    " 'Stockton Street & Green Street': [37.7967103, -122.4084529],\n",
    " 'Stockton Street & Jackson Street': [37.7538455, -122.4186194],\n",
    " 'Stockton Street & Stockton Tunnel': [37.7927714, -122.4076486],\n",
    " 'Stockton Street & Union Street': [37.8004505, -122.4092074],\n",
    " 'Sutter Street': [37.7873556, -122.4234272],\n",
    " 'Sutter Street & Mason Street': [37.7890236, -122.4102744],\n",
    " 'Sutter Street & Powell Street': [37.7892337, -122.4086166],\n",
    " 'Sutter Street & Taylor Street': [37.7538455, -122.4186194],\n",
    " 'Taylor Street & Bush Street': [37.7897577, -122.412102],\n",
    " 'Taylor Street & Eddy Street': [37.7538455, -122.4186194],\n",
    " 'Taylor Street & Geary Street': [37.78694650000001, -122.4115479],\n",
    " \"Taylor Street & O'Farrell Street\": [37.7538455, -122.4186194],\n",
    " 'Taylor Street & Sutter Street': [37.78880950000001, -122.4119083],\n",
    " 'Taylor Street & Turk Street': [37.7832142, -122.4107842],\n",
    " 'Van Ness Avenue': [37.7917022, -122.4226899],\n",
    " 'Van Ness Avenue & Alice B. Toklas Place': [37.7538455, -122.4186194],\n",
    " 'Van Ness Avenue & Austin Street': [37.7538455, -122.4186194],\n",
    " 'Van Ness Avenue & Broadway': [37.7957551, -122.4233565],\n",
    " 'Van Ness Avenue & Bush Street': [37.7538455, -122.4186194],\n",
    " 'Van Ness Avenue & Clay Street': [37.7921793, -122.4227822],\n",
    " 'Van Ness Avenue & Daniel Burnham Court': [37.7870844, -122.4217571],\n",
    " 'Van Ness Avenue & Eddy Street': [37.7538455, -122.4186194],\n",
    " 'Van Ness Avenue & Fell Street': [37.7763836, -122.4194447],\n",
    " 'Van Ness Avenue & Fern Street': [37.7538455, -122.4186194],\n",
    " 'Van Ness Avenue & Geary Boulevard': [37.7856601, -122.4214764],\n",
    " 'Van Ness Avenue & Golden Gate Avenue': [37.7810463, -122.4203923],\n",
    " 'Van Ness Avenue & Grove Street': [37.7538455, -122.4186194],\n",
    " 'Van Ness Avenue & Hayes Street': [37.7773125, -122.4196331],\n",
    " 'Van Ness Avenue & Hemlock Street': [37.7538455, -122.4186194],\n",
    " 'Van Ness Avenue & McAllister Street': [37.7800953, -122.4201902],\n",
    " 'Van Ness Avenue & Myrtle Street': [37.7538455, -122.4186194],\n",
    " \"Van Ness Avenue & O'Farrell Street\": [37.7847623, -122.4212963],\n",
    " 'Van Ness Avenue & Pacific Avenue': [37.7538455, -122.4186194],\n",
    " 'Van Ness Avenue & Post Street': [37.7538455, -122.4186194],\n",
    " 'Van Ness Avenue & Turk Street': [37.7819764, -122.4205794],\n",
    " 'Van Ness Avenue & Washington Street': [37.7930755, -122.422808],\n",
    " 'Washington Street & Columbus Avenue': [37.7955356, -122.4033268],\n",
    " 'Washington Street & Hotaling Street': [37.7956019, -122.4027573],\n",
    " 'Washington Street & Larkin Street': [37.7934841, -122.419605],\n",
    " 'Washington Street & Polk Street': [37.7932722, -122.4212389],\n",
    " 'Washington Street & Van Ness Avenue': [37.7930755, -122.422808]}"
   ]
  },
  {
   "cell_type": "code",
   "execution_count": 3,
   "metadata": {
    "collapsed": true
   },
   "outputs": [],
   "source": [
    "data = pd.read_csv('data/train-parking.csv')\n",
    "data['id'] = [i+1 for i in range(data.shape[0])]\n",
    "test = pd.read_csv('data/test-no-labels-with-id.csv')\n",
    "\n",
    "data = data.rename(index=str, columns = {'Real.Spots':'Real_Spots', 'Street.Length':'Street_Length'})\n",
    "test = test.rename(index=str, columns = {'Real.Spots':'Real_Spots', 'Street.Length':'Street_Length'})"
   ]
  },
  {
   "cell_type": "markdown",
   "metadata": {},
   "source": [
    "### get some features"
   ]
  },
  {
   "cell_type": "markdown",
   "metadata": {},
   "source": [
    "#### info from sensor"
   ]
  },
  {
   "cell_type": "code",
   "execution_count": 4,
   "metadata": {
    "collapsed": true
   },
   "outputs": [],
   "source": [
    "data_vacant_total = pd.read_pickle('data/data_vacant_total')\n",
    "test_vacant_total = pd.read_pickle('data/test_vacant_total')"
   ]
  },
  {
   "cell_type": "code",
   "execution_count": 5,
   "metadata": {
    "collapsed": true
   },
   "outputs": [],
   "source": [
    "data['vacant_total'] = data['id'].map(data_vacant_total)\n",
    "test['vacant_total'] = test['id'].map(test_vacant_total)"
   ]
  },
  {
   "cell_type": "code",
   "execution_count": 6,
   "metadata": {
    "collapsed": true
   },
   "outputs": [],
   "source": [
    "def get_intersection(df):\n",
    "    data = df.copy()\n",
    "    data['Street_From'] = data['Street'] + ' & ' + data['From'] \n",
    "    data['Street_To'] = data['Street'] + ' & ' + data['To'] \n",
    "\n",
    "    data.loc[data['Street'] == data['From'], 'Street_From'] = data.loc[data['Street'] == data['From'], 'Street']\n",
    "    data.loc[data['Street'] == data['To'], 'Street_To'] = data.loc[data['Street'] == data['To'], 'Street']\n",
    "    return data"
   ]
  },
  {
   "cell_type": "code",
   "execution_count": 7,
   "metadata": {
    "collapsed": true
   },
   "outputs": [],
   "source": [
    "def change_to_latlng(data, col):\n",
    "    df = data.copy()\n",
    "    col_lat = '%s_lat' % col\n",
    "    col_lng = '%s_lng' % col\n",
    "    df[col_lat] = df[col].map(lambda x:intersection_latlng[x][0])\n",
    "    df[col_lng] = df[col].map(lambda x:intersection_latlng[x][1])\n",
    "    return df"
   ]
  },
  {
   "cell_type": "code",
   "execution_count": 8,
   "metadata": {
    "collapsed": true
   },
   "outputs": [],
   "source": [
    "def get_date_features(df):\n",
    "    us_holidays = holidays.US()\n",
    "    df['datetime'] = pd.to_datetime(df['Date'], format = '%m/%d/%Y')\n",
    "    df['weekday'] = df['datetime'].dt.weekday\n",
    "    df['holidays'] = df['datetime'].map(lambda x:int(x in us_holidays))\n",
    "    \n",
    "    df['daytime'] = pd.to_datetime(df['Time'], format = '%H:%M')\n",
    "    df['hour'] = df['daytime'].dt.hour\n",
    "    return df"
   ]
  },
  {
   "cell_type": "code",
   "execution_count": 9,
   "metadata": {
    "collapsed": true
   },
   "outputs": [],
   "source": [
    "street_cols1 = ['Street', 'From', 'To']\n",
    "street_cols2 = ['Street_From', 'Street_To']\n",
    "time_columns = ['Date', 'Time', 'datetime', 'daytime', 'hour', 'weekday', 'holidays']\n",
    "time_i_dont_want = ['Date', 'Time', 'datetime', 'daytime']"
   ]
  },
  {
   "cell_type": "code",
   "execution_count": 10,
   "metadata": {
    "collapsed": true
   },
   "outputs": [],
   "source": [
    "data = get_intersection(data)\n",
    "test = get_intersection(test)"
   ]
  },
  {
   "cell_type": "code",
   "execution_count": 11,
   "metadata": {
    "collapsed": true
   },
   "outputs": [],
   "source": [
    "for col in street_cols2:\n",
    "    data = change_to_latlng(data, col)\n",
    "    test = change_to_latlng(test, col)"
   ]
  },
  {
   "cell_type": "code",
   "execution_count": 12,
   "metadata": {
    "collapsed": true
   },
   "outputs": [],
   "source": [
    "data = get_date_features(data)\n",
    "test = get_date_features(test)"
   ]
  },
  {
   "cell_type": "code",
   "execution_count": 13,
   "metadata": {},
   "outputs": [
    {
     "data": {
      "text/html": [
       "<div>\n",
       "<style>\n",
       "    .dataframe thead tr:only-child th {\n",
       "        text-align: right;\n",
       "    }\n",
       "\n",
       "    .dataframe thead th {\n",
       "        text-align: left;\n",
       "    }\n",
       "\n",
       "    .dataframe tbody tr th {\n",
       "        vertical-align: top;\n",
       "    }\n",
       "</style>\n",
       "<table border=\"1\" class=\"dataframe\">\n",
       "  <thead>\n",
       "    <tr style=\"text-align: right;\">\n",
       "      <th></th>\n",
       "      <th>0</th>\n",
       "      <th>1</th>\n",
       "      <th>2</th>\n",
       "      <th>3</th>\n",
       "      <th>4</th>\n",
       "      <th>5</th>\n",
       "      <th>6</th>\n",
       "      <th>7</th>\n",
       "      <th>8</th>\n",
       "      <th>9</th>\n",
       "      <th>...</th>\n",
       "      <th>1090</th>\n",
       "      <th>1091</th>\n",
       "      <th>1092</th>\n",
       "      <th>1093</th>\n",
       "      <th>1094</th>\n",
       "      <th>1095</th>\n",
       "      <th>1096</th>\n",
       "      <th>1097</th>\n",
       "      <th>1098</th>\n",
       "      <th>1099</th>\n",
       "    </tr>\n",
       "  </thead>\n",
       "  <tbody>\n",
       "    <tr>\n",
       "      <th>Street</th>\n",
       "      <td>Mission Street</td>\n",
       "      <td>Polk Street</td>\n",
       "      <td>Van Ness Avenue</td>\n",
       "      <td>Van Ness Avenue</td>\n",
       "      <td>Van Ness Avenue</td>\n",
       "      <td>Larkin Street</td>\n",
       "      <td>Pine Street</td>\n",
       "      <td>Pine Street</td>\n",
       "      <td>Larkin Street</td>\n",
       "      <td>Van Ness Avenue</td>\n",
       "      <td>...</td>\n",
       "      <td>Polk Street</td>\n",
       "      <td>Polk Street</td>\n",
       "      <td>Van Ness Avenue</td>\n",
       "      <td>Van Ness Avenue</td>\n",
       "      <td>Van Ness Avenue</td>\n",
       "      <td>Van Ness Avenue</td>\n",
       "      <td>Larkin Street</td>\n",
       "      <td>Larkin Street</td>\n",
       "      <td>Leavenworth Street</td>\n",
       "      <td>Leavenworth Street</td>\n",
       "    </tr>\n",
       "    <tr>\n",
       "      <th>From</th>\n",
       "      <td>25th Street</td>\n",
       "      <td>Ellis Street</td>\n",
       "      <td>Geary Boulevard</td>\n",
       "      <td>Bush Street</td>\n",
       "      <td>Daniel Burnham Court</td>\n",
       "      <td>Cedar Street</td>\n",
       "      <td>Larkin Street</td>\n",
       "      <td>Polk Street</td>\n",
       "      <td>Myrtle Street</td>\n",
       "      <td>Van Ness Avenue</td>\n",
       "      <td>...</td>\n",
       "      <td>Grove Street</td>\n",
       "      <td>Grove Street</td>\n",
       "      <td>Van Ness Avenue</td>\n",
       "      <td>Golden Gate Avenue</td>\n",
       "      <td>Van Ness Avenue</td>\n",
       "      <td>Van Ness Avenue</td>\n",
       "      <td>Sutter Street</td>\n",
       "      <td>Sutter Street</td>\n",
       "      <td>Turk Street</td>\n",
       "      <td>Turk Street</td>\n",
       "    </tr>\n",
       "    <tr>\n",
       "      <th>To</th>\n",
       "      <td>26th Street</td>\n",
       "      <td>Olive Street</td>\n",
       "      <td>Myrtle Street</td>\n",
       "      <td>Fern Street</td>\n",
       "      <td>Post Street</td>\n",
       "      <td>Post Street</td>\n",
       "      <td>Polk Street</td>\n",
       "      <td>Van Ness Avenue</td>\n",
       "      <td>Geary Street</td>\n",
       "      <td>Bush Street</td>\n",
       "      <td>...</td>\n",
       "      <td>Dr Tom Waddell Place</td>\n",
       "      <td>Dr Tom Waddell Place</td>\n",
       "      <td>Fell Street</td>\n",
       "      <td>Van Ness Avenue</td>\n",
       "      <td>Golden Gate Avenue</td>\n",
       "      <td>Bush Street</td>\n",
       "      <td>Larkin Street</td>\n",
       "      <td>Larkin Street</td>\n",
       "      <td>Eddy Street</td>\n",
       "      <td>Eddy Street</td>\n",
       "    </tr>\n",
       "    <tr>\n",
       "      <th>Date</th>\n",
       "      <td>1/7/2014</td>\n",
       "      <td>1/18/2014</td>\n",
       "      <td>1/18/2014</td>\n",
       "      <td>1/18/2014</td>\n",
       "      <td>1/18/2014</td>\n",
       "      <td>1/18/2014</td>\n",
       "      <td>1/18/2014</td>\n",
       "      <td>1/18/2014</td>\n",
       "      <td>1/18/2014</td>\n",
       "      <td>1/18/2014</td>\n",
       "      <td>...</td>\n",
       "      <td>3/28/2014</td>\n",
       "      <td>3/28/2014</td>\n",
       "      <td>3/28/2014</td>\n",
       "      <td>3/28/2014</td>\n",
       "      <td>3/28/2014</td>\n",
       "      <td>3/28/2014</td>\n",
       "      <td>3/28/2014</td>\n",
       "      <td>3/28/2014</td>\n",
       "      <td>3/28/2014</td>\n",
       "      <td>3/28/2014</td>\n",
       "    </tr>\n",
       "    <tr>\n",
       "      <th>Time</th>\n",
       "      <td>16:19</td>\n",
       "      <td>20:42</td>\n",
       "      <td>20:39</td>\n",
       "      <td>20:38</td>\n",
       "      <td>20:38</td>\n",
       "      <td>20:20</td>\n",
       "      <td>20:21</td>\n",
       "      <td>20:22</td>\n",
       "      <td>20:20</td>\n",
       "      <td>20:37</td>\n",
       "      <td>...</td>\n",
       "      <td>20:00</td>\n",
       "      <td>20:33</td>\n",
       "      <td>21:35</td>\n",
       "      <td>21:33</td>\n",
       "      <td>21:28</td>\n",
       "      <td>21:24</td>\n",
       "      <td>19:27</td>\n",
       "      <td>21:44</td>\n",
       "      <td>19:10</td>\n",
       "      <td>21:56</td>\n",
       "    </tr>\n",
       "    <tr>\n",
       "      <th>Real_Spots</th>\n",
       "      <td>4</td>\n",
       "      <td>0</td>\n",
       "      <td>0</td>\n",
       "      <td>0</td>\n",
       "      <td>0</td>\n",
       "      <td>0</td>\n",
       "      <td>0</td>\n",
       "      <td>0</td>\n",
       "      <td>0</td>\n",
       "      <td>0</td>\n",
       "      <td>...</td>\n",
       "      <td>0</td>\n",
       "      <td>0</td>\n",
       "      <td>2</td>\n",
       "      <td>0</td>\n",
       "      <td>0</td>\n",
       "      <td>0</td>\n",
       "      <td>0</td>\n",
       "      <td>0</td>\n",
       "      <td>5</td>\n",
       "      <td>3</td>\n",
       "    </tr>\n",
       "    <tr>\n",
       "      <th>Street_Length</th>\n",
       "      <td>179.133</td>\n",
       "      <td>52.7402</td>\n",
       "      <td>52.5178</td>\n",
       "      <td>52.4053</td>\n",
       "      <td>52.1912</td>\n",
       "      <td>52.3242</td>\n",
       "      <td>146.417</td>\n",
       "      <td>139.494</td>\n",
       "      <td>52.1883</td>\n",
       "      <td>39.028</td>\n",
       "      <td>...</td>\n",
       "      <td>58.041</td>\n",
       "      <td>58.041</td>\n",
       "      <td>40.6716</td>\n",
       "      <td>63.262</td>\n",
       "      <td>44.8157</td>\n",
       "      <td>39.028</td>\n",
       "      <td>48.5558</td>\n",
       "      <td>48.5558</td>\n",
       "      <td>104.83</td>\n",
       "      <td>104.83</td>\n",
       "    </tr>\n",
       "    <tr>\n",
       "      <th>any_spot</th>\n",
       "      <td>1</td>\n",
       "      <td>0</td>\n",
       "      <td>0</td>\n",
       "      <td>0</td>\n",
       "      <td>0</td>\n",
       "      <td>0</td>\n",
       "      <td>0</td>\n",
       "      <td>0</td>\n",
       "      <td>0</td>\n",
       "      <td>0</td>\n",
       "      <td>...</td>\n",
       "      <td>0</td>\n",
       "      <td>0</td>\n",
       "      <td>1</td>\n",
       "      <td>0</td>\n",
       "      <td>0</td>\n",
       "      <td>0</td>\n",
       "      <td>0</td>\n",
       "      <td>0</td>\n",
       "      <td>1</td>\n",
       "      <td>1</td>\n",
       "    </tr>\n",
       "    <tr>\n",
       "      <th>id</th>\n",
       "      <td>1</td>\n",
       "      <td>2</td>\n",
       "      <td>3</td>\n",
       "      <td>4</td>\n",
       "      <td>5</td>\n",
       "      <td>6</td>\n",
       "      <td>7</td>\n",
       "      <td>8</td>\n",
       "      <td>9</td>\n",
       "      <td>10</td>\n",
       "      <td>...</td>\n",
       "      <td>1091</td>\n",
       "      <td>1092</td>\n",
       "      <td>1093</td>\n",
       "      <td>1094</td>\n",
       "      <td>1095</td>\n",
       "      <td>1096</td>\n",
       "      <td>1097</td>\n",
       "      <td>1098</td>\n",
       "      <td>1099</td>\n",
       "      <td>1100</td>\n",
       "    </tr>\n",
       "    <tr>\n",
       "      <th>vacant_total</th>\n",
       "      <td>0.213043</td>\n",
       "      <td>0.20148</td>\n",
       "      <td>0.394081</td>\n",
       "      <td>0.394081</td>\n",
       "      <td>0.394081</td>\n",
       "      <td>0.153269</td>\n",
       "      <td>0.315501</td>\n",
       "      <td>0.315501</td>\n",
       "      <td>0.153269</td>\n",
       "      <td>0.394081</td>\n",
       "      <td>...</td>\n",
       "      <td>0.248485</td>\n",
       "      <td>0.248485</td>\n",
       "      <td>0.386801</td>\n",
       "      <td>0.386801</td>\n",
       "      <td>0.386801</td>\n",
       "      <td>0.386801</td>\n",
       "      <td>0.199538</td>\n",
       "      <td>0.218436</td>\n",
       "      <td>0.233877</td>\n",
       "      <td>0.157998</td>\n",
       "    </tr>\n",
       "    <tr>\n",
       "      <th>Street_From</th>\n",
       "      <td>Mission Street &amp; 25th Street</td>\n",
       "      <td>Polk Street &amp; Ellis Street</td>\n",
       "      <td>Van Ness Avenue &amp; Geary Boulevard</td>\n",
       "      <td>Van Ness Avenue &amp; Bush Street</td>\n",
       "      <td>Van Ness Avenue &amp; Daniel Burnham Court</td>\n",
       "      <td>Larkin Street &amp; Cedar Street</td>\n",
       "      <td>Pine Street &amp; Larkin Street</td>\n",
       "      <td>Pine Street &amp; Polk Street</td>\n",
       "      <td>Larkin Street &amp; Myrtle Street</td>\n",
       "      <td>Van Ness Avenue</td>\n",
       "      <td>...</td>\n",
       "      <td>Polk Street &amp; Grove Street</td>\n",
       "      <td>Polk Street &amp; Grove Street</td>\n",
       "      <td>Van Ness Avenue</td>\n",
       "      <td>Van Ness Avenue &amp; Golden Gate Avenue</td>\n",
       "      <td>Van Ness Avenue</td>\n",
       "      <td>Van Ness Avenue</td>\n",
       "      <td>Larkin Street &amp; Sutter Street</td>\n",
       "      <td>Larkin Street &amp; Sutter Street</td>\n",
       "      <td>Leavenworth Street &amp; Turk Street</td>\n",
       "      <td>Leavenworth Street &amp; Turk Street</td>\n",
       "    </tr>\n",
       "    <tr>\n",
       "      <th>Street_To</th>\n",
       "      <td>Mission Street &amp; 26th Street</td>\n",
       "      <td>Polk Street &amp; Olive Street</td>\n",
       "      <td>Van Ness Avenue &amp; Myrtle Street</td>\n",
       "      <td>Van Ness Avenue &amp; Fern Street</td>\n",
       "      <td>Van Ness Avenue &amp; Post Street</td>\n",
       "      <td>Larkin Street &amp; Post Street</td>\n",
       "      <td>Pine Street &amp; Polk Street</td>\n",
       "      <td>Pine Street &amp; Van Ness Avenue</td>\n",
       "      <td>Larkin Street &amp; Geary Street</td>\n",
       "      <td>Van Ness Avenue &amp; Bush Street</td>\n",
       "      <td>...</td>\n",
       "      <td>Polk Street &amp; Dr Tom Waddell Place</td>\n",
       "      <td>Polk Street &amp; Dr Tom Waddell Place</td>\n",
       "      <td>Van Ness Avenue &amp; Fell Street</td>\n",
       "      <td>Van Ness Avenue</td>\n",
       "      <td>Van Ness Avenue &amp; Golden Gate Avenue</td>\n",
       "      <td>Van Ness Avenue &amp; Bush Street</td>\n",
       "      <td>Larkin Street</td>\n",
       "      <td>Larkin Street</td>\n",
       "      <td>Leavenworth Street &amp; Eddy Street</td>\n",
       "      <td>Leavenworth Street &amp; Eddy Street</td>\n",
       "    </tr>\n",
       "    <tr>\n",
       "      <th>Street_From_lat</th>\n",
       "      <td>37.7538</td>\n",
       "      <td>37.784</td>\n",
       "      <td>37.7857</td>\n",
       "      <td>37.7538</td>\n",
       "      <td>37.7871</td>\n",
       "      <td>37.7538</td>\n",
       "      <td>37.7538</td>\n",
       "      <td>37.7896</td>\n",
       "      <td>37.7856</td>\n",
       "      <td>37.7917</td>\n",
       "      <td>...</td>\n",
       "      <td>37.7538</td>\n",
       "      <td>37.7538</td>\n",
       "      <td>37.7917</td>\n",
       "      <td>37.781</td>\n",
       "      <td>37.7917</td>\n",
       "      <td>37.7917</td>\n",
       "      <td>37.788</td>\n",
       "      <td>37.788</td>\n",
       "      <td>37.7828</td>\n",
       "      <td>37.7828</td>\n",
       "    </tr>\n",
       "    <tr>\n",
       "      <th>Street_From_lng</th>\n",
       "      <td>-122.419</td>\n",
       "      <td>-122.419</td>\n",
       "      <td>-122.421</td>\n",
       "      <td>-122.419</td>\n",
       "      <td>-122.422</td>\n",
       "      <td>-122.419</td>\n",
       "      <td>-122.419</td>\n",
       "      <td>-122.421</td>\n",
       "      <td>-122.418</td>\n",
       "      <td>-122.423</td>\n",
       "      <td>...</td>\n",
       "      <td>-122.419</td>\n",
       "      <td>-122.419</td>\n",
       "      <td>-122.423</td>\n",
       "      <td>-122.42</td>\n",
       "      <td>-122.423</td>\n",
       "      <td>-122.423</td>\n",
       "      <td>-122.418</td>\n",
       "      <td>-122.418</td>\n",
       "      <td>-122.414</td>\n",
       "      <td>-122.414</td>\n",
       "    </tr>\n",
       "    <tr>\n",
       "      <th>Street_To_lat</th>\n",
       "      <td>37.749</td>\n",
       "      <td>37.7538</td>\n",
       "      <td>37.7538</td>\n",
       "      <td>37.7538</td>\n",
       "      <td>37.7538</td>\n",
       "      <td>37.7871</td>\n",
       "      <td>37.7896</td>\n",
       "      <td>37.7538</td>\n",
       "      <td>37.7861</td>\n",
       "      <td>37.7538</td>\n",
       "      <td>...</td>\n",
       "      <td>37.778</td>\n",
       "      <td>37.778</td>\n",
       "      <td>37.7764</td>\n",
       "      <td>37.7917</td>\n",
       "      <td>37.781</td>\n",
       "      <td>37.7538</td>\n",
       "      <td>37.7919</td>\n",
       "      <td>37.7919</td>\n",
       "      <td>37.7837</td>\n",
       "      <td>37.7837</td>\n",
       "    </tr>\n",
       "    <tr>\n",
       "      <th>Street_To_lng</th>\n",
       "      <td>-122.418</td>\n",
       "      <td>-122.419</td>\n",
       "      <td>-122.419</td>\n",
       "      <td>-122.419</td>\n",
       "      <td>-122.419</td>\n",
       "      <td>-122.418</td>\n",
       "      <td>-122.421</td>\n",
       "      <td>-122.419</td>\n",
       "      <td>-122.418</td>\n",
       "      <td>-122.419</td>\n",
       "      <td>...</td>\n",
       "      <td>-122.418</td>\n",
       "      <td>-122.418</td>\n",
       "      <td>-122.419</td>\n",
       "      <td>-122.423</td>\n",
       "      <td>-122.42</td>\n",
       "      <td>-122.419</td>\n",
       "      <td>-122.419</td>\n",
       "      <td>-122.419</td>\n",
       "      <td>-122.414</td>\n",
       "      <td>-122.414</td>\n",
       "    </tr>\n",
       "    <tr>\n",
       "      <th>datetime</th>\n",
       "      <td>2014-01-07 00:00:00</td>\n",
       "      <td>2014-01-18 00:00:00</td>\n",
       "      <td>2014-01-18 00:00:00</td>\n",
       "      <td>2014-01-18 00:00:00</td>\n",
       "      <td>2014-01-18 00:00:00</td>\n",
       "      <td>2014-01-18 00:00:00</td>\n",
       "      <td>2014-01-18 00:00:00</td>\n",
       "      <td>2014-01-18 00:00:00</td>\n",
       "      <td>2014-01-18 00:00:00</td>\n",
       "      <td>2014-01-18 00:00:00</td>\n",
       "      <td>...</td>\n",
       "      <td>2014-03-28 00:00:00</td>\n",
       "      <td>2014-03-28 00:00:00</td>\n",
       "      <td>2014-03-28 00:00:00</td>\n",
       "      <td>2014-03-28 00:00:00</td>\n",
       "      <td>2014-03-28 00:00:00</td>\n",
       "      <td>2014-03-28 00:00:00</td>\n",
       "      <td>2014-03-28 00:00:00</td>\n",
       "      <td>2014-03-28 00:00:00</td>\n",
       "      <td>2014-03-28 00:00:00</td>\n",
       "      <td>2014-03-28 00:00:00</td>\n",
       "    </tr>\n",
       "    <tr>\n",
       "      <th>weekday</th>\n",
       "      <td>1</td>\n",
       "      <td>5</td>\n",
       "      <td>5</td>\n",
       "      <td>5</td>\n",
       "      <td>5</td>\n",
       "      <td>5</td>\n",
       "      <td>5</td>\n",
       "      <td>5</td>\n",
       "      <td>5</td>\n",
       "      <td>5</td>\n",
       "      <td>...</td>\n",
       "      <td>4</td>\n",
       "      <td>4</td>\n",
       "      <td>4</td>\n",
       "      <td>4</td>\n",
       "      <td>4</td>\n",
       "      <td>4</td>\n",
       "      <td>4</td>\n",
       "      <td>4</td>\n",
       "      <td>4</td>\n",
       "      <td>4</td>\n",
       "    </tr>\n",
       "    <tr>\n",
       "      <th>holidays</th>\n",
       "      <td>0</td>\n",
       "      <td>0</td>\n",
       "      <td>0</td>\n",
       "      <td>0</td>\n",
       "      <td>0</td>\n",
       "      <td>0</td>\n",
       "      <td>0</td>\n",
       "      <td>0</td>\n",
       "      <td>0</td>\n",
       "      <td>0</td>\n",
       "      <td>...</td>\n",
       "      <td>0</td>\n",
       "      <td>0</td>\n",
       "      <td>0</td>\n",
       "      <td>0</td>\n",
       "      <td>0</td>\n",
       "      <td>0</td>\n",
       "      <td>0</td>\n",
       "      <td>0</td>\n",
       "      <td>0</td>\n",
       "      <td>0</td>\n",
       "    </tr>\n",
       "    <tr>\n",
       "      <th>daytime</th>\n",
       "      <td>1900-01-01 16:19:00</td>\n",
       "      <td>1900-01-01 20:42:00</td>\n",
       "      <td>1900-01-01 20:39:00</td>\n",
       "      <td>1900-01-01 20:38:00</td>\n",
       "      <td>1900-01-01 20:38:00</td>\n",
       "      <td>1900-01-01 20:20:00</td>\n",
       "      <td>1900-01-01 20:21:00</td>\n",
       "      <td>1900-01-01 20:22:00</td>\n",
       "      <td>1900-01-01 20:20:00</td>\n",
       "      <td>1900-01-01 20:37:00</td>\n",
       "      <td>...</td>\n",
       "      <td>1900-01-01 20:00:00</td>\n",
       "      <td>1900-01-01 20:33:00</td>\n",
       "      <td>1900-01-01 21:35:00</td>\n",
       "      <td>1900-01-01 21:33:00</td>\n",
       "      <td>1900-01-01 21:28:00</td>\n",
       "      <td>1900-01-01 21:24:00</td>\n",
       "      <td>1900-01-01 19:27:00</td>\n",
       "      <td>1900-01-01 21:44:00</td>\n",
       "      <td>1900-01-01 19:10:00</td>\n",
       "      <td>1900-01-01 21:56:00</td>\n",
       "    </tr>\n",
       "    <tr>\n",
       "      <th>hour</th>\n",
       "      <td>16</td>\n",
       "      <td>20</td>\n",
       "      <td>20</td>\n",
       "      <td>20</td>\n",
       "      <td>20</td>\n",
       "      <td>20</td>\n",
       "      <td>20</td>\n",
       "      <td>20</td>\n",
       "      <td>20</td>\n",
       "      <td>20</td>\n",
       "      <td>...</td>\n",
       "      <td>20</td>\n",
       "      <td>20</td>\n",
       "      <td>21</td>\n",
       "      <td>21</td>\n",
       "      <td>21</td>\n",
       "      <td>21</td>\n",
       "      <td>19</td>\n",
       "      <td>21</td>\n",
       "      <td>19</td>\n",
       "      <td>21</td>\n",
       "    </tr>\n",
       "  </tbody>\n",
       "</table>\n",
       "<p>21 rows × 1100 columns</p>\n",
       "</div>"
      ],
      "text/plain": [
       "                                            0                           1  \\\n",
       "Street                         Mission Street                 Polk Street   \n",
       "From                              25th Street                Ellis Street   \n",
       "To                                26th Street                Olive Street   \n",
       "Date                                 1/7/2014                   1/18/2014   \n",
       "Time                                    16:19                       20:42   \n",
       "Real_Spots                                  4                           0   \n",
       "Street_Length                         179.133                     52.7402   \n",
       "any_spot                                    1                           0   \n",
       "id                                          1                           2   \n",
       "vacant_total                         0.213043                     0.20148   \n",
       "Street_From      Mission Street & 25th Street  Polk Street & Ellis Street   \n",
       "Street_To        Mission Street & 26th Street  Polk Street & Olive Street   \n",
       "Street_From_lat                       37.7538                      37.784   \n",
       "Street_From_lng                      -122.419                    -122.419   \n",
       "Street_To_lat                          37.749                     37.7538   \n",
       "Street_To_lng                        -122.418                    -122.419   \n",
       "datetime                  2014-01-07 00:00:00         2014-01-18 00:00:00   \n",
       "weekday                                     1                           5   \n",
       "holidays                                    0                           0   \n",
       "daytime                   1900-01-01 16:19:00         1900-01-01 20:42:00   \n",
       "hour                                       16                          20   \n",
       "\n",
       "                                                 2  \\\n",
       "Street                             Van Ness Avenue   \n",
       "From                               Geary Boulevard   \n",
       "To                                   Myrtle Street   \n",
       "Date                                     1/18/2014   \n",
       "Time                                         20:39   \n",
       "Real_Spots                                       0   \n",
       "Street_Length                              52.5178   \n",
       "any_spot                                         0   \n",
       "id                                               3   \n",
       "vacant_total                              0.394081   \n",
       "Street_From      Van Ness Avenue & Geary Boulevard   \n",
       "Street_To          Van Ness Avenue & Myrtle Street   \n",
       "Street_From_lat                            37.7857   \n",
       "Street_From_lng                           -122.421   \n",
       "Street_To_lat                              37.7538   \n",
       "Street_To_lng                             -122.419   \n",
       "datetime                       2014-01-18 00:00:00   \n",
       "weekday                                          5   \n",
       "holidays                                         0   \n",
       "daytime                        1900-01-01 20:39:00   \n",
       "hour                                            20   \n",
       "\n",
       "                                             3  \\\n",
       "Street                         Van Ness Avenue   \n",
       "From                               Bush Street   \n",
       "To                                 Fern Street   \n",
       "Date                                 1/18/2014   \n",
       "Time                                     20:38   \n",
       "Real_Spots                                   0   \n",
       "Street_Length                          52.4053   \n",
       "any_spot                                     0   \n",
       "id                                           4   \n",
       "vacant_total                          0.394081   \n",
       "Street_From      Van Ness Avenue & Bush Street   \n",
       "Street_To        Van Ness Avenue & Fern Street   \n",
       "Street_From_lat                        37.7538   \n",
       "Street_From_lng                       -122.419   \n",
       "Street_To_lat                          37.7538   \n",
       "Street_To_lng                         -122.419   \n",
       "datetime                   2014-01-18 00:00:00   \n",
       "weekday                                      5   \n",
       "holidays                                     0   \n",
       "daytime                    1900-01-01 20:38:00   \n",
       "hour                                        20   \n",
       "\n",
       "                                                      4  \\\n",
       "Street                                  Van Ness Avenue   \n",
       "From                               Daniel Burnham Court   \n",
       "To                                          Post Street   \n",
       "Date                                          1/18/2014   \n",
       "Time                                              20:38   \n",
       "Real_Spots                                            0   \n",
       "Street_Length                                   52.1912   \n",
       "any_spot                                              0   \n",
       "id                                                    5   \n",
       "vacant_total                                   0.394081   \n",
       "Street_From      Van Ness Avenue & Daniel Burnham Court   \n",
       "Street_To                 Van Ness Avenue & Post Street   \n",
       "Street_From_lat                                 37.7871   \n",
       "Street_From_lng                                -122.422   \n",
       "Street_To_lat                                   37.7538   \n",
       "Street_To_lng                                  -122.419   \n",
       "datetime                            2014-01-18 00:00:00   \n",
       "weekday                                               5   \n",
       "holidays                                              0   \n",
       "daytime                             1900-01-01 20:38:00   \n",
       "hour                                                 20   \n",
       "\n",
       "                                            5                            6  \\\n",
       "Street                          Larkin Street                  Pine Street   \n",
       "From                             Cedar Street                Larkin Street   \n",
       "To                                Post Street                  Polk Street   \n",
       "Date                                1/18/2014                    1/18/2014   \n",
       "Time                                    20:20                        20:21   \n",
       "Real_Spots                                  0                            0   \n",
       "Street_Length                         52.3242                      146.417   \n",
       "any_spot                                    0                            0   \n",
       "id                                          6                            7   \n",
       "vacant_total                         0.153269                     0.315501   \n",
       "Street_From      Larkin Street & Cedar Street  Pine Street & Larkin Street   \n",
       "Street_To         Larkin Street & Post Street    Pine Street & Polk Street   \n",
       "Street_From_lat                       37.7538                      37.7538   \n",
       "Street_From_lng                      -122.419                     -122.419   \n",
       "Street_To_lat                         37.7871                      37.7896   \n",
       "Street_To_lng                        -122.418                     -122.421   \n",
       "datetime                  2014-01-18 00:00:00          2014-01-18 00:00:00   \n",
       "weekday                                     5                            5   \n",
       "holidays                                    0                            0   \n",
       "daytime                   1900-01-01 20:20:00          1900-01-01 20:21:00   \n",
       "hour                                       20                           20   \n",
       "\n",
       "                                             7                              8  \\\n",
       "Street                             Pine Street                  Larkin Street   \n",
       "From                               Polk Street                  Myrtle Street   \n",
       "To                             Van Ness Avenue                   Geary Street   \n",
       "Date                                 1/18/2014                      1/18/2014   \n",
       "Time                                     20:22                          20:20   \n",
       "Real_Spots                                   0                              0   \n",
       "Street_Length                          139.494                        52.1883   \n",
       "any_spot                                     0                              0   \n",
       "id                                           8                              9   \n",
       "vacant_total                          0.315501                       0.153269   \n",
       "Street_From          Pine Street & Polk Street  Larkin Street & Myrtle Street   \n",
       "Street_To        Pine Street & Van Ness Avenue   Larkin Street & Geary Street   \n",
       "Street_From_lat                        37.7896                        37.7856   \n",
       "Street_From_lng                       -122.421                       -122.418   \n",
       "Street_To_lat                          37.7538                        37.7861   \n",
       "Street_To_lng                         -122.419                       -122.418   \n",
       "datetime                   2014-01-18 00:00:00            2014-01-18 00:00:00   \n",
       "weekday                                      5                              5   \n",
       "holidays                                     0                              0   \n",
       "daytime                    1900-01-01 20:22:00            1900-01-01 20:20:00   \n",
       "hour                                        20                             20   \n",
       "\n",
       "                                             9  \\\n",
       "Street                         Van Ness Avenue   \n",
       "From                           Van Ness Avenue   \n",
       "To                                 Bush Street   \n",
       "Date                                 1/18/2014   \n",
       "Time                                     20:37   \n",
       "Real_Spots                                   0   \n",
       "Street_Length                           39.028   \n",
       "any_spot                                     0   \n",
       "id                                          10   \n",
       "vacant_total                          0.394081   \n",
       "Street_From                    Van Ness Avenue   \n",
       "Street_To        Van Ness Avenue & Bush Street   \n",
       "Street_From_lat                        37.7917   \n",
       "Street_From_lng                       -122.423   \n",
       "Street_To_lat                          37.7538   \n",
       "Street_To_lng                         -122.419   \n",
       "datetime                   2014-01-18 00:00:00   \n",
       "weekday                                      5   \n",
       "holidays                                     0   \n",
       "daytime                    1900-01-01 20:37:00   \n",
       "hour                                        20   \n",
       "\n",
       "                               ...                 \\\n",
       "Street                         ...                  \n",
       "From                           ...                  \n",
       "To                             ...                  \n",
       "Date                           ...                  \n",
       "Time                           ...                  \n",
       "Real_Spots                     ...                  \n",
       "Street_Length                  ...                  \n",
       "any_spot                       ...                  \n",
       "id                             ...                  \n",
       "vacant_total                   ...                  \n",
       "Street_From                    ...                  \n",
       "Street_To                      ...                  \n",
       "Street_From_lat                ...                  \n",
       "Street_From_lng                ...                  \n",
       "Street_To_lat                  ...                  \n",
       "Street_To_lng                  ...                  \n",
       "datetime                       ...                  \n",
       "weekday                        ...                  \n",
       "holidays                       ...                  \n",
       "daytime                        ...                  \n",
       "hour                           ...                  \n",
       "\n",
       "                                               1090  \\\n",
       "Street                                  Polk Street   \n",
       "From                                   Grove Street   \n",
       "To                             Dr Tom Waddell Place   \n",
       "Date                                      3/28/2014   \n",
       "Time                                          20:00   \n",
       "Real_Spots                                        0   \n",
       "Street_Length                                58.041   \n",
       "any_spot                                          0   \n",
       "id                                             1091   \n",
       "vacant_total                               0.248485   \n",
       "Street_From              Polk Street & Grove Street   \n",
       "Street_To        Polk Street & Dr Tom Waddell Place   \n",
       "Street_From_lat                             37.7538   \n",
       "Street_From_lng                            -122.419   \n",
       "Street_To_lat                                37.778   \n",
       "Street_To_lng                              -122.418   \n",
       "datetime                        2014-03-28 00:00:00   \n",
       "weekday                                           4   \n",
       "holidays                                          0   \n",
       "daytime                         1900-01-01 20:00:00   \n",
       "hour                                             20   \n",
       "\n",
       "                                               1091  \\\n",
       "Street                                  Polk Street   \n",
       "From                                   Grove Street   \n",
       "To                             Dr Tom Waddell Place   \n",
       "Date                                      3/28/2014   \n",
       "Time                                          20:33   \n",
       "Real_Spots                                        0   \n",
       "Street_Length                                58.041   \n",
       "any_spot                                          0   \n",
       "id                                             1092   \n",
       "vacant_total                               0.248485   \n",
       "Street_From              Polk Street & Grove Street   \n",
       "Street_To        Polk Street & Dr Tom Waddell Place   \n",
       "Street_From_lat                             37.7538   \n",
       "Street_From_lng                            -122.419   \n",
       "Street_To_lat                                37.778   \n",
       "Street_To_lng                              -122.418   \n",
       "datetime                        2014-03-28 00:00:00   \n",
       "weekday                                           4   \n",
       "holidays                                          0   \n",
       "daytime                         1900-01-01 20:33:00   \n",
       "hour                                             20   \n",
       "\n",
       "                                          1092  \\\n",
       "Street                         Van Ness Avenue   \n",
       "From                           Van Ness Avenue   \n",
       "To                                 Fell Street   \n",
       "Date                                 3/28/2014   \n",
       "Time                                     21:35   \n",
       "Real_Spots                                   2   \n",
       "Street_Length                          40.6716   \n",
       "any_spot                                     1   \n",
       "id                                        1093   \n",
       "vacant_total                          0.386801   \n",
       "Street_From                    Van Ness Avenue   \n",
       "Street_To        Van Ness Avenue & Fell Street   \n",
       "Street_From_lat                        37.7917   \n",
       "Street_From_lng                       -122.423   \n",
       "Street_To_lat                          37.7764   \n",
       "Street_To_lng                         -122.419   \n",
       "datetime                   2014-03-28 00:00:00   \n",
       "weekday                                      4   \n",
       "holidays                                     0   \n",
       "daytime                    1900-01-01 21:35:00   \n",
       "hour                                        21   \n",
       "\n",
       "                                                 1093  \\\n",
       "Street                                Van Ness Avenue   \n",
       "From                               Golden Gate Avenue   \n",
       "To                                    Van Ness Avenue   \n",
       "Date                                        3/28/2014   \n",
       "Time                                            21:33   \n",
       "Real_Spots                                          0   \n",
       "Street_Length                                  63.262   \n",
       "any_spot                                            0   \n",
       "id                                               1094   \n",
       "vacant_total                                 0.386801   \n",
       "Street_From      Van Ness Avenue & Golden Gate Avenue   \n",
       "Street_To                             Van Ness Avenue   \n",
       "Street_From_lat                                37.781   \n",
       "Street_From_lng                               -122.42   \n",
       "Street_To_lat                                 37.7917   \n",
       "Street_To_lng                                -122.423   \n",
       "datetime                          2014-03-28 00:00:00   \n",
       "weekday                                             4   \n",
       "holidays                                            0   \n",
       "daytime                           1900-01-01 21:33:00   \n",
       "hour                                               21   \n",
       "\n",
       "                                                 1094  \\\n",
       "Street                                Van Ness Avenue   \n",
       "From                                  Van Ness Avenue   \n",
       "To                                 Golden Gate Avenue   \n",
       "Date                                        3/28/2014   \n",
       "Time                                            21:28   \n",
       "Real_Spots                                          0   \n",
       "Street_Length                                 44.8157   \n",
       "any_spot                                            0   \n",
       "id                                               1095   \n",
       "vacant_total                                 0.386801   \n",
       "Street_From                           Van Ness Avenue   \n",
       "Street_To        Van Ness Avenue & Golden Gate Avenue   \n",
       "Street_From_lat                               37.7917   \n",
       "Street_From_lng                              -122.423   \n",
       "Street_To_lat                                  37.781   \n",
       "Street_To_lng                                 -122.42   \n",
       "datetime                          2014-03-28 00:00:00   \n",
       "weekday                                             4   \n",
       "holidays                                            0   \n",
       "daytime                           1900-01-01 21:28:00   \n",
       "hour                                               21   \n",
       "\n",
       "                                          1095                           1096  \\\n",
       "Street                         Van Ness Avenue                  Larkin Street   \n",
       "From                           Van Ness Avenue                  Sutter Street   \n",
       "To                                 Bush Street                  Larkin Street   \n",
       "Date                                 3/28/2014                      3/28/2014   \n",
       "Time                                     21:24                          19:27   \n",
       "Real_Spots                                   0                              0   \n",
       "Street_Length                           39.028                        48.5558   \n",
       "any_spot                                     0                              0   \n",
       "id                                        1096                           1097   \n",
       "vacant_total                          0.386801                       0.199538   \n",
       "Street_From                    Van Ness Avenue  Larkin Street & Sutter Street   \n",
       "Street_To        Van Ness Avenue & Bush Street                  Larkin Street   \n",
       "Street_From_lat                        37.7917                         37.788   \n",
       "Street_From_lng                       -122.423                       -122.418   \n",
       "Street_To_lat                          37.7538                        37.7919   \n",
       "Street_To_lng                         -122.419                       -122.419   \n",
       "datetime                   2014-03-28 00:00:00            2014-03-28 00:00:00   \n",
       "weekday                                      4                              4   \n",
       "holidays                                     0                              0   \n",
       "daytime                    1900-01-01 21:24:00            1900-01-01 19:27:00   \n",
       "hour                                        21                             19   \n",
       "\n",
       "                                          1097  \\\n",
       "Street                           Larkin Street   \n",
       "From                             Sutter Street   \n",
       "To                               Larkin Street   \n",
       "Date                                 3/28/2014   \n",
       "Time                                     21:44   \n",
       "Real_Spots                                   0   \n",
       "Street_Length                          48.5558   \n",
       "any_spot                                     0   \n",
       "id                                        1098   \n",
       "vacant_total                          0.218436   \n",
       "Street_From      Larkin Street & Sutter Street   \n",
       "Street_To                        Larkin Street   \n",
       "Street_From_lat                         37.788   \n",
       "Street_From_lng                       -122.418   \n",
       "Street_To_lat                          37.7919   \n",
       "Street_To_lng                         -122.419   \n",
       "datetime                   2014-03-28 00:00:00   \n",
       "weekday                                      4   \n",
       "holidays                                     0   \n",
       "daytime                    1900-01-01 21:44:00   \n",
       "hour                                        21   \n",
       "\n",
       "                                             1098  \\\n",
       "Street                         Leavenworth Street   \n",
       "From                                  Turk Street   \n",
       "To                                    Eddy Street   \n",
       "Date                                    3/28/2014   \n",
       "Time                                        19:10   \n",
       "Real_Spots                                      5   \n",
       "Street_Length                              104.83   \n",
       "any_spot                                        1   \n",
       "id                                           1099   \n",
       "vacant_total                             0.233877   \n",
       "Street_From      Leavenworth Street & Turk Street   \n",
       "Street_To        Leavenworth Street & Eddy Street   \n",
       "Street_From_lat                           37.7828   \n",
       "Street_From_lng                          -122.414   \n",
       "Street_To_lat                             37.7837   \n",
       "Street_To_lng                            -122.414   \n",
       "datetime                      2014-03-28 00:00:00   \n",
       "weekday                                         4   \n",
       "holidays                                        0   \n",
       "daytime                       1900-01-01 19:10:00   \n",
       "hour                                           19   \n",
       "\n",
       "                                             1099  \n",
       "Street                         Leavenworth Street  \n",
       "From                                  Turk Street  \n",
       "To                                    Eddy Street  \n",
       "Date                                    3/28/2014  \n",
       "Time                                        21:56  \n",
       "Real_Spots                                      3  \n",
       "Street_Length                              104.83  \n",
       "any_spot                                        1  \n",
       "id                                           1100  \n",
       "vacant_total                             0.157998  \n",
       "Street_From      Leavenworth Street & Turk Street  \n",
       "Street_To        Leavenworth Street & Eddy Street  \n",
       "Street_From_lat                           37.7828  \n",
       "Street_From_lng                          -122.414  \n",
       "Street_To_lat                             37.7837  \n",
       "Street_To_lng                            -122.414  \n",
       "datetime                      2014-03-28 00:00:00  \n",
       "weekday                                         4  \n",
       "holidays                                        0  \n",
       "daytime                       1900-01-01 21:56:00  \n",
       "hour                                           21  \n",
       "\n",
       "[21 rows x 1100 columns]"
      ]
     },
     "execution_count": 13,
     "metadata": {},
     "output_type": "execute_result"
    }
   ],
   "source": [
    "data.transpose()"
   ]
  },
  {
   "cell_type": "markdown",
   "metadata": {},
   "source": [
    "### split train, val"
   ]
  },
  {
   "cell_type": "code",
   "execution_count": 14,
   "metadata": {
    "collapsed": true
   },
   "outputs": [],
   "source": [
    "#get the second row in each group\n",
    "val_id = sorted(data.groupby(['Street', 'From', 'To']).nth(2).id.tolist())"
   ]
  },
  {
   "cell_type": "code",
   "execution_count": 15,
   "metadata": {
    "collapsed": true
   },
   "outputs": [],
   "source": [
    "train = data[~data['id'].isin(val_id)]\n",
    "val = data[data['id'].isin(val_id)]"
   ]
  },
  {
   "cell_type": "code",
   "execution_count": 16,
   "metadata": {},
   "outputs": [
    {
     "data": {
      "text/plain": [
       "((1005, 21), (95, 21), (1100, 21), (726, 19))"
      ]
     },
     "execution_count": 16,
     "metadata": {},
     "output_type": "execute_result"
    }
   ],
   "source": [
    "train.shape, val.shape, data.shape, test.shape"
   ]
  },
  {
   "cell_type": "markdown",
   "metadata": {},
   "source": [
    "### mean_encoding"
   ]
  },
  {
   "cell_type": "code",
   "execution_count": 17,
   "metadata": {
    "collapsed": true
   },
   "outputs": [],
   "source": [
    "def mean_encoding_test(test, train, col):\n",
    "    \"\"\" Computes target enconding for test data.\n",
    "    \n",
    "    This is similar to how we do validation\n",
    "    \"\"\"\n",
    "    new_col = '%s_RS_mean' % col\n",
    "    m = train.groupby(col).Real_Spots.mean()\n",
    "    train[new_col] = train[col].map(m)\n",
    "    test[new_col] = test[col].map(m)\n",
    "    return test, train"
   ]
  },
  {
   "cell_type": "code",
   "execution_count": 18,
   "metadata": {},
   "outputs": [
    {
     "name": "stdout",
     "output_type": "stream",
     "text": [
      "CPU times: user 279 ms, sys: 2.35 ms, total: 282 ms\n",
      "Wall time: 281 ms\n"
     ]
    },
    {
     "name": "stderr",
     "output_type": "stream",
     "text": [
      "/Users/chuanxu/anaconda/envs/fastai/lib/python3.6/site-packages/ipykernel_launcher.py:8: SettingWithCopyWarning: \n",
      "A value is trying to be set on a copy of a slice from a DataFrame.\n",
      "Try using .loc[row_indexer,col_indexer] = value instead\n",
      "\n",
      "See the caveats in the documentation: http://pandas.pydata.org/pandas-docs/stable/indexing.html#indexing-view-versus-copy\n",
      "  \n",
      "/Users/chuanxu/anaconda/envs/fastai/lib/python3.6/site-packages/ipykernel_launcher.py:9: SettingWithCopyWarning: \n",
      "A value is trying to be set on a copy of a slice from a DataFrame.\n",
      "Try using .loc[row_indexer,col_indexer] = value instead\n",
      "\n",
      "See the caveats in the documentation: http://pandas.pydata.org/pandas-docs/stable/indexing.html#indexing-view-versus-copy\n",
      "  if __name__ == '__main__':\n"
     ]
    }
   ],
   "source": [
    "%%time \n",
    "mean_encoding_cols = ['Street', 'weekday', 'hour']\n",
    "\n",
    "for c in mean_encoding_cols:\n",
    "    val, train = mean_encoding_test(val, train, c)\n",
    "    test, data = mean_encoding_test(test, data, c)"
   ]
  },
  {
   "cell_type": "markdown",
   "metadata": {},
   "source": [
    "holiday matters"
   ]
  },
  {
   "cell_type": "markdown",
   "metadata": {},
   "source": [
    "### take care of 23:00 which only appears in test"
   ]
  },
  {
   "cell_type": "code",
   "execution_count": 19,
   "metadata": {
    "collapsed": true
   },
   "outputs": [],
   "source": [
    "m = dict(data.groupby('hour').Real_Spots.mean())"
   ]
  },
  {
   "cell_type": "code",
   "execution_count": 20,
   "metadata": {},
   "outputs": [
    {
     "data": {
      "text/plain": [
       "{7: 1.9841269841269842,\n",
       " 8: 1.7777777777777777,\n",
       " 9: 2.8103448275862069,\n",
       " 10: 0.96875,\n",
       " 11: 0.58064516129032262,\n",
       " 12: 0.60606060606060608,\n",
       " 13: 1.9702970297029703,\n",
       " 14: 1.1100917431192661,\n",
       " 15: 2.6288659793814433,\n",
       " 16: 1.5510204081632653,\n",
       " 17: 5.9672131147540988,\n",
       " 18: 1.292929292929293,\n",
       " 19: 1.118279569892473,\n",
       " 20: 1.0,\n",
       " 21: 0.65934065934065933,\n",
       " 22: 0.40000000000000002}"
      ]
     },
     "execution_count": 20,
     "metadata": {},
     "output_type": "execute_result"
    }
   ],
   "source": [
    "m"
   ]
  },
  {
   "cell_type": "code",
   "execution_count": 21,
   "metadata": {
    "collapsed": true
   },
   "outputs": [],
   "source": [
    "m[23] = 0.4"
   ]
  },
  {
   "cell_type": "code",
   "execution_count": 22,
   "metadata": {},
   "outputs": [
    {
     "data": {
      "text/plain": [
       "{7: 1.9841269841269842,\n",
       " 8: 1.7777777777777777,\n",
       " 9: 2.8103448275862069,\n",
       " 10: 0.96875,\n",
       " 11: 0.58064516129032262,\n",
       " 12: 0.60606060606060608,\n",
       " 13: 1.9702970297029703,\n",
       " 14: 1.1100917431192661,\n",
       " 15: 2.6288659793814433,\n",
       " 16: 1.5510204081632653,\n",
       " 17: 5.9672131147540988,\n",
       " 18: 1.292929292929293,\n",
       " 19: 1.118279569892473,\n",
       " 20: 1.0,\n",
       " 21: 0.65934065934065933,\n",
       " 22: 0.40000000000000002,\n",
       " 23: 0.4}"
      ]
     },
     "execution_count": 22,
     "metadata": {},
     "output_type": "execute_result"
    }
   ],
   "source": [
    "m"
   ]
  },
  {
   "cell_type": "code",
   "execution_count": 23,
   "metadata": {
    "collapsed": true
   },
   "outputs": [],
   "source": [
    "test['hour_RS_mean'] = test['hour'].map(m)"
   ]
  },
  {
   "cell_type": "markdown",
   "metadata": {},
   "source": [
    "### get X, y on train, val set"
   ]
  },
  {
   "cell_type": "code",
   "execution_count": 24,
   "metadata": {
    "collapsed": true
   },
   "outputs": [],
   "source": [
    "street_cols1 = ['Street', 'From', 'To']\n",
    "street_cols2 = ['Street_From', 'Street_To']\n",
    "time_columns = ['Date', 'Time', 'datetime', 'daytime', 'hour', 'weekday', 'holidays']\n",
    "time_i_dont_want = ['Date', 'Time', 'datetime', 'daytime']\n",
    "\n",
    "to_drop = street_cols1 + street_cols2 + time_i_dont_want + ['id']\n",
    "to_drop_on_data = to_drop + ['Real_Spots']"
   ]
  },
  {
   "cell_type": "code",
   "execution_count": 25,
   "metadata": {},
   "outputs": [
    {
     "data": {
      "text/plain": [
       "((1005, 12), (95, 12), (1005,), (95,))"
      ]
     },
     "execution_count": 25,
     "metadata": {},
     "output_type": "execute_result"
    }
   ],
   "source": [
    "X_train, y_train = train.drop(to_drop_on_data + ['any_spot'], axis = 1), train.any_spot\n",
    "X_val, y_val = val.drop(to_drop_on_data + ['any_spot'], axis = 1), val.any_spot\n",
    "X_train.shape, X_val.shape, y_train.shape, y_val.shape"
   ]
  },
  {
   "cell_type": "markdown",
   "metadata": {},
   "source": [
    "### get X, y on data, test set"
   ]
  },
  {
   "cell_type": "code",
   "execution_count": 26,
   "metadata": {},
   "outputs": [
    {
     "data": {
      "text/plain": [
       "((1100, 12), (726, 12), (1100,))"
      ]
     },
     "execution_count": 26,
     "metadata": {},
     "output_type": "execute_result"
    }
   ],
   "source": [
    "X, y = data.drop(to_drop_on_data + ['any_spot'], axis = 1), data.any_spot\n",
    "X_test = test.drop(to_drop, axis = 1)\n",
    "X.shape, X_test.shape, y.shape"
   ]
  },
  {
   "cell_type": "markdown",
   "metadata": {},
   "source": [
    "### feature importance and corr"
   ]
  },
  {
   "cell_type": "code",
   "execution_count": 27,
   "metadata": {},
   "outputs": [
    {
     "name": "stdout",
     "output_type": "stream",
     "text": [
      "fbeta_score : 0.483870967742\n"
     ]
    }
   ],
   "source": [
    "clf = RandomForestClassifier(n_jobs=-1, n_estimators=50)\n",
    "clf.fit(X_train, y_train)\n",
    "print('fbeta_score : %s' % fbeta_score(y_val, clf.predict(X_val), 0.5))"
   ]
  },
  {
   "cell_type": "code",
   "execution_count": 28,
   "metadata": {},
   "outputs": [
    {
     "data": {
      "text/plain": [
       "<matplotlib.axes._subplots.AxesSubplot at 0x1c1a64dfd0>"
      ]
     },
     "execution_count": 28,
     "metadata": {},
     "output_type": "execute_result"
    },
    {
     "data": {
      "image/png": "[encoded data removed]",
      "text/plain": [
       "<matplotlib.figure.Figure at 0x1c1a494518>"
      ]
     },
     "metadata": {},
     "output_type": "display_data"
    }
   ],
   "source": [
    "fi = rf_feat_importance(clf, X_train)\n",
    "fi.plot('cols', 'imp', 'barh', figsize=(12,7), legend=False)"
   ]
  },
  {
   "cell_type": "code",
   "execution_count": 29,
   "metadata": {},
   "outputs": [
    {
     "data": {
      "text/html": [
       "<div>\n",
       "<style>\n",
       "    .dataframe thead tr:only-child th {\n",
       "        text-align: right;\n",
       "    }\n",
       "\n",
       "    .dataframe thead th {\n",
       "        text-align: left;\n",
       "    }\n",
       "\n",
       "    .dataframe tbody tr th {\n",
       "        vertical-align: top;\n",
       "    }\n",
       "</style>\n",
       "<table border=\"1\" class=\"dataframe\">\n",
       "  <thead>\n",
       "    <tr style=\"text-align: right;\">\n",
       "      <th></th>\n",
       "      <th>cols</th>\n",
       "      <th>imp</th>\n",
       "    </tr>\n",
       "  </thead>\n",
       "  <tbody>\n",
       "    <tr>\n",
       "      <th>1</th>\n",
       "      <td>vacant_total</td>\n",
       "      <td>0.157703</td>\n",
       "    </tr>\n",
       "    <tr>\n",
       "      <th>0</th>\n",
       "      <td>Street_Length</td>\n",
       "      <td>0.141593</td>\n",
       "    </tr>\n",
       "    <tr>\n",
       "      <th>11</th>\n",
       "      <td>hour_RS_mean</td>\n",
       "      <td>0.112156</td>\n",
       "    </tr>\n",
       "    <tr>\n",
       "      <th>8</th>\n",
       "      <td>hour</td>\n",
       "      <td>0.098568</td>\n",
       "    </tr>\n",
       "    <tr>\n",
       "      <th>9</th>\n",
       "      <td>Street_RS_mean</td>\n",
       "      <td>0.087004</td>\n",
       "    </tr>\n",
       "    <tr>\n",
       "      <th>5</th>\n",
       "      <td>Street_To_lng</td>\n",
       "      <td>0.078010</td>\n",
       "    </tr>\n",
       "    <tr>\n",
       "      <th>3</th>\n",
       "      <td>Street_From_lng</td>\n",
       "      <td>0.075432</td>\n",
       "    </tr>\n",
       "    <tr>\n",
       "      <th>4</th>\n",
       "      <td>Street_To_lat</td>\n",
       "      <td>0.066800</td>\n",
       "    </tr>\n",
       "    <tr>\n",
       "      <th>6</th>\n",
       "      <td>weekday</td>\n",
       "      <td>0.062644</td>\n",
       "    </tr>\n",
       "    <tr>\n",
       "      <th>2</th>\n",
       "      <td>Street_From_lat</td>\n",
       "      <td>0.059713</td>\n",
       "    </tr>\n",
       "    <tr>\n",
       "      <th>10</th>\n",
       "      <td>weekday_RS_mean</td>\n",
       "      <td>0.058991</td>\n",
       "    </tr>\n",
       "    <tr>\n",
       "      <th>7</th>\n",
       "      <td>holidays</td>\n",
       "      <td>0.001384</td>\n",
       "    </tr>\n",
       "  </tbody>\n",
       "</table>\n",
       "</div>"
      ],
      "text/plain": [
       "               cols       imp\n",
       "1      vacant_total  0.157703\n",
       "0     Street_Length  0.141593\n",
       "11     hour_RS_mean  0.112156\n",
       "8              hour  0.098568\n",
       "9    Street_RS_mean  0.087004\n",
       "5     Street_To_lng  0.078010\n",
       "3   Street_From_lng  0.075432\n",
       "4     Street_To_lat  0.066800\n",
       "6           weekday  0.062644\n",
       "2   Street_From_lat  0.059713\n",
       "10  weekday_RS_mean  0.058991\n",
       "7          holidays  0.001384"
      ]
     },
     "execution_count": 29,
     "metadata": {},
     "output_type": "execute_result"
    }
   ],
   "source": [
    "fi"
   ]
  },
  {
   "cell_type": "code",
   "execution_count": 30,
   "metadata": {},
   "outputs": [
    {
     "data": {
      "image/png": "[encoded data removed]",
      "text/plain": [
       "<matplotlib.figure.Figure at 0x1c1c561668>"
      ]
     },
     "metadata": {},
     "output_type": "display_data"
    }
   ],
   "source": [
    "from scipy.cluster import hierarchy as hc\n",
    "corr = np.round(scipy.stats.spearmanr(X_train).correlation, 4)\n",
    "corr_condensed = hc.distance.squareform(1-corr)\n",
    "z = hc.linkage(corr_condensed, method='average')\n",
    "fig = plt.figure(figsize=(16,10))\n",
    "dendrogram = hc.dendrogram(z, labels=X_train.columns, orientation='left', leaf_font_size=16)\n",
    "plt.show()"
   ]
  },
  {
   "cell_type": "markdown",
   "metadata": {},
   "source": [
    "### tune hyperparameters"
   ]
  },
  {
   "cell_type": "code",
   "execution_count": 36,
   "metadata": {},
   "outputs": [
    {
     "data": {
      "image/png": "[encoded data removed]",
      "text/plain": [
       "<matplotlib.figure.Figure at 0x1c1e1aac18>"
      ]
     },
     "metadata": {},
     "output_type": "display_data"
    },
    {
     "name": "stdout",
     "output_type": "stream",
     "text": [
      "CPU times: user 3.07 s, sys: 706 ms, total: 3.77 s\n",
      "Wall time: 6.47 s\n"
     ]
    }
   ],
   "source": [
    "%%time\n",
    "max_features=[0.1, 0.3, 0.5, 0.7, 0.9]\n",
    "min_samples_leaf= [9, 7, 5, 3, 1]\n",
    "\n",
    "plt.figure(figsize=(8,6))\n",
    "\n",
    "mylist = []\n",
    "for j in min_samples_leaf:\n",
    "    x = []\n",
    "    for i in max_features:\n",
    "        clf = RandomForestClassifier(n_jobs=-1, n_estimators=50, max_features=i, min_samples_leaf=j)\n",
    "        clf.fit(X_train, y_train)\n",
    "        dic = {'max_features':i, 'min_samples_leaf':j, 'fbeta_score':fbeta_score(y_val, clf.predict(X_val), 0.5)}\n",
    "        mylist.append(dic)\n",
    "        x.append(dic['fbeta_score'])\n",
    "    plt.plot(max_features,x, label=str(j))\n",
    "\n",
    "plt.xlabel('max_features', fontsize=12)\n",
    "plt.ylabel('fbeta_score', fontsize=12)\n",
    "plt.legend(loc='best')\n",
    "plt.show()"
   ]
  },
  {
   "cell_type": "code",
   "execution_count": 37,
   "metadata": {},
   "outputs": [
    {
     "data": {
      "text/html": [
       "<div>\n",
       "<style>\n",
       "    .dataframe thead tr:only-child th {\n",
       "        text-align: right;\n",
       "    }\n",
       "\n",
       "    .dataframe thead th {\n",
       "        text-align: left;\n",
       "    }\n",
       "\n",
       "    .dataframe tbody tr th {\n",
       "        vertical-align: top;\n",
       "    }\n",
       "</style>\n",
       "<table border=\"1\" class=\"dataframe\">\n",
       "  <thead>\n",
       "    <tr style=\"text-align: right;\">\n",
       "      <th></th>\n",
       "      <th>max_features</th>\n",
       "      <th>min_samples_leaf</th>\n",
       "      <th>fbeta_score</th>\n",
       "    </tr>\n",
       "  </thead>\n",
       "  <tbody>\n",
       "    <tr>\n",
       "      <th>4</th>\n",
       "      <td>0.9</td>\n",
       "      <td>9</td>\n",
       "      <td>0.585938</td>\n",
       "    </tr>\n",
       "    <tr>\n",
       "      <th>9</th>\n",
       "      <td>0.9</td>\n",
       "      <td>7</td>\n",
       "      <td>0.580357</td>\n",
       "    </tr>\n",
       "    <tr>\n",
       "      <th>13</th>\n",
       "      <td>0.7</td>\n",
       "      <td>5</td>\n",
       "      <td>0.580357</td>\n",
       "    </tr>\n",
       "    <tr>\n",
       "      <th>1</th>\n",
       "      <td>0.3</td>\n",
       "      <td>9</td>\n",
       "      <td>0.576923</td>\n",
       "    </tr>\n",
       "    <tr>\n",
       "      <th>5</th>\n",
       "      <td>0.1</td>\n",
       "      <td>7</td>\n",
       "      <td>0.562500</td>\n",
       "    </tr>\n",
       "    <tr>\n",
       "      <th>14</th>\n",
       "      <td>0.9</td>\n",
       "      <td>5</td>\n",
       "      <td>0.541667</td>\n",
       "    </tr>\n",
       "    <tr>\n",
       "      <th>12</th>\n",
       "      <td>0.5</td>\n",
       "      <td>5</td>\n",
       "      <td>0.535714</td>\n",
       "    </tr>\n",
       "    <tr>\n",
       "      <th>7</th>\n",
       "      <td>0.5</td>\n",
       "      <td>7</td>\n",
       "      <td>0.528846</td>\n",
       "    </tr>\n",
       "    <tr>\n",
       "      <th>19</th>\n",
       "      <td>0.9</td>\n",
       "      <td>3</td>\n",
       "      <td>0.524194</td>\n",
       "    </tr>\n",
       "    <tr>\n",
       "      <th>10</th>\n",
       "      <td>0.1</td>\n",
       "      <td>5</td>\n",
       "      <td>0.520833</td>\n",
       "    </tr>\n",
       "    <tr>\n",
       "      <th>3</th>\n",
       "      <td>0.7</td>\n",
       "      <td>9</td>\n",
       "      <td>0.517241</td>\n",
       "    </tr>\n",
       "    <tr>\n",
       "      <th>6</th>\n",
       "      <td>0.3</td>\n",
       "      <td>7</td>\n",
       "      <td>0.509259</td>\n",
       "    </tr>\n",
       "    <tr>\n",
       "      <th>15</th>\n",
       "      <td>0.1</td>\n",
       "      <td>3</td>\n",
       "      <td>0.509259</td>\n",
       "    </tr>\n",
       "    <tr>\n",
       "      <th>21</th>\n",
       "      <td>0.3</td>\n",
       "      <td>1</td>\n",
       "      <td>0.500000</td>\n",
       "    </tr>\n",
       "    <tr>\n",
       "      <th>20</th>\n",
       "      <td>0.1</td>\n",
       "      <td>1</td>\n",
       "      <td>0.500000</td>\n",
       "    </tr>\n",
       "    <tr>\n",
       "      <th>2</th>\n",
       "      <td>0.5</td>\n",
       "      <td>9</td>\n",
       "      <td>0.491071</td>\n",
       "    </tr>\n",
       "    <tr>\n",
       "      <th>0</th>\n",
       "      <td>0.1</td>\n",
       "      <td>9</td>\n",
       "      <td>0.486111</td>\n",
       "    </tr>\n",
       "    <tr>\n",
       "      <th>18</th>\n",
       "      <td>0.7</td>\n",
       "      <td>3</td>\n",
       "      <td>0.483871</td>\n",
       "    </tr>\n",
       "    <tr>\n",
       "      <th>8</th>\n",
       "      <td>0.7</td>\n",
       "      <td>7</td>\n",
       "      <td>0.480769</td>\n",
       "    </tr>\n",
       "    <tr>\n",
       "      <th>17</th>\n",
       "      <td>0.5</td>\n",
       "      <td>3</td>\n",
       "      <td>0.474138</td>\n",
       "    </tr>\n",
       "    <tr>\n",
       "      <th>23</th>\n",
       "      <td>0.7</td>\n",
       "      <td>1</td>\n",
       "      <td>0.474138</td>\n",
       "    </tr>\n",
       "    <tr>\n",
       "      <th>16</th>\n",
       "      <td>0.3</td>\n",
       "      <td>3</td>\n",
       "      <td>0.462963</td>\n",
       "    </tr>\n",
       "    <tr>\n",
       "      <th>11</th>\n",
       "      <td>0.3</td>\n",
       "      <td>5</td>\n",
       "      <td>0.458333</td>\n",
       "    </tr>\n",
       "    <tr>\n",
       "      <th>22</th>\n",
       "      <td>0.5</td>\n",
       "      <td>1</td>\n",
       "      <td>0.458333</td>\n",
       "    </tr>\n",
       "    <tr>\n",
       "      <th>24</th>\n",
       "      <td>0.9</td>\n",
       "      <td>1</td>\n",
       "      <td>0.431034</td>\n",
       "    </tr>\n",
       "  </tbody>\n",
       "</table>\n",
       "</div>"
      ],
      "text/plain": [
       "    max_features  min_samples_leaf  fbeta_score\n",
       "4            0.9                 9     0.585938\n",
       "9            0.9                 7     0.580357\n",
       "13           0.7                 5     0.580357\n",
       "1            0.3                 9     0.576923\n",
       "5            0.1                 7     0.562500\n",
       "14           0.9                 5     0.541667\n",
       "12           0.5                 5     0.535714\n",
       "7            0.5                 7     0.528846\n",
       "19           0.9                 3     0.524194\n",
       "10           0.1                 5     0.520833\n",
       "3            0.7                 9     0.517241\n",
       "6            0.3                 7     0.509259\n",
       "15           0.1                 3     0.509259\n",
       "21           0.3                 1     0.500000\n",
       "20           0.1                 1     0.500000\n",
       "2            0.5                 9     0.491071\n",
       "0            0.1                 9     0.486111\n",
       "18           0.7                 3     0.483871\n",
       "8            0.7                 7     0.480769\n",
       "17           0.5                 3     0.474138\n",
       "23           0.7                 1     0.474138\n",
       "16           0.3                 3     0.462963\n",
       "11           0.3                 5     0.458333\n",
       "22           0.5                 1     0.458333\n",
       "24           0.9                 1     0.431034"
      ]
     },
     "execution_count": 37,
     "metadata": {},
     "output_type": "execute_result"
    }
   ],
   "source": [
    "pd.DataFrame(mylist, columns=['max_features', 'min_samples_leaf', 'fbeta_score']).sort_values('fbeta_score', ascending=False)"
   ]
  },
  {
   "cell_type": "markdown",
   "metadata": {},
   "source": [
    "### final models"
   ]
  },
  {
   "cell_type": "markdown",
   "metadata": {},
   "source": [
    "#### model 1"
   ]
  },
  {
   "cell_type": "code",
   "execution_count": 38,
   "metadata": {},
   "outputs": [
    {
     "name": "stdout",
     "output_type": "stream",
     "text": [
      "CPU times: user 143 ms, sys: 24.6 ms, total: 168 ms\n",
      "Wall time: 142 ms\n"
     ]
    }
   ],
   "source": [
    "%%time\n",
    "clf = RandomForestClassifier(n_jobs=-1, n_estimators=50, \n",
    "                             max_features=0.9, min_samples_leaf=9)\n",
    "clf.fit(X, y)"
   ]
  },
  {
   "cell_type": "code",
   "execution_count": 39,
   "metadata": {},
   "outputs": [
    {
     "name": "stdout",
     "output_type": "stream",
     "text": [
      "data score: 0.784973\n",
      "train score: 0.777049\n",
      "val score: 0.664063\n"
     ]
    }
   ],
   "source": [
    "print('data score: %f\\ntrain score: %f\\nval score: %f' % \n",
    "      (fbeta_score(y, clf.predict(X), 0.5),\n",
    "       fbeta_score(y_train, clf.predict(X_train), 0.5),\n",
    "       fbeta_score(y_val, clf.predict(X_val), 0.5)))"
   ]
  },
  {
   "cell_type": "code",
   "execution_count": 40,
   "metadata": {
    "collapsed": true
   },
   "outputs": [],
   "source": [
    "pred = clf.predict(X_test)"
   ]
  },
  {
   "cell_type": "code",
   "execution_count": 41,
   "metadata": {
    "collapsed": true
   },
   "outputs": [],
   "source": [
    "pd.DataFrame({'id':test.id, 'any_spot':pred}, columns=['id','any_spot']).to_csv('preds/Feb16_pred1.csv', index=False)"
   ]
  },
  {
   "cell_type": "markdown",
   "metadata": {},
   "source": [
    "#### model 2"
   ]
  },
  {
   "cell_type": "code",
   "execution_count": 42,
   "metadata": {},
   "outputs": [
    {
     "name": "stdout",
     "output_type": "stream",
     "text": [
      "CPU times: user 153 ms, sys: 25.5 ms, total: 178 ms\n",
      "Wall time: 157 ms\n"
     ]
    }
   ],
   "source": [
    "%%time\n",
    "clf1 = RandomForestClassifier(n_jobs=-1, n_estimators=50, \n",
    "                             max_features=0.9, min_samples_leaf=7)\n",
    "clf1.fit(X, y)"
   ]
  },
  {
   "cell_type": "code",
   "execution_count": 43,
   "metadata": {},
   "outputs": [
    {
     "name": "stdout",
     "output_type": "stream",
     "text": [
      "data score: 0.825716\n",
      "train score: 0.803744\n",
      "val score: 0.694444\n"
     ]
    }
   ],
   "source": [
    "print('data score: %f\\ntrain score: %f\\nval score: %f' % \n",
    "      (fbeta_score(y, clf1.predict(X), 0.5),\n",
    "       fbeta_score(y_train, clf1.predict(X_train), 0.5),\n",
    "       fbeta_score(y_val, clf1.predict(X_val), 0.5)))"
   ]
  },
  {
   "cell_type": "code",
   "execution_count": 44,
   "metadata": {
    "collapsed": true
   },
   "outputs": [],
   "source": [
    "pred = clf1.predict(X_test)"
   ]
  },
  {
   "cell_type": "code",
   "execution_count": 45,
   "metadata": {
    "collapsed": true
   },
   "outputs": [],
   "source": [
    "pd.DataFrame({'id':test.id, 'any_spot':pred}, columns=['id','any_spot']).to_csv('preds/Feb16_pred2.csv', index=False)"
   ]
  },
  {
   "cell_type": "markdown",
   "metadata": {},
   "source": [
    "## XGBoost"
   ]
  },
  {
   "cell_type": "code",
   "execution_count": 46,
   "metadata": {},
   "outputs": [
    {
     "name": "stderr",
     "output_type": "stream",
     "text": [
      "/Users/chuanxu/anaconda/envs/fastai/lib/python3.6/site-packages/sklearn/cross_validation.py:41: DeprecationWarning: This module was deprecated in version 0.18 in favor of the model_selection module into which all the refactored classes and functions are moved. Also note that the interface of the new CV iterators are different from that of this module. This module will be removed in 0.20.\n",
      "  \"This module will be removed in 0.20.\", DeprecationWarning)\n"
     ]
    }
   ],
   "source": [
    "import xgboost as xgb"
   ]
  },
  {
   "cell_type": "code",
   "execution_count": 47,
   "metadata": {
    "collapsed": true
   },
   "outputs": [],
   "source": [
    "dtrain = xgb.DMatrix(X_train, label=y_train)\n",
    "dval = xgb.DMatrix(X_val, label=y_val)"
   ]
  },
  {
   "cell_type": "markdown",
   "metadata": {},
   "source": [
    "#### tune `num_round`"
   ]
  },
  {
   "cell_type": "code",
   "execution_count": 48,
   "metadata": {},
   "outputs": [
    {
     "name": "stdout",
     "output_type": "stream",
     "text": [
      "CPU times: user 7.9 s, sys: 13.9 s, total: 21.8 s\n",
      "Wall time: 8.75 s\n"
     ]
    }
   ],
   "source": [
    "%%time\n",
    "param = {'objective':'multi:softmax', 'num_class':2}\n",
    "num_round = [400, 500, 600, 700, 800]\n",
    "dic = []\n",
    "for n in num_round:\n",
    "    bst = xgb.train(param, dtrain, n)\n",
    "    Yhat_train = bst.predict(dtrain)\n",
    "    Yhat_val = bst.predict(dval)\n",
    "    dic.append({'num_round':n,\n",
    "            'train score':fbeta_score(y_train, Yhat_train, 0.5), \n",
    "            'validation score':fbeta_score(y_val, Yhat_val, 0.5)})"
   ]
  },
  {
   "cell_type": "code",
   "execution_count": 49,
   "metadata": {},
   "outputs": [
    {
     "data": {
      "text/html": [
       "<div>\n",
       "<style>\n",
       "    .dataframe thead tr:only-child th {\n",
       "        text-align: right;\n",
       "    }\n",
       "\n",
       "    .dataframe thead th {\n",
       "        text-align: left;\n",
       "    }\n",
       "\n",
       "    .dataframe tbody tr th {\n",
       "        vertical-align: top;\n",
       "    }\n",
       "</style>\n",
       "<table border=\"1\" class=\"dataframe\">\n",
       "  <thead>\n",
       "    <tr style=\"text-align: right;\">\n",
       "      <th></th>\n",
       "      <th>num_round</th>\n",
       "      <th>train score</th>\n",
       "      <th>validation score</th>\n",
       "    </tr>\n",
       "  </thead>\n",
       "  <tbody>\n",
       "    <tr>\n",
       "      <th>0</th>\n",
       "      <td>400</td>\n",
       "      <td>0.976541</td>\n",
       "      <td>0.507812</td>\n",
       "    </tr>\n",
       "    <tr>\n",
       "      <th>1</th>\n",
       "      <td>500</td>\n",
       "      <td>0.978082</td>\n",
       "      <td>0.492424</td>\n",
       "    </tr>\n",
       "    <tr>\n",
       "      <th>2</th>\n",
       "      <td>600</td>\n",
       "      <td>0.978082</td>\n",
       "      <td>0.492424</td>\n",
       "    </tr>\n",
       "    <tr>\n",
       "      <th>3</th>\n",
       "      <td>700</td>\n",
       "      <td>0.976541</td>\n",
       "      <td>0.468750</td>\n",
       "    </tr>\n",
       "    <tr>\n",
       "      <th>4</th>\n",
       "      <td>800</td>\n",
       "      <td>0.978082</td>\n",
       "      <td>0.468750</td>\n",
       "    </tr>\n",
       "  </tbody>\n",
       "</table>\n",
       "</div>"
      ],
      "text/plain": [
       "   num_round  train score  validation score\n",
       "0        400     0.976541          0.507812\n",
       "1        500     0.978082          0.492424\n",
       "2        600     0.978082          0.492424\n",
       "3        700     0.976541          0.468750\n",
       "4        800     0.978082          0.468750"
      ]
     },
     "execution_count": 49,
     "metadata": {},
     "output_type": "execute_result"
    }
   ],
   "source": [
    "result = pd.DataFrame(dic, columns = ['num_round', 'train score', 'validation score'])\n",
    "result.sort_values('validation score',  ascending=False)"
   ]
  },
  {
   "cell_type": "code",
   "execution_count": 50,
   "metadata": {},
   "outputs": [
    {
     "data": {
      "image/png": "[encoded data removed]",
      "text/plain": [
       "<matplotlib.figure.Figure at 0x1c1e4c75f8>"
      ]
     },
     "metadata": {},
     "output_type": "display_data"
    }
   ],
   "source": [
    "plt.figure(figsize=(8,6))\n",
    "plt.plot(num_round, result['validation score'], label='validation score')\n",
    "plt.plot(num_round, result['train score'], label='train score')\n",
    "plt.xlabel('num_round', fontsize=12)\n",
    "plt.ylabel('accuracy', fontsize=12)\n",
    "plt.legend(loc='best')\n",
    "plt.show()"
   ]
  },
  {
   "cell_type": "markdown",
   "metadata": {},
   "source": [
    "#### tune `learning_rate`"
   ]
  },
  {
   "cell_type": "code",
   "execution_count": 74,
   "metadata": {},
   "outputs": [
    {
     "name": "stderr",
     "output_type": "stream",
     "text": [
      "/Users/chuanxu/anaconda/envs/fastai/lib/python3.6/site-packages/sklearn/metrics/classification.py:1135: UndefinedMetricWarning: F-score is ill-defined and being set to 0.0 due to no predicted samples.\n",
      "  'precision', 'predicted', average, warn_for)\n"
     ]
    },
    {
     "name": "stdout",
     "output_type": "stream",
     "text": [
      "CPU times: user 10.2 s, sys: 20 s, total: 30.2 s\n",
      "Wall time: 12.3 s\n"
     ]
    }
   ],
   "source": [
    "%%time\n",
    "learning_rate = [0.00, 0.02, 0.04, 0.06, 0.08, 0.10]\n",
    "dic = []\n",
    "\n",
    "for i in learning_rate:\n",
    "    param = {'learning_rate':i, 'objective':'multi:softmax', 'num_class':2}\n",
    "    bst = xgb.train(param, dtrain, 600)\n",
    "    Yhat_train = bst.predict(dtrain)\n",
    "    Yhat_val = bst.predict(dval)\n",
    "    dic.append({'learning_rate':i,\n",
    "            'train score':fbeta_score(y_train, Yhat_train, 0.5), \n",
    "            'validation score':fbeta_score(y_val, Yhat_val, 0.5)})"
   ]
  },
  {
   "cell_type": "code",
   "execution_count": 75,
   "metadata": {},
   "outputs": [
    {
     "data": {
      "text/html": [
       "<div>\n",
       "<style>\n",
       "    .dataframe thead tr:only-child th {\n",
       "        text-align: right;\n",
       "    }\n",
       "\n",
       "    .dataframe thead th {\n",
       "        text-align: left;\n",
       "    }\n",
       "\n",
       "    .dataframe tbody tr th {\n",
       "        vertical-align: top;\n",
       "    }\n",
       "</style>\n",
       "<table border=\"1\" class=\"dataframe\">\n",
       "  <thead>\n",
       "    <tr style=\"text-align: right;\">\n",
       "      <th></th>\n",
       "      <th>learning_rate</th>\n",
       "      <th>train score</th>\n",
       "      <th>validation score</th>\n",
       "    </tr>\n",
       "  </thead>\n",
       "  <tbody>\n",
       "    <tr>\n",
       "      <th>2</th>\n",
       "      <td>0.04</td>\n",
       "      <td>0.951586</td>\n",
       "      <td>0.514706</td>\n",
       "    </tr>\n",
       "    <tr>\n",
       "      <th>5</th>\n",
       "      <td>0.10</td>\n",
       "      <td>0.960374</td>\n",
       "      <td>0.514706</td>\n",
       "    </tr>\n",
       "    <tr>\n",
       "      <th>1</th>\n",
       "      <td>0.02</td>\n",
       "      <td>0.912632</td>\n",
       "      <td>0.477941</td>\n",
       "    </tr>\n",
       "    <tr>\n",
       "      <th>4</th>\n",
       "      <td>0.08</td>\n",
       "      <td>0.960374</td>\n",
       "      <td>0.464286</td>\n",
       "    </tr>\n",
       "    <tr>\n",
       "      <th>3</th>\n",
       "      <td>0.06</td>\n",
       "      <td>0.956329</td>\n",
       "      <td>0.405405</td>\n",
       "    </tr>\n",
       "    <tr>\n",
       "      <th>0</th>\n",
       "      <td>0.00</td>\n",
       "      <td>0.000000</td>\n",
       "      <td>0.000000</td>\n",
       "    </tr>\n",
       "  </tbody>\n",
       "</table>\n",
       "</div>"
      ],
      "text/plain": [
       "   learning_rate  train score  validation score\n",
       "2           0.04     0.951586          0.514706\n",
       "5           0.10     0.960374          0.514706\n",
       "1           0.02     0.912632          0.477941\n",
       "4           0.08     0.960374          0.464286\n",
       "3           0.06     0.956329          0.405405\n",
       "0           0.00     0.000000          0.000000"
      ]
     },
     "execution_count": 75,
     "metadata": {},
     "output_type": "execute_result"
    }
   ],
   "source": [
    "result = pd.DataFrame(dic, columns = ['learning_rate', 'train score', 'validation score'])\n",
    "result.sort_values('validation score',  ascending=False)"
   ]
  },
  {
   "cell_type": "code",
   "execution_count": 76,
   "metadata": {},
   "outputs": [
    {
     "data": {
      "image/png": "[encoded data removed]",
      "text/plain": [
       "<matplotlib.figure.Figure at 0x1c222ec940>"
      ]
     },
     "metadata": {},
     "output_type": "display_data"
    }
   ],
   "source": [
    "plt.figure(figsize=(8,6))\n",
    "plt.plot(learning_rate, result['validation score'], label='validation score')\n",
    "plt.plot(learning_rate, result['train score'], label='train score')\n",
    "plt.xlabel('learning_rate', fontsize=12)\n",
    "plt.ylabel('score', fontsize=12)\n",
    "plt.legend(loc='best')\n",
    "plt.show()"
   ]
  },
  {
   "cell_type": "markdown",
   "metadata": {},
   "source": [
    "#### tune `max_depth` and `min_child_weight`"
   ]
  },
  {
   "cell_type": "code",
   "execution_count": 79,
   "metadata": {},
   "outputs": [
    {
     "data": {
      "image/png": "[encoded data removed]",
      "text/plain": [
       "<matplotlib.figure.Figure at 0x1c2242f9e8>"
      ]
     },
     "metadata": {},
     "output_type": "display_data"
    },
    {
     "name": "stdout",
     "output_type": "stream",
     "text": [
      "CPU times: user 35.6 s, sys: 1min 4s, total: 1min 40s\n",
      "Wall time: 45.4 s\n"
     ]
    }
   ],
   "source": [
    "%%time\n",
    "dic = []\n",
    "min_child_weight = [1, 3, 5, 7, 9]\n",
    "max_depth = [1, 3, 5, 7, 9]\n",
    "\n",
    "plt.figure(figsize=(8,6))\n",
    "\n",
    "\n",
    "for i in min_child_weight:\n",
    "    x = []\n",
    "    for j in max_depth:\n",
    "        param = {'learning_rate':0.1, 'objective':'multi:softmax', 'num_class':2,\n",
    "                'min_child_weight':i, 'max_depth':j}\n",
    "        bst = xgb.train(param, dtrain, 600)\n",
    "        Yhat_train = bst.predict(dtrain)\n",
    "        Yhat_val = bst.predict(dval)\n",
    "        dic.append({'min_child_weight':i,\n",
    "                    'max_depth':j,\n",
    "                    'train score':fbeta_score(y_train, Yhat_train, 0.5), \n",
    "                    'validation score':fbeta_score(y_val, Yhat_val, 0.5)})\n",
    "        x.append(fbeta_score(y_val, Yhat_val, 0.5))\n",
    "    plt.plot(max_depth, x, label= 'min_child_weight: ' + str(i))\n",
    "\n",
    "plt.xlabel('max_depth', fontsize=12)\n",
    "plt.ylabel('score', fontsize=12)\n",
    "plt.legend(loc='best')\n",
    "plt.show()"
   ]
  },
  {
   "cell_type": "code",
   "execution_count": 80,
   "metadata": {},
   "outputs": [
    {
     "data": {
      "text/html": [
       "<div>\n",
       "<style>\n",
       "    .dataframe thead tr:only-child th {\n",
       "        text-align: right;\n",
       "    }\n",
       "\n",
       "    .dataframe thead th {\n",
       "        text-align: left;\n",
       "    }\n",
       "\n",
       "    .dataframe tbody tr th {\n",
       "        vertical-align: top;\n",
       "    }\n",
       "</style>\n",
       "<table border=\"1\" class=\"dataframe\">\n",
       "  <thead>\n",
       "    <tr style=\"text-align: right;\">\n",
       "      <th></th>\n",
       "      <th>min_child_weight</th>\n",
       "      <th>max_depth</th>\n",
       "      <th>train score</th>\n",
       "      <th>validation score</th>\n",
       "    </tr>\n",
       "  </thead>\n",
       "  <tbody>\n",
       "    <tr>\n",
       "      <th>3</th>\n",
       "      <td>1</td>\n",
       "      <td>7</td>\n",
       "      <td>0.960374</td>\n",
       "      <td>0.574324</td>\n",
       "    </tr>\n",
       "    <tr>\n",
       "      <th>8</th>\n",
       "      <td>3</td>\n",
       "      <td>7</td>\n",
       "      <td>0.961219</td>\n",
       "      <td>0.535714</td>\n",
       "    </tr>\n",
       "    <tr>\n",
       "      <th>7</th>\n",
       "      <td>3</td>\n",
       "      <td>5</td>\n",
       "      <td>0.943239</td>\n",
       "      <td>0.526316</td>\n",
       "    </tr>\n",
       "    <tr>\n",
       "      <th>12</th>\n",
       "      <td>5</td>\n",
       "      <td>5</td>\n",
       "      <td>0.917808</td>\n",
       "      <td>0.520833</td>\n",
       "    </tr>\n",
       "    <tr>\n",
       "      <th>24</th>\n",
       "      <td>9</td>\n",
       "      <td>9</td>\n",
       "      <td>0.954368</td>\n",
       "      <td>0.506757</td>\n",
       "    </tr>\n",
       "    <tr>\n",
       "      <th>2</th>\n",
       "      <td>1</td>\n",
       "      <td>5</td>\n",
       "      <td>0.961647</td>\n",
       "      <td>0.500000</td>\n",
       "    </tr>\n",
       "    <tr>\n",
       "      <th>23</th>\n",
       "      <td>9</td>\n",
       "      <td>7</td>\n",
       "      <td>0.943290</td>\n",
       "      <td>0.500000</td>\n",
       "    </tr>\n",
       "    <tr>\n",
       "      <th>14</th>\n",
       "      <td>5</td>\n",
       "      <td>9</td>\n",
       "      <td>0.961219</td>\n",
       "      <td>0.500000</td>\n",
       "    </tr>\n",
       "    <tr>\n",
       "      <th>18</th>\n",
       "      <td>7</td>\n",
       "      <td>7</td>\n",
       "      <td>0.955182</td>\n",
       "      <td>0.500000</td>\n",
       "    </tr>\n",
       "    <tr>\n",
       "      <th>21</th>\n",
       "      <td>9</td>\n",
       "      <td>3</td>\n",
       "      <td>0.811442</td>\n",
       "      <td>0.493421</td>\n",
       "    </tr>\n",
       "    <tr>\n",
       "      <th>13</th>\n",
       "      <td>5</td>\n",
       "      <td>7</td>\n",
       "      <td>0.953709</td>\n",
       "      <td>0.486111</td>\n",
       "    </tr>\n",
       "    <tr>\n",
       "      <th>4</th>\n",
       "      <td>1</td>\n",
       "      <td>9</td>\n",
       "      <td>0.958904</td>\n",
       "      <td>0.477941</td>\n",
       "    </tr>\n",
       "    <tr>\n",
       "      <th>19</th>\n",
       "      <td>7</td>\n",
       "      <td>9</td>\n",
       "      <td>0.956497</td>\n",
       "      <td>0.477941</td>\n",
       "    </tr>\n",
       "    <tr>\n",
       "      <th>11</th>\n",
       "      <td>5</td>\n",
       "      <td>3</td>\n",
       "      <td>0.826186</td>\n",
       "      <td>0.472973</td>\n",
       "    </tr>\n",
       "    <tr>\n",
       "      <th>1</th>\n",
       "      <td>1</td>\n",
       "      <td>3</td>\n",
       "      <td>0.869937</td>\n",
       "      <td>0.472973</td>\n",
       "    </tr>\n",
       "    <tr>\n",
       "      <th>17</th>\n",
       "      <td>7</td>\n",
       "      <td>5</td>\n",
       "      <td>0.901820</td>\n",
       "      <td>0.472973</td>\n",
       "    </tr>\n",
       "    <tr>\n",
       "      <th>22</th>\n",
       "      <td>9</td>\n",
       "      <td>5</td>\n",
       "      <td>0.916898</td>\n",
       "      <td>0.472973</td>\n",
       "    </tr>\n",
       "    <tr>\n",
       "      <th>9</th>\n",
       "      <td>3</td>\n",
       "      <td>9</td>\n",
       "      <td>0.964863</td>\n",
       "      <td>0.464286</td>\n",
       "    </tr>\n",
       "    <tr>\n",
       "      <th>16</th>\n",
       "      <td>7</td>\n",
       "      <td>3</td>\n",
       "      <td>0.811594</td>\n",
       "      <td>0.464286</td>\n",
       "    </tr>\n",
       "    <tr>\n",
       "      <th>6</th>\n",
       "      <td>3</td>\n",
       "      <td>3</td>\n",
       "      <td>0.851541</td>\n",
       "      <td>0.457317</td>\n",
       "    </tr>\n",
       "    <tr>\n",
       "      <th>5</th>\n",
       "      <td>3</td>\n",
       "      <td>1</td>\n",
       "      <td>0.643196</td>\n",
       "      <td>0.416667</td>\n",
       "    </tr>\n",
       "    <tr>\n",
       "      <th>15</th>\n",
       "      <td>7</td>\n",
       "      <td>1</td>\n",
       "      <td>0.653048</td>\n",
       "      <td>0.416667</td>\n",
       "    </tr>\n",
       "    <tr>\n",
       "      <th>20</th>\n",
       "      <td>9</td>\n",
       "      <td>1</td>\n",
       "      <td>0.648086</td>\n",
       "      <td>0.416667</td>\n",
       "    </tr>\n",
       "    <tr>\n",
       "      <th>10</th>\n",
       "      <td>5</td>\n",
       "      <td>1</td>\n",
       "      <td>0.643196</td>\n",
       "      <td>0.416667</td>\n",
       "    </tr>\n",
       "    <tr>\n",
       "      <th>0</th>\n",
       "      <td>1</td>\n",
       "      <td>1</td>\n",
       "      <td>0.646581</td>\n",
       "      <td>0.416667</td>\n",
       "    </tr>\n",
       "  </tbody>\n",
       "</table>\n",
       "</div>"
      ],
      "text/plain": [
       "    min_child_weight  max_depth  train score  validation score\n",
       "3                  1          7     0.960374          0.574324\n",
       "8                  3          7     0.961219          0.535714\n",
       "7                  3          5     0.943239          0.526316\n",
       "12                 5          5     0.917808          0.520833\n",
       "24                 9          9     0.954368          0.506757\n",
       "2                  1          5     0.961647          0.500000\n",
       "23                 9          7     0.943290          0.500000\n",
       "14                 5          9     0.961219          0.500000\n",
       "18                 7          7     0.955182          0.500000\n",
       "21                 9          3     0.811442          0.493421\n",
       "13                 5          7     0.953709          0.486111\n",
       "4                  1          9     0.958904          0.477941\n",
       "19                 7          9     0.956497          0.477941\n",
       "11                 5          3     0.826186          0.472973\n",
       "1                  1          3     0.869937          0.472973\n",
       "17                 7          5     0.901820          0.472973\n",
       "22                 9          5     0.916898          0.472973\n",
       "9                  3          9     0.964863          0.464286\n",
       "16                 7          3     0.811594          0.464286\n",
       "6                  3          3     0.851541          0.457317\n",
       "5                  3          1     0.643196          0.416667\n",
       "15                 7          1     0.653048          0.416667\n",
       "20                 9          1     0.648086          0.416667\n",
       "10                 5          1     0.643196          0.416667\n",
       "0                  1          1     0.646581          0.416667"
      ]
     },
     "execution_count": 80,
     "metadata": {},
     "output_type": "execute_result"
    }
   ],
   "source": [
    "result = pd.DataFrame(dic, columns = ['min_child_weight', 'max_depth', \n",
    "                                      'train score', 'validation score'])\n",
    "result.sort_values('validation score',  ascending=False)"
   ]
  },
  {
   "cell_type": "markdown",
   "metadata": {},
   "source": [
    "### fit final model"
   ]
  },
  {
   "cell_type": "code",
   "execution_count": 81,
   "metadata": {
    "collapsed": true
   },
   "outputs": [],
   "source": [
    "d = xgb.DMatrix(X, label=y)\n",
    "dtest = xgb.DMatrix(X_test)"
   ]
  },
  {
   "cell_type": "markdown",
   "metadata": {},
   "source": [
    "#### model 1"
   ]
  },
  {
   "cell_type": "code",
   "execution_count": 82,
   "metadata": {
    "collapsed": true
   },
   "outputs": [],
   "source": [
    "param = {'learning_rate':0.1, 'objective':'multi:softmax', 'num_class':2,\n",
    "         'min_child_weight':1, 'max_depth':7}\n",
    "bst = xgb.train(param, d, 600)"
   ]
  },
  {
   "cell_type": "code",
   "execution_count": 83,
   "metadata": {},
   "outputs": [
    {
     "name": "stdout",
     "output_type": "stream",
     "text": [
      "data score: 0.964230\n",
      "train score: 0.952249\n",
      "val score: 0.945946\n"
     ]
    }
   ],
   "source": [
    "print('data score: %f\\ntrain score: %f\\nval score: %f' % \n",
    "      (fbeta_score(y, bst.predict(d), 0.5),\n",
    "       fbeta_score(y_train, bst.predict(dtrain), 0.5),\n",
    "       fbeta_score(y_val, bst.predict(dval), 0.5)))"
   ]
  },
  {
   "cell_type": "code",
   "execution_count": 84,
   "metadata": {
    "collapsed": true
   },
   "outputs": [],
   "source": [
    "pred = bst.predict(dtest)"
   ]
  },
  {
   "cell_type": "code",
   "execution_count": 85,
   "metadata": {
    "collapsed": true
   },
   "outputs": [],
   "source": [
    "pd.DataFrame({'id':test.id, 'any_spot':pred}, columns=['id','any_spot']).to_csv('preds/Feb16_xbg_pred1.csv', index=False)"
   ]
  },
  {
   "cell_type": "markdown",
   "metadata": {},
   "source": [
    "#### model 2"
   ]
  },
  {
   "cell_type": "code",
   "execution_count": 86,
   "metadata": {
    "collapsed": true
   },
   "outputs": [],
   "source": [
    "param = {'learning_rate':0.10, 'objective':'multi:softmax', 'num_class':2,\n",
    "         'min_child_weight':3, 'max_depth':5}\n",
    "bst1 = xgb.train(param, d, 600)"
   ]
  },
  {
   "cell_type": "code",
   "execution_count": 87,
   "metadata": {},
   "outputs": [
    {
     "name": "stdout",
     "output_type": "stream",
     "text": [
      "data score: 0.955232\n",
      "train score: 0.917457\n",
      "val score: 0.892857\n"
     ]
    }
   ],
   "source": [
    "print('data score: %f\\ntrain score: %f\\nval score: %f' % \n",
    "      (fbeta_score(y, bst1.predict(d), 0.5),\n",
    "       fbeta_score(y_train, bst1.predict(dtrain), 0.5),\n",
    "       fbeta_score(y_val, bst1.predict(dval), 0.5)))"
   ]
  },
  {
   "cell_type": "code",
   "execution_count": 88,
   "metadata": {
    "collapsed": true
   },
   "outputs": [],
   "source": [
    "pred = bst1.predict(dtest)"
   ]
  },
  {
   "cell_type": "code",
   "execution_count": 89,
   "metadata": {
    "collapsed": true
   },
   "outputs": [],
   "source": [
    "pd.DataFrame({'id':test.id, 'any_spot':pred}, columns=['id','any_spot']).to_csv('preds/Feb16_xbg_pred2.csv', index=False)"
   ]
  },
  {
   "cell_type": "code",
   "execution_count": null,
   "metadata": {
    "collapsed": true
   },
   "outputs": [],
   "source": []
  },
  {
   "cell_type": "code",
   "execution_count": null,
   "metadata": {
    "collapsed": true
   },
   "outputs": [],
   "source": []
  },
  {
   "cell_type": "code",
   "execution_count": null,
   "metadata": {
    "collapsed": true
   },
   "outputs": [],
   "source": []
  },
  {
   "cell_type": "code",
   "execution_count": null,
   "metadata": {
    "collapsed": true
   },
   "outputs": [],
   "source": []
  },
  {
   "cell_type": "markdown",
   "metadata": {},
   "source": [
    "### check val is good or not"
   ]
  },
  {
   "cell_type": "code",
   "execution_count": 58,
   "metadata": {
    "collapsed": true
   },
   "outputs": [],
   "source": [
    "kaggle_score = [0.49815, 0.48109]\n",
    "score_on_val = [0.41012218081600849, 0.41673949769920604]"
   ]
  },
  {
   "cell_type": "code",
   "execution_count": 59,
   "metadata": {},
   "outputs": [
    {
     "data": {
      "text/plain": [
       "[<matplotlib.lines.Line2D at 0x1c233852b0>]"
      ]
     },
     "execution_count": 59,
     "metadata": {},
     "output_type": "execute_result"
    },
    {
     "data": {
      "image/png": "[encoded data removed]",
      "text/plain": [
       "<matplotlib.figure.Figure at 0x1c215df828>"
      ]
     },
     "metadata": {},
     "output_type": "display_data"
    }
   ],
   "source": [
    "plt.plot(kaggle_score, score_on_val)"
   ]
  },
  {
   "cell_type": "code",
   "execution_count": null,
   "metadata": {
    "collapsed": true
   },
   "outputs": [],
   "source": []
  }
 ],
 "metadata": {
  "kernelspec": {
   "display_name": "Python 3",
   "language": "python",
   "name": "python3"
  },
  "language_info": {
   "codemirror_mode": {
    "name": "ipython",
    "version": 3
   },
   "file_extension": ".py",
   "mimetype": "text/x-python",
   "name": "python",
   "nbconvert_exporter": "python",
   "pygments_lexer": "ipython3",
   "version": "3.6.2"
  }
 },
 "nbformat": 4,
 "nbformat_minor": 2
}

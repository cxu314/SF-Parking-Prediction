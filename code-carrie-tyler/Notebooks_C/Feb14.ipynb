{
 "cells": [
  {
   "cell_type": "code",
   "execution_count": 1,
   "metadata": {},
   "outputs": [],
   "source": [
    "#Fastai imports --> they include a lot of the things we need\n",
    "%load_ext autoreload\n",
    "%autoreload 2\n",
    "%matplotlib inline\n",
    "import sys\n",
    "sys.path.append('/Users/chuanxu/fastai')\n",
    "from fastai.imports import *\n",
    "from fastai.structured import *\n",
    "from pandas_summary import DataFrameSummary\n",
    "from sklearn.ensemble import RandomForestRegressor, RandomForestClassifier\n",
    "from IPython.display import display\n",
    "from sklearn import metrics\n",
    "import holidays\n",
    "import geocoder\n",
    "import torch\n",
    "from sklearn.ensemble import RandomForestClassifier\n",
    "from sklearn.metrics import log_loss"
   ]
  },
  {
   "cell_type": "code",
   "execution_count": 2,
   "metadata": {
    "collapsed": true
   },
   "outputs": [],
   "source": [
    "streets_latlng = {'11th Street': [37.7724134, -122.4147158],\n",
    " '17th Street': [37.787458, -122.4020796],\n",
    " '23rd Street': [37.7542073, -122.4126306],\n",
    " '25th Street': [37.7509423, -122.4133835],\n",
    " '26th Street': [37.7493609, -122.4129731],\n",
    " '6th Street': [37.7755771, -122.4019497],\n",
    " '7th Street': [37.7730614, -122.4032337],\n",
    " 'Alice B. Toklas Place': [37.7852547, -122.4211281],\n",
    " \"Angelo's Alley\": [37.787458, -122.4020796],\n",
    " 'Annie Street': [37.787458, -122.4020796],\n",
    " 'Antonio Street': [37.7821992, -122.4132137],\n",
    " 'Austin Street': [37.7887461, -122.4237179],\n",
    " 'Bartlett Street': [37.752512, -122.4196056],\n",
    " 'Battery Street': [37.7974664, -122.4008365],\n",
    " 'Bonita Street': [37.787458, -122.4020796],\n",
    " 'Broadway': [37.7959394, -122.4218895],\n",
    " 'Bryant Street': [37.787458, -122.4020796],\n",
    " 'Bush Street': [37.7883998, -122.4226917],\n",
    " 'California Street': [37.7875445, -122.4449271],\n",
    " 'Capp Street': [37.7571095, -122.4178321],\n",
    " 'Cedar Street': [37.7863753, -122.4198512],\n",
    " 'Chatham Place': [37.787458, -122.4020796],\n",
    " 'Clay Street': [37.7913539, -122.4292951],\n",
    " 'Colin Place': [37.7874202, -122.4131149],\n",
    " 'Columbus Avenue': [37.8011696, -122.4115107],\n",
    " 'Commercial Street': [37.787458, -122.4020796],\n",
    " 'Daniel Burnham Court': [37.7867744, -122.4224906],\n",
    " 'Dr Carlton P Goodlett Place': [37.77938580000001, -122.4184416],\n",
    " 'Dr Tom Waddell Place': [37.7778871, -122.4189392],\n",
    " 'Eddy Street': [37.787458, -122.4020796],\n",
    " 'Ellis Street': [37.783497, -122.4236492],\n",
    " 'Elm Street': [37.78121, -122.4081349],\n",
    " 'Fell Street': [37.7743006, -122.4359699],\n",
    " 'Fern Street': [37.7880201, -122.4219536],\n",
    " 'Fulton Street': [37.7738326, -122.4625448],\n",
    " 'Geary Boulevard': [37.781461, -122.4561109],\n",
    " 'Geary Street': [37.781461, -122.4561109],\n",
    " 'Golden Gate Avenue': [37.7792586, -122.4344434],\n",
    " 'Green Street': [37.7977399, -122.4229493],\n",
    " 'Grove Street': [37.7765716, -122.433057],\n",
    " 'Halleck Street': [37.8030103, -122.4544055],\n",
    " 'Hardie Place': [37.787458, -122.4020796],\n",
    " 'Hayes Street': [37.7753224, -122.4353348],\n",
    " 'Hemlock Street': [37.7871072, -122.421611],\n",
    " 'Hotaling Street': [37.7960514, -122.4028479],\n",
    " 'Hyde Street': [37.787458, -122.4020796],\n",
    " 'Jackson Street': [37.7933175, -122.4280068],\n",
    " 'Jessie Street': [37.7807423, -122.4101181],\n",
    " 'Jones Street': [37.7945714, -122.414764],\n",
    " 'Julia Street': [37.777837, -122.4121538],\n",
    " 'Kearny Street': [37.79755919999999, -122.4054381],\n",
    " 'Larkin Street': [37.7919467, -122.4192925],\n",
    " 'Leavenworth Street': [37.7943595, -122.4164059],\n",
    " 'Maiden Lane': [37.787458, -122.4020796],\n",
    " 'Mariposa Street': [37.7636256, -122.4005317],\n",
    " 'Mason Street': [37.787458, -122.4020796],\n",
    " 'McAllister Street': [37.7782213, -122.4350777],\n",
    " 'Meacham Place': [37.7870417, -122.4169846],\n",
    " 'Merchant Street': [37.7950714, -122.4032526],\n",
    " 'Mission Street': [37.787458, -122.4020796],\n",
    " 'Montgomery Street': [37.787458, -122.4020796],\n",
    " 'Myrtle Street': [37.7854391, -122.419668],\n",
    " 'New Montgomery Street': [37.7874561, -122.4005234],\n",
    " 'Nottingham Place': [37.7975938, -122.4051599],\n",
    " \"O'Farrell Street\": [37.7845559, -122.4228608],\n",
    " 'Olive Street': [37.7844067, -122.4202625],\n",
    " 'Pacific Avenue': [37.7945098, -122.4257137],\n",
    " 'Parking Entrance Lane': [37.7827964, -122.4059254],\n",
    " 'Pine Street': [37.7894225, -122.4220832],\n",
    " 'Polk Street': [37.7914361, -122.4208795],\n",
    " 'Post Street': [37.7863214, -122.4241385],\n",
    " 'Powell Street': [37.796504, -122.4100932],\n",
    " 'Redwood Street': [37.7803021, -122.4225317],\n",
    " 'Sansome Street': [37.7979131, -122.4021425],\n",
    " 'South Van Ness Avenue': [37.7917022, -122.4226899],\n",
    " 'Stockton Street': [37.7967103, -122.4084529],\n",
    " 'Stockton Tunnel': [37.7915624, -122.4074199],\n",
    " 'Sutter Street': [37.7873556, -122.4234272],\n",
    " 'Taylor Street': [37.7956513, -122.4132947],\n",
    " 'Turk Street': [37.7813498, -122.4255309],\n",
    " 'Union Street': [37.798571, -122.4239269],\n",
    " 'Valencia Street': [37.7590188, -122.4213455],\n",
    " 'Vallejo Street': [37.787458, -122.4020796],\n",
    " 'Van Ness Avenue': [37.7917022, -122.4226899],\n",
    " 'Verdi Place': [37.7922235, -122.3983974],\n",
    " 'Washington Street': [37.7939891, -122.4156965],\n",
    " 'Willow Street': [37.78315500000001, -122.4225854]}"
   ]
  },
  {
   "cell_type": "code",
   "execution_count": 3,
   "metadata": {},
   "outputs": [],
   "source": [
    "data = pd.read_csv('data/train-parking.csv')\n",
    "data['id'] = [i+1 for i in range(data.shape[0])]\n",
    "test = pd.read_csv('data/test-no-labels-with-id.csv')\n",
    "\n",
    "data = data.rename(index=str, columns = {'Real.Spots':'Real_Spots', 'Street.Length':'Street_Length'})\n",
    "test = test.rename(index=str, columns = {'Real.Spots':'Real_Spots', 'Street.Length':'Street_Length'})"
   ]
  },
  {
   "cell_type": "markdown",
   "metadata": {},
   "source": [
    "### get some features"
   ]
  },
  {
   "cell_type": "code",
   "execution_count": 4,
   "metadata": {},
   "outputs": [],
   "source": [
    "def change_street_latlng(data, col):\n",
    "    df = data.copy()\n",
    "    col_lat = '%s_lat' % col\n",
    "    col_lng = '%s_lng' % col\n",
    "    df[col_lat] = df[col].map(lambda x:streets_latlng[x][0])\n",
    "    df[col_lng] = df[col].map(lambda x:streets_latlng[x][1])\n",
    "    return df"
   ]
  },
  {
   "cell_type": "code",
   "execution_count": 5,
   "metadata": {
    "collapsed": true
   },
   "outputs": [],
   "source": [
    "def get_date_features(df):\n",
    "    us_holidays = holidays.US()\n",
    "    df['datetime'] = pd.to_datetime(df['Date'], format = '%m/%d/%Y')\n",
    "    df['weekday'] = df['datetime'].dt.weekday\n",
    "    df['holidays'] = df['datetime'].map(lambda x:int(x in us_holidays))\n",
    "    \n",
    "    df['daytime'] = pd.to_datetime(df['Time'], format = '%H:%M')\n",
    "    df['hour'] = df['daytime'].dt.hour\n",
    "    return df"
   ]
  },
  {
   "cell_type": "code",
   "execution_count": 6,
   "metadata": {
    "collapsed": true
   },
   "outputs": [],
   "source": [
    "street_cols = ['Street', 'From', 'To']\n",
    "time_columns = ['Date', 'Time', 'datetime', 'daytime', 'hour', 'weekday', 'holidays']\n",
    "time_i_dont_want = ['Date', 'Time', 'datetime', 'daytime']"
   ]
  },
  {
   "cell_type": "code",
   "execution_count": 7,
   "metadata": {},
   "outputs": [],
   "source": [
    "for col in street_cols:\n",
    "    data = change_street_latlng(data, col)\n",
    "    test = change_street_latlng(test, col)"
   ]
  },
  {
   "cell_type": "code",
   "execution_count": 8,
   "metadata": {
    "collapsed": true
   },
   "outputs": [],
   "source": [
    "data = get_date_features(data)\n",
    "test = get_date_features(test)"
   ]
  },
  {
   "cell_type": "code",
   "execution_count": 9,
   "metadata": {},
   "outputs": [
    {
     "data": {
      "text/html": [
       "<div>\n",
       "<style>\n",
       "    .dataframe thead tr:only-child th {\n",
       "        text-align: right;\n",
       "    }\n",
       "\n",
       "    .dataframe thead th {\n",
       "        text-align: left;\n",
       "    }\n",
       "\n",
       "    .dataframe tbody tr th {\n",
       "        vertical-align: top;\n",
       "    }\n",
       "</style>\n",
       "<table border=\"1\" class=\"dataframe\">\n",
       "  <thead>\n",
       "    <tr style=\"text-align: right;\">\n",
       "      <th></th>\n",
       "      <th>0</th>\n",
       "      <th>1</th>\n",
       "      <th>2</th>\n",
       "      <th>3</th>\n",
       "      <th>4</th>\n",
       "      <th>5</th>\n",
       "      <th>6</th>\n",
       "      <th>7</th>\n",
       "      <th>8</th>\n",
       "      <th>9</th>\n",
       "      <th>...</th>\n",
       "      <th>1090</th>\n",
       "      <th>1091</th>\n",
       "      <th>1092</th>\n",
       "      <th>1093</th>\n",
       "      <th>1094</th>\n",
       "      <th>1095</th>\n",
       "      <th>1096</th>\n",
       "      <th>1097</th>\n",
       "      <th>1098</th>\n",
       "      <th>1099</th>\n",
       "    </tr>\n",
       "  </thead>\n",
       "  <tbody>\n",
       "    <tr>\n",
       "      <th>Street</th>\n",
       "      <td>Mission Street</td>\n",
       "      <td>Polk Street</td>\n",
       "      <td>Van Ness Avenue</td>\n",
       "      <td>Van Ness Avenue</td>\n",
       "      <td>Van Ness Avenue</td>\n",
       "      <td>Larkin Street</td>\n",
       "      <td>Pine Street</td>\n",
       "      <td>Pine Street</td>\n",
       "      <td>Larkin Street</td>\n",
       "      <td>Van Ness Avenue</td>\n",
       "      <td>...</td>\n",
       "      <td>Polk Street</td>\n",
       "      <td>Polk Street</td>\n",
       "      <td>Van Ness Avenue</td>\n",
       "      <td>Van Ness Avenue</td>\n",
       "      <td>Van Ness Avenue</td>\n",
       "      <td>Van Ness Avenue</td>\n",
       "      <td>Larkin Street</td>\n",
       "      <td>Larkin Street</td>\n",
       "      <td>Leavenworth Street</td>\n",
       "      <td>Leavenworth Street</td>\n",
       "    </tr>\n",
       "    <tr>\n",
       "      <th>From</th>\n",
       "      <td>25th Street</td>\n",
       "      <td>Ellis Street</td>\n",
       "      <td>Geary Boulevard</td>\n",
       "      <td>Bush Street</td>\n",
       "      <td>Daniel Burnham Court</td>\n",
       "      <td>Cedar Street</td>\n",
       "      <td>Larkin Street</td>\n",
       "      <td>Polk Street</td>\n",
       "      <td>Myrtle Street</td>\n",
       "      <td>Van Ness Avenue</td>\n",
       "      <td>...</td>\n",
       "      <td>Grove Street</td>\n",
       "      <td>Grove Street</td>\n",
       "      <td>Van Ness Avenue</td>\n",
       "      <td>Golden Gate Avenue</td>\n",
       "      <td>Van Ness Avenue</td>\n",
       "      <td>Van Ness Avenue</td>\n",
       "      <td>Sutter Street</td>\n",
       "      <td>Sutter Street</td>\n",
       "      <td>Turk Street</td>\n",
       "      <td>Turk Street</td>\n",
       "    </tr>\n",
       "    <tr>\n",
       "      <th>To</th>\n",
       "      <td>26th Street</td>\n",
       "      <td>Olive Street</td>\n",
       "      <td>Myrtle Street</td>\n",
       "      <td>Fern Street</td>\n",
       "      <td>Post Street</td>\n",
       "      <td>Post Street</td>\n",
       "      <td>Polk Street</td>\n",
       "      <td>Van Ness Avenue</td>\n",
       "      <td>Geary Street</td>\n",
       "      <td>Bush Street</td>\n",
       "      <td>...</td>\n",
       "      <td>Dr Tom Waddell Place</td>\n",
       "      <td>Dr Tom Waddell Place</td>\n",
       "      <td>Fell Street</td>\n",
       "      <td>Van Ness Avenue</td>\n",
       "      <td>Golden Gate Avenue</td>\n",
       "      <td>Bush Street</td>\n",
       "      <td>Larkin Street</td>\n",
       "      <td>Larkin Street</td>\n",
       "      <td>Eddy Street</td>\n",
       "      <td>Eddy Street</td>\n",
       "    </tr>\n",
       "    <tr>\n",
       "      <th>Date</th>\n",
       "      <td>1/7/2014</td>\n",
       "      <td>1/18/2014</td>\n",
       "      <td>1/18/2014</td>\n",
       "      <td>1/18/2014</td>\n",
       "      <td>1/18/2014</td>\n",
       "      <td>1/18/2014</td>\n",
       "      <td>1/18/2014</td>\n",
       "      <td>1/18/2014</td>\n",
       "      <td>1/18/2014</td>\n",
       "      <td>1/18/2014</td>\n",
       "      <td>...</td>\n",
       "      <td>3/28/2014</td>\n",
       "      <td>3/28/2014</td>\n",
       "      <td>3/28/2014</td>\n",
       "      <td>3/28/2014</td>\n",
       "      <td>3/28/2014</td>\n",
       "      <td>3/28/2014</td>\n",
       "      <td>3/28/2014</td>\n",
       "      <td>3/28/2014</td>\n",
       "      <td>3/28/2014</td>\n",
       "      <td>3/28/2014</td>\n",
       "    </tr>\n",
       "    <tr>\n",
       "      <th>Time</th>\n",
       "      <td>16:19</td>\n",
       "      <td>20:42</td>\n",
       "      <td>20:39</td>\n",
       "      <td>20:38</td>\n",
       "      <td>20:38</td>\n",
       "      <td>20:20</td>\n",
       "      <td>20:21</td>\n",
       "      <td>20:22</td>\n",
       "      <td>20:20</td>\n",
       "      <td>20:37</td>\n",
       "      <td>...</td>\n",
       "      <td>20:00</td>\n",
       "      <td>20:33</td>\n",
       "      <td>21:35</td>\n",
       "      <td>21:33</td>\n",
       "      <td>21:28</td>\n",
       "      <td>21:24</td>\n",
       "      <td>19:27</td>\n",
       "      <td>21:44</td>\n",
       "      <td>19:10</td>\n",
       "      <td>21:56</td>\n",
       "    </tr>\n",
       "    <tr>\n",
       "      <th>Real_Spots</th>\n",
       "      <td>4</td>\n",
       "      <td>0</td>\n",
       "      <td>0</td>\n",
       "      <td>0</td>\n",
       "      <td>0</td>\n",
       "      <td>0</td>\n",
       "      <td>0</td>\n",
       "      <td>0</td>\n",
       "      <td>0</td>\n",
       "      <td>0</td>\n",
       "      <td>...</td>\n",
       "      <td>0</td>\n",
       "      <td>0</td>\n",
       "      <td>2</td>\n",
       "      <td>0</td>\n",
       "      <td>0</td>\n",
       "      <td>0</td>\n",
       "      <td>0</td>\n",
       "      <td>0</td>\n",
       "      <td>5</td>\n",
       "      <td>3</td>\n",
       "    </tr>\n",
       "    <tr>\n",
       "      <th>Street_Length</th>\n",
       "      <td>179.133</td>\n",
       "      <td>52.7402</td>\n",
       "      <td>52.5178</td>\n",
       "      <td>52.4053</td>\n",
       "      <td>52.1912</td>\n",
       "      <td>52.3242</td>\n",
       "      <td>146.417</td>\n",
       "      <td>139.494</td>\n",
       "      <td>52.1883</td>\n",
       "      <td>39.028</td>\n",
       "      <td>...</td>\n",
       "      <td>58.041</td>\n",
       "      <td>58.041</td>\n",
       "      <td>40.6716</td>\n",
       "      <td>63.262</td>\n",
       "      <td>44.8157</td>\n",
       "      <td>39.028</td>\n",
       "      <td>48.5558</td>\n",
       "      <td>48.5558</td>\n",
       "      <td>104.83</td>\n",
       "      <td>104.83</td>\n",
       "    </tr>\n",
       "    <tr>\n",
       "      <th>any_spot</th>\n",
       "      <td>1</td>\n",
       "      <td>0</td>\n",
       "      <td>0</td>\n",
       "      <td>0</td>\n",
       "      <td>0</td>\n",
       "      <td>0</td>\n",
       "      <td>0</td>\n",
       "      <td>0</td>\n",
       "      <td>0</td>\n",
       "      <td>0</td>\n",
       "      <td>...</td>\n",
       "      <td>0</td>\n",
       "      <td>0</td>\n",
       "      <td>1</td>\n",
       "      <td>0</td>\n",
       "      <td>0</td>\n",
       "      <td>0</td>\n",
       "      <td>0</td>\n",
       "      <td>0</td>\n",
       "      <td>1</td>\n",
       "      <td>1</td>\n",
       "    </tr>\n",
       "    <tr>\n",
       "      <th>id</th>\n",
       "      <td>1</td>\n",
       "      <td>2</td>\n",
       "      <td>3</td>\n",
       "      <td>4</td>\n",
       "      <td>5</td>\n",
       "      <td>6</td>\n",
       "      <td>7</td>\n",
       "      <td>8</td>\n",
       "      <td>9</td>\n",
       "      <td>10</td>\n",
       "      <td>...</td>\n",
       "      <td>1091</td>\n",
       "      <td>1092</td>\n",
       "      <td>1093</td>\n",
       "      <td>1094</td>\n",
       "      <td>1095</td>\n",
       "      <td>1096</td>\n",
       "      <td>1097</td>\n",
       "      <td>1098</td>\n",
       "      <td>1099</td>\n",
       "      <td>1100</td>\n",
       "    </tr>\n",
       "    <tr>\n",
       "      <th>Street_lat</th>\n",
       "      <td>37.7875</td>\n",
       "      <td>37.7914</td>\n",
       "      <td>37.7917</td>\n",
       "      <td>37.7917</td>\n",
       "      <td>37.7917</td>\n",
       "      <td>37.7919</td>\n",
       "      <td>37.7894</td>\n",
       "      <td>37.7894</td>\n",
       "      <td>37.7919</td>\n",
       "      <td>37.7917</td>\n",
       "      <td>...</td>\n",
       "      <td>37.7914</td>\n",
       "      <td>37.7914</td>\n",
       "      <td>37.7917</td>\n",
       "      <td>37.7917</td>\n",
       "      <td>37.7917</td>\n",
       "      <td>37.7917</td>\n",
       "      <td>37.7919</td>\n",
       "      <td>37.7919</td>\n",
       "      <td>37.7944</td>\n",
       "      <td>37.7944</td>\n",
       "    </tr>\n",
       "    <tr>\n",
       "      <th>Street_lng</th>\n",
       "      <td>-122.402</td>\n",
       "      <td>-122.421</td>\n",
       "      <td>-122.423</td>\n",
       "      <td>-122.423</td>\n",
       "      <td>-122.423</td>\n",
       "      <td>-122.419</td>\n",
       "      <td>-122.422</td>\n",
       "      <td>-122.422</td>\n",
       "      <td>-122.419</td>\n",
       "      <td>-122.423</td>\n",
       "      <td>...</td>\n",
       "      <td>-122.421</td>\n",
       "      <td>-122.421</td>\n",
       "      <td>-122.423</td>\n",
       "      <td>-122.423</td>\n",
       "      <td>-122.423</td>\n",
       "      <td>-122.423</td>\n",
       "      <td>-122.419</td>\n",
       "      <td>-122.419</td>\n",
       "      <td>-122.416</td>\n",
       "      <td>-122.416</td>\n",
       "    </tr>\n",
       "    <tr>\n",
       "      <th>From_lat</th>\n",
       "      <td>37.7509</td>\n",
       "      <td>37.7835</td>\n",
       "      <td>37.7815</td>\n",
       "      <td>37.7884</td>\n",
       "      <td>37.7868</td>\n",
       "      <td>37.7864</td>\n",
       "      <td>37.7919</td>\n",
       "      <td>37.7914</td>\n",
       "      <td>37.7854</td>\n",
       "      <td>37.7917</td>\n",
       "      <td>...</td>\n",
       "      <td>37.7766</td>\n",
       "      <td>37.7766</td>\n",
       "      <td>37.7917</td>\n",
       "      <td>37.7793</td>\n",
       "      <td>37.7917</td>\n",
       "      <td>37.7917</td>\n",
       "      <td>37.7874</td>\n",
       "      <td>37.7874</td>\n",
       "      <td>37.7813</td>\n",
       "      <td>37.7813</td>\n",
       "    </tr>\n",
       "    <tr>\n",
       "      <th>From_lng</th>\n",
       "      <td>-122.413</td>\n",
       "      <td>-122.424</td>\n",
       "      <td>-122.456</td>\n",
       "      <td>-122.423</td>\n",
       "      <td>-122.422</td>\n",
       "      <td>-122.42</td>\n",
       "      <td>-122.419</td>\n",
       "      <td>-122.421</td>\n",
       "      <td>-122.42</td>\n",
       "      <td>-122.423</td>\n",
       "      <td>...</td>\n",
       "      <td>-122.433</td>\n",
       "      <td>-122.433</td>\n",
       "      <td>-122.423</td>\n",
       "      <td>-122.434</td>\n",
       "      <td>-122.423</td>\n",
       "      <td>-122.423</td>\n",
       "      <td>-122.423</td>\n",
       "      <td>-122.423</td>\n",
       "      <td>-122.426</td>\n",
       "      <td>-122.426</td>\n",
       "    </tr>\n",
       "    <tr>\n",
       "      <th>To_lat</th>\n",
       "      <td>37.7494</td>\n",
       "      <td>37.7844</td>\n",
       "      <td>37.7854</td>\n",
       "      <td>37.788</td>\n",
       "      <td>37.7863</td>\n",
       "      <td>37.7863</td>\n",
       "      <td>37.7914</td>\n",
       "      <td>37.7917</td>\n",
       "      <td>37.7815</td>\n",
       "      <td>37.7884</td>\n",
       "      <td>...</td>\n",
       "      <td>37.7779</td>\n",
       "      <td>37.7779</td>\n",
       "      <td>37.7743</td>\n",
       "      <td>37.7917</td>\n",
       "      <td>37.7793</td>\n",
       "      <td>37.7884</td>\n",
       "      <td>37.7919</td>\n",
       "      <td>37.7919</td>\n",
       "      <td>37.7875</td>\n",
       "      <td>37.7875</td>\n",
       "    </tr>\n",
       "    <tr>\n",
       "      <th>To_lng</th>\n",
       "      <td>-122.413</td>\n",
       "      <td>-122.42</td>\n",
       "      <td>-122.42</td>\n",
       "      <td>-122.422</td>\n",
       "      <td>-122.424</td>\n",
       "      <td>-122.424</td>\n",
       "      <td>-122.421</td>\n",
       "      <td>-122.423</td>\n",
       "      <td>-122.456</td>\n",
       "      <td>-122.423</td>\n",
       "      <td>...</td>\n",
       "      <td>-122.419</td>\n",
       "      <td>-122.419</td>\n",
       "      <td>-122.436</td>\n",
       "      <td>-122.423</td>\n",
       "      <td>-122.434</td>\n",
       "      <td>-122.423</td>\n",
       "      <td>-122.419</td>\n",
       "      <td>-122.419</td>\n",
       "      <td>-122.402</td>\n",
       "      <td>-122.402</td>\n",
       "    </tr>\n",
       "    <tr>\n",
       "      <th>datetime</th>\n",
       "      <td>2014-01-07 00:00:00</td>\n",
       "      <td>2014-01-18 00:00:00</td>\n",
       "      <td>2014-01-18 00:00:00</td>\n",
       "      <td>2014-01-18 00:00:00</td>\n",
       "      <td>2014-01-18 00:00:00</td>\n",
       "      <td>2014-01-18 00:00:00</td>\n",
       "      <td>2014-01-18 00:00:00</td>\n",
       "      <td>2014-01-18 00:00:00</td>\n",
       "      <td>2014-01-18 00:00:00</td>\n",
       "      <td>2014-01-18 00:00:00</td>\n",
       "      <td>...</td>\n",
       "      <td>2014-03-28 00:00:00</td>\n",
       "      <td>2014-03-28 00:00:00</td>\n",
       "      <td>2014-03-28 00:00:00</td>\n",
       "      <td>2014-03-28 00:00:00</td>\n",
       "      <td>2014-03-28 00:00:00</td>\n",
       "      <td>2014-03-28 00:00:00</td>\n",
       "      <td>2014-03-28 00:00:00</td>\n",
       "      <td>2014-03-28 00:00:00</td>\n",
       "      <td>2014-03-28 00:00:00</td>\n",
       "      <td>2014-03-28 00:00:00</td>\n",
       "    </tr>\n",
       "    <tr>\n",
       "      <th>weekday</th>\n",
       "      <td>1</td>\n",
       "      <td>5</td>\n",
       "      <td>5</td>\n",
       "      <td>5</td>\n",
       "      <td>5</td>\n",
       "      <td>5</td>\n",
       "      <td>5</td>\n",
       "      <td>5</td>\n",
       "      <td>5</td>\n",
       "      <td>5</td>\n",
       "      <td>...</td>\n",
       "      <td>4</td>\n",
       "      <td>4</td>\n",
       "      <td>4</td>\n",
       "      <td>4</td>\n",
       "      <td>4</td>\n",
       "      <td>4</td>\n",
       "      <td>4</td>\n",
       "      <td>4</td>\n",
       "      <td>4</td>\n",
       "      <td>4</td>\n",
       "    </tr>\n",
       "    <tr>\n",
       "      <th>holidays</th>\n",
       "      <td>0</td>\n",
       "      <td>0</td>\n",
       "      <td>0</td>\n",
       "      <td>0</td>\n",
       "      <td>0</td>\n",
       "      <td>0</td>\n",
       "      <td>0</td>\n",
       "      <td>0</td>\n",
       "      <td>0</td>\n",
       "      <td>0</td>\n",
       "      <td>...</td>\n",
       "      <td>0</td>\n",
       "      <td>0</td>\n",
       "      <td>0</td>\n",
       "      <td>0</td>\n",
       "      <td>0</td>\n",
       "      <td>0</td>\n",
       "      <td>0</td>\n",
       "      <td>0</td>\n",
       "      <td>0</td>\n",
       "      <td>0</td>\n",
       "    </tr>\n",
       "    <tr>\n",
       "      <th>daytime</th>\n",
       "      <td>1900-01-01 16:19:00</td>\n",
       "      <td>1900-01-01 20:42:00</td>\n",
       "      <td>1900-01-01 20:39:00</td>\n",
       "      <td>1900-01-01 20:38:00</td>\n",
       "      <td>1900-01-01 20:38:00</td>\n",
       "      <td>1900-01-01 20:20:00</td>\n",
       "      <td>1900-01-01 20:21:00</td>\n",
       "      <td>1900-01-01 20:22:00</td>\n",
       "      <td>1900-01-01 20:20:00</td>\n",
       "      <td>1900-01-01 20:37:00</td>\n",
       "      <td>...</td>\n",
       "      <td>1900-01-01 20:00:00</td>\n",
       "      <td>1900-01-01 20:33:00</td>\n",
       "      <td>1900-01-01 21:35:00</td>\n",
       "      <td>1900-01-01 21:33:00</td>\n",
       "      <td>1900-01-01 21:28:00</td>\n",
       "      <td>1900-01-01 21:24:00</td>\n",
       "      <td>1900-01-01 19:27:00</td>\n",
       "      <td>1900-01-01 21:44:00</td>\n",
       "      <td>1900-01-01 19:10:00</td>\n",
       "      <td>1900-01-01 21:56:00</td>\n",
       "    </tr>\n",
       "    <tr>\n",
       "      <th>hour</th>\n",
       "      <td>16</td>\n",
       "      <td>20</td>\n",
       "      <td>20</td>\n",
       "      <td>20</td>\n",
       "      <td>20</td>\n",
       "      <td>20</td>\n",
       "      <td>20</td>\n",
       "      <td>20</td>\n",
       "      <td>20</td>\n",
       "      <td>20</td>\n",
       "      <td>...</td>\n",
       "      <td>20</td>\n",
       "      <td>20</td>\n",
       "      <td>21</td>\n",
       "      <td>21</td>\n",
       "      <td>21</td>\n",
       "      <td>21</td>\n",
       "      <td>19</td>\n",
       "      <td>21</td>\n",
       "      <td>19</td>\n",
       "      <td>21</td>\n",
       "    </tr>\n",
       "  </tbody>\n",
       "</table>\n",
       "<p>20 rows × 1100 columns</p>\n",
       "</div>"
      ],
      "text/plain": [
       "                                 0                    1                    2  \\\n",
       "Street              Mission Street          Polk Street      Van Ness Avenue   \n",
       "From                   25th Street         Ellis Street      Geary Boulevard   \n",
       "To                     26th Street         Olive Street        Myrtle Street   \n",
       "Date                      1/7/2014            1/18/2014            1/18/2014   \n",
       "Time                         16:19                20:42                20:39   \n",
       "Real_Spots                       4                    0                    0   \n",
       "Street_Length              179.133              52.7402              52.5178   \n",
       "any_spot                         1                    0                    0   \n",
       "id                               1                    2                    3   \n",
       "Street_lat                 37.7875              37.7914              37.7917   \n",
       "Street_lng                -122.402             -122.421             -122.423   \n",
       "From_lat                   37.7509              37.7835              37.7815   \n",
       "From_lng                  -122.413             -122.424             -122.456   \n",
       "To_lat                     37.7494              37.7844              37.7854   \n",
       "To_lng                    -122.413              -122.42              -122.42   \n",
       "datetime       2014-01-07 00:00:00  2014-01-18 00:00:00  2014-01-18 00:00:00   \n",
       "weekday                          1                    5                    5   \n",
       "holidays                         0                    0                    0   \n",
       "daytime        1900-01-01 16:19:00  1900-01-01 20:42:00  1900-01-01 20:39:00   \n",
       "hour                            16                   20                   20   \n",
       "\n",
       "                                 3                     4                    5  \\\n",
       "Street             Van Ness Avenue       Van Ness Avenue        Larkin Street   \n",
       "From                   Bush Street  Daniel Burnham Court         Cedar Street   \n",
       "To                     Fern Street           Post Street          Post Street   \n",
       "Date                     1/18/2014             1/18/2014            1/18/2014   \n",
       "Time                         20:38                 20:38                20:20   \n",
       "Real_Spots                       0                     0                    0   \n",
       "Street_Length              52.4053               52.1912              52.3242   \n",
       "any_spot                         0                     0                    0   \n",
       "id                               4                     5                    6   \n",
       "Street_lat                 37.7917               37.7917              37.7919   \n",
       "Street_lng                -122.423              -122.423             -122.419   \n",
       "From_lat                   37.7884               37.7868              37.7864   \n",
       "From_lng                  -122.423              -122.422              -122.42   \n",
       "To_lat                      37.788               37.7863              37.7863   \n",
       "To_lng                    -122.422              -122.424             -122.424   \n",
       "datetime       2014-01-18 00:00:00   2014-01-18 00:00:00  2014-01-18 00:00:00   \n",
       "weekday                          5                     5                    5   \n",
       "holidays                         0                     0                    0   \n",
       "daytime        1900-01-01 20:38:00   1900-01-01 20:38:00  1900-01-01 20:20:00   \n",
       "hour                            20                    20                   20   \n",
       "\n",
       "                                 6                    7                    8  \\\n",
       "Street                 Pine Street          Pine Street        Larkin Street   \n",
       "From                 Larkin Street          Polk Street        Myrtle Street   \n",
       "To                     Polk Street      Van Ness Avenue         Geary Street   \n",
       "Date                     1/18/2014            1/18/2014            1/18/2014   \n",
       "Time                         20:21                20:22                20:20   \n",
       "Real_Spots                       0                    0                    0   \n",
       "Street_Length              146.417              139.494              52.1883   \n",
       "any_spot                         0                    0                    0   \n",
       "id                               7                    8                    9   \n",
       "Street_lat                 37.7894              37.7894              37.7919   \n",
       "Street_lng                -122.422             -122.422             -122.419   \n",
       "From_lat                   37.7919              37.7914              37.7854   \n",
       "From_lng                  -122.419             -122.421              -122.42   \n",
       "To_lat                     37.7914              37.7917              37.7815   \n",
       "To_lng                    -122.421             -122.423             -122.456   \n",
       "datetime       2014-01-18 00:00:00  2014-01-18 00:00:00  2014-01-18 00:00:00   \n",
       "weekday                          5                    5                    5   \n",
       "holidays                         0                    0                    0   \n",
       "daytime        1900-01-01 20:21:00  1900-01-01 20:22:00  1900-01-01 20:20:00   \n",
       "hour                            20                   20                   20   \n",
       "\n",
       "                                 9         ...                           1090  \\\n",
       "Street             Van Ness Avenue         ...                    Polk Street   \n",
       "From               Van Ness Avenue         ...                   Grove Street   \n",
       "To                     Bush Street         ...           Dr Tom Waddell Place   \n",
       "Date                     1/18/2014         ...                      3/28/2014   \n",
       "Time                         20:37         ...                          20:00   \n",
       "Real_Spots                       0         ...                              0   \n",
       "Street_Length               39.028         ...                         58.041   \n",
       "any_spot                         0         ...                              0   \n",
       "id                              10         ...                           1091   \n",
       "Street_lat                 37.7917         ...                        37.7914   \n",
       "Street_lng                -122.423         ...                       -122.421   \n",
       "From_lat                   37.7917         ...                        37.7766   \n",
       "From_lng                  -122.423         ...                       -122.433   \n",
       "To_lat                     37.7884         ...                        37.7779   \n",
       "To_lng                    -122.423         ...                       -122.419   \n",
       "datetime       2014-01-18 00:00:00         ...            2014-03-28 00:00:00   \n",
       "weekday                          5         ...                              4   \n",
       "holidays                         0         ...                              0   \n",
       "daytime        1900-01-01 20:37:00         ...            1900-01-01 20:00:00   \n",
       "hour                            20         ...                             20   \n",
       "\n",
       "                               1091                 1092                 1093  \\\n",
       "Street                  Polk Street      Van Ness Avenue      Van Ness Avenue   \n",
       "From                   Grove Street      Van Ness Avenue   Golden Gate Avenue   \n",
       "To             Dr Tom Waddell Place          Fell Street      Van Ness Avenue   \n",
       "Date                      3/28/2014            3/28/2014            3/28/2014   \n",
       "Time                          20:33                21:35                21:33   \n",
       "Real_Spots                        0                    2                    0   \n",
       "Street_Length                58.041              40.6716               63.262   \n",
       "any_spot                          0                    1                    0   \n",
       "id                             1092                 1093                 1094   \n",
       "Street_lat                  37.7914              37.7917              37.7917   \n",
       "Street_lng                 -122.421             -122.423             -122.423   \n",
       "From_lat                    37.7766              37.7917              37.7793   \n",
       "From_lng                   -122.433             -122.423             -122.434   \n",
       "To_lat                      37.7779              37.7743              37.7917   \n",
       "To_lng                     -122.419             -122.436             -122.423   \n",
       "datetime        2014-03-28 00:00:00  2014-03-28 00:00:00  2014-03-28 00:00:00   \n",
       "weekday                           4                    4                    4   \n",
       "holidays                          0                    0                    0   \n",
       "daytime         1900-01-01 20:33:00  1900-01-01 21:35:00  1900-01-01 21:33:00   \n",
       "hour                             20                   21                   21   \n",
       "\n",
       "                              1094                 1095                 1096  \\\n",
       "Street             Van Ness Avenue      Van Ness Avenue        Larkin Street   \n",
       "From               Van Ness Avenue      Van Ness Avenue        Sutter Street   \n",
       "To              Golden Gate Avenue          Bush Street        Larkin Street   \n",
       "Date                     3/28/2014            3/28/2014            3/28/2014   \n",
       "Time                         21:28                21:24                19:27   \n",
       "Real_Spots                       0                    0                    0   \n",
       "Street_Length              44.8157               39.028              48.5558   \n",
       "any_spot                         0                    0                    0   \n",
       "id                            1095                 1096                 1097   \n",
       "Street_lat                 37.7917              37.7917              37.7919   \n",
       "Street_lng                -122.423             -122.423             -122.419   \n",
       "From_lat                   37.7917              37.7917              37.7874   \n",
       "From_lng                  -122.423             -122.423             -122.423   \n",
       "To_lat                     37.7793              37.7884              37.7919   \n",
       "To_lng                    -122.434             -122.423             -122.419   \n",
       "datetime       2014-03-28 00:00:00  2014-03-28 00:00:00  2014-03-28 00:00:00   \n",
       "weekday                          4                    4                    4   \n",
       "holidays                         0                    0                    0   \n",
       "daytime        1900-01-01 21:28:00  1900-01-01 21:24:00  1900-01-01 19:27:00   \n",
       "hour                            21                   21                   19   \n",
       "\n",
       "                              1097                 1098                 1099  \n",
       "Street               Larkin Street   Leavenworth Street   Leavenworth Street  \n",
       "From                 Sutter Street          Turk Street          Turk Street  \n",
       "To                   Larkin Street          Eddy Street          Eddy Street  \n",
       "Date                     3/28/2014            3/28/2014            3/28/2014  \n",
       "Time                         21:44                19:10                21:56  \n",
       "Real_Spots                       0                    5                    3  \n",
       "Street_Length              48.5558               104.83               104.83  \n",
       "any_spot                         0                    1                    1  \n",
       "id                            1098                 1099                 1100  \n",
       "Street_lat                 37.7919              37.7944              37.7944  \n",
       "Street_lng                -122.419             -122.416             -122.416  \n",
       "From_lat                   37.7874              37.7813              37.7813  \n",
       "From_lng                  -122.423             -122.426             -122.426  \n",
       "To_lat                     37.7919              37.7875              37.7875  \n",
       "To_lng                    -122.419             -122.402             -122.402  \n",
       "datetime       2014-03-28 00:00:00  2014-03-28 00:00:00  2014-03-28 00:00:00  \n",
       "weekday                          4                    4                    4  \n",
       "holidays                         0                    0                    0  \n",
       "daytime        1900-01-01 21:44:00  1900-01-01 19:10:00  1900-01-01 21:56:00  \n",
       "hour                            21                   19                   21  \n",
       "\n",
       "[20 rows x 1100 columns]"
      ]
     },
     "execution_count": 9,
     "metadata": {},
     "output_type": "execute_result"
    }
   ],
   "source": [
    "data.transpose()"
   ]
  },
  {
   "cell_type": "markdown",
   "metadata": {},
   "source": [
    "### split train, val"
   ]
  },
  {
   "cell_type": "code",
   "execution_count": 10,
   "metadata": {},
   "outputs": [],
   "source": [
    "#get the second row in each group\n",
    "val_id = sorted(data.groupby(['Street', 'From', 'To']).nth(2).id.tolist())"
   ]
  },
  {
   "cell_type": "code",
   "execution_count": 11,
   "metadata": {},
   "outputs": [],
   "source": [
    "train = data[~data['id'].isin(val_id)]\n",
    "val = data[data['id'].isin(val_id)]"
   ]
  },
  {
   "cell_type": "code",
   "execution_count": 12,
   "metadata": {},
   "outputs": [
    {
     "data": {
      "text/plain": [
       "((1005, 20), (95, 20), (1100, 20), (726, 18))"
      ]
     },
     "execution_count": 12,
     "metadata": {},
     "output_type": "execute_result"
    }
   ],
   "source": [
    "train.shape, val.shape, data.shape, test.shape"
   ]
  },
  {
   "cell_type": "markdown",
   "metadata": {},
   "source": [
    "### mean_encoding"
   ]
  },
  {
   "cell_type": "code",
   "execution_count": 13,
   "metadata": {
    "collapsed": true
   },
   "outputs": [],
   "source": [
    "def mean_encoding_test(test, train, col):\n",
    "    \"\"\" Computes target enconding for test data.\n",
    "    \n",
    "    This is similar to how we do validation\n",
    "    \"\"\"\n",
    "    new_col = '%s_RS_mean' % col\n",
    "    m = train.groupby(col).Real_Spots.mean()\n",
    "    train[new_col] = train[col].map(m)\n",
    "    test[new_col] = test[col].map(m)\n",
    "    return test, train"
   ]
  },
  {
   "cell_type": "code",
   "execution_count": 14,
   "metadata": {},
   "outputs": [
    {
     "name": "stderr",
     "output_type": "stream",
     "text": [
      "/Users/chuanxu/anaconda/envs/fastai/lib/python3.6/site-packages/ipykernel_launcher.py:8: SettingWithCopyWarning: \n",
      "A value is trying to be set on a copy of a slice from a DataFrame.\n",
      "Try using .loc[row_indexer,col_indexer] = value instead\n",
      "\n",
      "See the caveats in the documentation: http://pandas.pydata.org/pandas-docs/stable/indexing.html#indexing-view-versus-copy\n",
      "  \n",
      "/Users/chuanxu/anaconda/envs/fastai/lib/python3.6/site-packages/ipykernel_launcher.py:9: SettingWithCopyWarning: \n",
      "A value is trying to be set on a copy of a slice from a DataFrame.\n",
      "Try using .loc[row_indexer,col_indexer] = value instead\n",
      "\n",
      "See the caveats in the documentation: http://pandas.pydata.org/pandas-docs/stable/indexing.html#indexing-view-versus-copy\n",
      "  if __name__ == '__main__':\n"
     ]
    },
    {
     "name": "stdout",
     "output_type": "stream",
     "text": [
      "CPU times: user 397 ms, sys: 5.08 ms, total: 403 ms\n",
      "Wall time: 400 ms\n"
     ]
    }
   ],
   "source": [
    "%%time \n",
    "mean_encoding_cols = ['Street', 'weekday', 'hour']\n",
    "\n",
    "for c in mean_encoding_cols:\n",
    "    val, train = mean_encoding_test(val, train, c)\n",
    "    test, data = mean_encoding_test(test, data, c)"
   ]
  },
  {
   "cell_type": "markdown",
   "metadata": {},
   "source": [
    "holiday matters"
   ]
  },
  {
   "cell_type": "markdown",
   "metadata": {},
   "source": [
    "### take care of 23:00 which only appears in test"
   ]
  },
  {
   "cell_type": "code",
   "execution_count": 15,
   "metadata": {
    "collapsed": true
   },
   "outputs": [],
   "source": [
    "m = dict(data.groupby('hour').Real_Spots.mean())"
   ]
  },
  {
   "cell_type": "code",
   "execution_count": 16,
   "metadata": {},
   "outputs": [
    {
     "data": {
      "text/plain": [
       "{7: 1.9841269841269842,\n",
       " 8: 1.7777777777777777,\n",
       " 9: 2.8103448275862069,\n",
       " 10: 0.96875,\n",
       " 11: 0.58064516129032262,\n",
       " 12: 0.60606060606060608,\n",
       " 13: 1.9702970297029703,\n",
       " 14: 1.1100917431192661,\n",
       " 15: 2.6288659793814433,\n",
       " 16: 1.5510204081632653,\n",
       " 17: 5.9672131147540988,\n",
       " 18: 1.292929292929293,\n",
       " 19: 1.118279569892473,\n",
       " 20: 1.0,\n",
       " 21: 0.65934065934065933,\n",
       " 22: 0.40000000000000002}"
      ]
     },
     "execution_count": 16,
     "metadata": {},
     "output_type": "execute_result"
    }
   ],
   "source": [
    "m"
   ]
  },
  {
   "cell_type": "code",
   "execution_count": 17,
   "metadata": {},
   "outputs": [],
   "source": [
    "m[23] = 0.4"
   ]
  },
  {
   "cell_type": "code",
   "execution_count": 18,
   "metadata": {},
   "outputs": [
    {
     "data": {
      "text/plain": [
       "{7: 1.9841269841269842,\n",
       " 8: 1.7777777777777777,\n",
       " 9: 2.8103448275862069,\n",
       " 10: 0.96875,\n",
       " 11: 0.58064516129032262,\n",
       " 12: 0.60606060606060608,\n",
       " 13: 1.9702970297029703,\n",
       " 14: 1.1100917431192661,\n",
       " 15: 2.6288659793814433,\n",
       " 16: 1.5510204081632653,\n",
       " 17: 5.9672131147540988,\n",
       " 18: 1.292929292929293,\n",
       " 19: 1.118279569892473,\n",
       " 20: 1.0,\n",
       " 21: 0.65934065934065933,\n",
       " 22: 0.40000000000000002,\n",
       " 23: 0.4}"
      ]
     },
     "execution_count": 18,
     "metadata": {},
     "output_type": "execute_result"
    }
   ],
   "source": [
    "m"
   ]
  },
  {
   "cell_type": "code",
   "execution_count": 19,
   "metadata": {
    "collapsed": true
   },
   "outputs": [],
   "source": [
    "test['hour_RS_mean'] = test['hour'].map(m)"
   ]
  },
  {
   "cell_type": "markdown",
   "metadata": {},
   "source": [
    "# Model 1"
   ]
  },
  {
   "cell_type": "markdown",
   "metadata": {},
   "source": [
    "### get X, y on train, val set"
   ]
  },
  {
   "cell_type": "code",
   "execution_count": 20,
   "metadata": {
    "collapsed": true
   },
   "outputs": [],
   "source": [
    "street_cols = ['Street', 'From', 'To']\n",
    "time_columns = ['Date', 'Time', 'datetime', 'daytime', 'hour', 'weekday', 'holidays']\n",
    "time_i_dont_want = ['Date', 'Time', 'datetime', 'daytime']\n",
    "\n",
    "to_drop = street_cols + time_i_dont_want + ['id']\n",
    "to_drop_on_data = to_drop + ['Real_Spots']"
   ]
  },
  {
   "cell_type": "code",
   "execution_count": 21,
   "metadata": {},
   "outputs": [
    {
     "data": {
      "text/plain": [
       "((1005, 13), (95, 13), (1005,), (95,))"
      ]
     },
     "execution_count": 21,
     "metadata": {},
     "output_type": "execute_result"
    }
   ],
   "source": [
    "X_train, y_train = train.drop(to_drop_on_data + ['any_spot'], axis = 1), train.any_spot\n",
    "X_val, y_val = val.drop(to_drop_on_data + ['any_spot'], axis = 1), val.any_spot\n",
    "X_train.shape, X_val.shape, y_train.shape, y_val.shape"
   ]
  },
  {
   "cell_type": "markdown",
   "metadata": {},
   "source": [
    "### tune hyperparameters"
   ]
  },
  {
   "cell_type": "code",
   "execution_count": 22,
   "metadata": {},
   "outputs": [
    {
     "data": {
      "image/png": "[encoded data removed]",
      "text/plain": [
       "<matplotlib.figure.Figure at 0x1c1e035048>"
      ]
     },
     "metadata": {},
     "output_type": "display_data"
    },
    {
     "name": "stdout",
     "output_type": "stream",
     "text": [
      "CPU times: user 2.34 s, sys: 560 ms, total: 2.9 s\n",
      "Wall time: 5.26 s\n"
     ]
    }
   ],
   "source": [
    "%%time\n",
    "max_features=[0.1, 0.3, 0.5, 0.7]\n",
    "min_samples_leaf= [9, 7, 5, 3, 1]\n",
    "\n",
    "plt.figure(figsize=(8,6))\n",
    "\n",
    "mylist = []\n",
    "for j in min_samples_leaf:\n",
    "    x = []\n",
    "    for i in max_features:\n",
    "        clf = RandomForestClassifier(n_jobs=-1, n_estimators=50, max_features=i, min_samples_leaf=j)\n",
    "        clf.fit(X_train, y_train)\n",
    "        dic = {'max_features':i, 'min_samples_leaf':j, 'log_loss':log_loss(y_val, clf.predict_proba(X_val)[:,1])}\n",
    "        mylist.append(dic)\n",
    "        x.append(dic['log_loss'])\n",
    "    plt.plot(max_features,x, label=str(j))\n",
    "\n",
    "plt.xlabel('max_features', fontsize=12)\n",
    "plt.ylabel('log_loss', fontsize=12)\n",
    "plt.legend(loc='best')\n",
    "plt.show()"
   ]
  },
  {
   "cell_type": "code",
   "execution_count": 23,
   "metadata": {},
   "outputs": [
    {
     "data": {
      "text/html": [
       "<div>\n",
       "<style>\n",
       "    .dataframe thead tr:only-child th {\n",
       "        text-align: right;\n",
       "    }\n",
       "\n",
       "    .dataframe thead th {\n",
       "        text-align: left;\n",
       "    }\n",
       "\n",
       "    .dataframe tbody tr th {\n",
       "        vertical-align: top;\n",
       "    }\n",
       "</style>\n",
       "<table border=\"1\" class=\"dataframe\">\n",
       "  <thead>\n",
       "    <tr style=\"text-align: right;\">\n",
       "      <th></th>\n",
       "      <th>max_features</th>\n",
       "      <th>min_samples_leaf</th>\n",
       "      <th>log_loss</th>\n",
       "    </tr>\n",
       "  </thead>\n",
       "  <tbody>\n",
       "    <tr>\n",
       "      <th>16</th>\n",
       "      <td>0.1</td>\n",
       "      <td>1</td>\n",
       "      <td>0.516172</td>\n",
       "    </tr>\n",
       "    <tr>\n",
       "      <th>14</th>\n",
       "      <td>0.5</td>\n",
       "      <td>3</td>\n",
       "      <td>0.521083</td>\n",
       "    </tr>\n",
       "    <tr>\n",
       "      <th>12</th>\n",
       "      <td>0.1</td>\n",
       "      <td>3</td>\n",
       "      <td>0.524967</td>\n",
       "    </tr>\n",
       "    <tr>\n",
       "      <th>13</th>\n",
       "      <td>0.3</td>\n",
       "      <td>3</td>\n",
       "      <td>0.526969</td>\n",
       "    </tr>\n",
       "    <tr>\n",
       "      <th>7</th>\n",
       "      <td>0.7</td>\n",
       "      <td>7</td>\n",
       "      <td>0.534041</td>\n",
       "    </tr>\n",
       "    <tr>\n",
       "      <th>15</th>\n",
       "      <td>0.7</td>\n",
       "      <td>3</td>\n",
       "      <td>0.534628</td>\n",
       "    </tr>\n",
       "    <tr>\n",
       "      <th>8</th>\n",
       "      <td>0.1</td>\n",
       "      <td>5</td>\n",
       "      <td>0.535454</td>\n",
       "    </tr>\n",
       "    <tr>\n",
       "      <th>9</th>\n",
       "      <td>0.3</td>\n",
       "      <td>5</td>\n",
       "      <td>0.540107</td>\n",
       "    </tr>\n",
       "    <tr>\n",
       "      <th>10</th>\n",
       "      <td>0.5</td>\n",
       "      <td>5</td>\n",
       "      <td>0.540833</td>\n",
       "    </tr>\n",
       "    <tr>\n",
       "      <th>17</th>\n",
       "      <td>0.3</td>\n",
       "      <td>1</td>\n",
       "      <td>0.543608</td>\n",
       "    </tr>\n",
       "    <tr>\n",
       "      <th>3</th>\n",
       "      <td>0.7</td>\n",
       "      <td>9</td>\n",
       "      <td>0.544058</td>\n",
       "    </tr>\n",
       "    <tr>\n",
       "      <th>5</th>\n",
       "      <td>0.3</td>\n",
       "      <td>7</td>\n",
       "      <td>0.545447</td>\n",
       "    </tr>\n",
       "    <tr>\n",
       "      <th>19</th>\n",
       "      <td>0.7</td>\n",
       "      <td>1</td>\n",
       "      <td>0.545514</td>\n",
       "    </tr>\n",
       "    <tr>\n",
       "      <th>6</th>\n",
       "      <td>0.5</td>\n",
       "      <td>7</td>\n",
       "      <td>0.546054</td>\n",
       "    </tr>\n",
       "    <tr>\n",
       "      <th>11</th>\n",
       "      <td>0.7</td>\n",
       "      <td>5</td>\n",
       "      <td>0.548286</td>\n",
       "    </tr>\n",
       "    <tr>\n",
       "      <th>2</th>\n",
       "      <td>0.5</td>\n",
       "      <td>9</td>\n",
       "      <td>0.549412</td>\n",
       "    </tr>\n",
       "    <tr>\n",
       "      <th>1</th>\n",
       "      <td>0.3</td>\n",
       "      <td>9</td>\n",
       "      <td>0.550794</td>\n",
       "    </tr>\n",
       "    <tr>\n",
       "      <th>4</th>\n",
       "      <td>0.1</td>\n",
       "      <td>7</td>\n",
       "      <td>0.558541</td>\n",
       "    </tr>\n",
       "    <tr>\n",
       "      <th>0</th>\n",
       "      <td>0.1</td>\n",
       "      <td>9</td>\n",
       "      <td>0.562454</td>\n",
       "    </tr>\n",
       "    <tr>\n",
       "      <th>18</th>\n",
       "      <td>0.5</td>\n",
       "      <td>1</td>\n",
       "      <td>0.565418</td>\n",
       "    </tr>\n",
       "  </tbody>\n",
       "</table>\n",
       "</div>"
      ],
      "text/plain": [
       "    max_features  min_samples_leaf  log_loss\n",
       "16           0.1                 1  0.516172\n",
       "14           0.5                 3  0.521083\n",
       "12           0.1                 3  0.524967\n",
       "13           0.3                 3  0.526969\n",
       "7            0.7                 7  0.534041\n",
       "15           0.7                 3  0.534628\n",
       "8            0.1                 5  0.535454\n",
       "9            0.3                 5  0.540107\n",
       "10           0.5                 5  0.540833\n",
       "17           0.3                 1  0.543608\n",
       "3            0.7                 9  0.544058\n",
       "5            0.3                 7  0.545447\n",
       "19           0.7                 1  0.545514\n",
       "6            0.5                 7  0.546054\n",
       "11           0.7                 5  0.548286\n",
       "2            0.5                 9  0.549412\n",
       "1            0.3                 9  0.550794\n",
       "4            0.1                 7  0.558541\n",
       "0            0.1                 9  0.562454\n",
       "18           0.5                 1  0.565418"
      ]
     },
     "execution_count": 23,
     "metadata": {},
     "output_type": "execute_result"
    }
   ],
   "source": [
    "pd.DataFrame(mylist, columns=['max_features', 'min_samples_leaf', 'log_loss']).sort_values('log_loss')"
   ]
  },
  {
   "cell_type": "markdown",
   "metadata": {},
   "source": [
    "### fit the final data"
   ]
  },
  {
   "cell_type": "code",
   "execution_count": 24,
   "metadata": {},
   "outputs": [
    {
     "data": {
      "text/plain": [
       "((1100, 13), (726, 13), (1100,))"
      ]
     },
     "execution_count": 24,
     "metadata": {},
     "output_type": "execute_result"
    }
   ],
   "source": [
    "X, y = data.drop(to_drop_on_data + ['any_spot'], axis = 1), data.any_spot\n",
    "X_test = test.drop(to_drop, axis = 1)\n",
    "X.shape, X_test.shape, y.shape"
   ]
  },
  {
   "cell_type": "code",
   "execution_count": 36,
   "metadata": {},
   "outputs": [
    {
     "name": "stdout",
     "output_type": "stream",
     "text": [
      "CPU times: user 86 ms, sys: 33 ms, total: 119 ms\n",
      "Wall time: 146 ms\n"
     ]
    }
   ],
   "source": [
    "%%time\n",
    "clf = RandomForestClassifier(n_jobs=-1, n_estimators=50, max_features=0.1, min_samples_leaf=1)\n",
    "clf.fit(X, y)"
   ]
  },
  {
   "cell_type": "code",
   "execution_count": 37,
   "metadata": {},
   "outputs": [],
   "source": [
    "pred = clf.predict(X_test)"
   ]
  },
  {
   "cell_type": "code",
   "execution_count": 38,
   "metadata": {
    "collapsed": true
   },
   "outputs": [],
   "source": [
    "pd.DataFrame({'id':test.id, 'any_spot':pred}, columns=['id','any_spot']).to_csv('preds/pred4.csv', index=False)"
   ]
  },
  {
   "cell_type": "code",
   "execution_count": null,
   "metadata": {
    "collapsed": true
   },
   "outputs": [],
   "source": [
    "#pd.DataFrame({'id':test.id, 'any_spot':pred}, columns=['id','any_spot']).to_csv('preds/pred4.csv', index=False)\n",
    "#\n",
    "#log_loss(y_val, clf.predict_proba(X_val)[:,1])\n",
    "#0.2203037432414105"
   ]
  },
  {
   "cell_type": "code",
   "execution_count": null,
   "metadata": {
    "collapsed": true
   },
   "outputs": [],
   "source": [
    "#pd.DataFrame({'id':test.id, 'any_spot':pred}, columns=['id','any_spot']).to_csv('preds/pred3.csv', index=False)\n",
    "#\n",
    "#log_loss(y_val, clf.predict_proba(X_val)[:,1])\n",
    "#0.34818608071223228"
   ]
  },
  {
   "cell_type": "code",
   "execution_count": 34,
   "metadata": {},
   "outputs": [],
   "source": [
    "#pd.DataFrame({'id':test.id, 'any_spot':pred}, columns=['id','any_spot']).to_csv('preds/pred1.csv', index=False)\n",
    "#0.49815\n",
    "#log_loss(y_val, clf.predict_proba(X_val)[:,1])\n",
    "#0.41012218081600849"
   ]
  },
  {
   "cell_type": "markdown",
   "metadata": {},
   "source": [
    "### featuer importance"
   ]
  },
  {
   "cell_type": "code",
   "execution_count": 29,
   "metadata": {},
   "outputs": [
    {
     "data": {
      "text/plain": [
       "<matplotlib.axes._subplots.AxesSubplot at 0x1c1e029a20>"
      ]
     },
     "execution_count": 29,
     "metadata": {},
     "output_type": "execute_result"
    },
    {
     "data": {
      "image/png": "[encoded data removed]",
      "text/plain": [
       "<matplotlib.figure.Figure at 0x1c2157eb00>"
      ]
     },
     "metadata": {},
     "output_type": "display_data"
    }
   ],
   "source": [
    "fi = rf_feat_importance(clf, X)\n",
    "fi.plot('cols', 'imp', 'barh', figsize=(12,7), legend=False)"
   ]
  },
  {
   "cell_type": "code",
   "execution_count": 30,
   "metadata": {},
   "outputs": [
    {
     "data": {
      "text/html": [
       "<div>\n",
       "<style>\n",
       "    .dataframe thead tr:only-child th {\n",
       "        text-align: right;\n",
       "    }\n",
       "\n",
       "    .dataframe thead th {\n",
       "        text-align: left;\n",
       "    }\n",
       "\n",
       "    .dataframe tbody tr th {\n",
       "        vertical-align: top;\n",
       "    }\n",
       "</style>\n",
       "<table border=\"1\" class=\"dataframe\">\n",
       "  <thead>\n",
       "    <tr style=\"text-align: right;\">\n",
       "      <th></th>\n",
       "      <th>cols</th>\n",
       "      <th>imp</th>\n",
       "    </tr>\n",
       "  </thead>\n",
       "  <tbody>\n",
       "    <tr>\n",
       "      <th>0</th>\n",
       "      <td>Street_Length</td>\n",
       "      <td>0.164125</td>\n",
       "    </tr>\n",
       "    <tr>\n",
       "      <th>12</th>\n",
       "      <td>hour_RS_mean</td>\n",
       "      <td>0.132253</td>\n",
       "    </tr>\n",
       "    <tr>\n",
       "      <th>9</th>\n",
       "      <td>hour</td>\n",
       "      <td>0.102151</td>\n",
       "    </tr>\n",
       "    <tr>\n",
       "      <th>10</th>\n",
       "      <td>Street_RS_mean</td>\n",
       "      <td>0.098661</td>\n",
       "    </tr>\n",
       "    <tr>\n",
       "      <th>6</th>\n",
       "      <td>To_lng</td>\n",
       "      <td>0.081435</td>\n",
       "    </tr>\n",
       "    <tr>\n",
       "      <th>4</th>\n",
       "      <td>From_lng</td>\n",
       "      <td>0.075718</td>\n",
       "    </tr>\n",
       "    <tr>\n",
       "      <th>11</th>\n",
       "      <td>weekday_RS_mean</td>\n",
       "      <td>0.074571</td>\n",
       "    </tr>\n",
       "    <tr>\n",
       "      <th>3</th>\n",
       "      <td>From_lat</td>\n",
       "      <td>0.072949</td>\n",
       "    </tr>\n",
       "    <tr>\n",
       "      <th>7</th>\n",
       "      <td>weekday</td>\n",
       "      <td>0.069946</td>\n",
       "    </tr>\n",
       "    <tr>\n",
       "      <th>5</th>\n",
       "      <td>To_lat</td>\n",
       "      <td>0.057203</td>\n",
       "    </tr>\n",
       "    <tr>\n",
       "      <th>2</th>\n",
       "      <td>Street_lng</td>\n",
       "      <td>0.037345</td>\n",
       "    </tr>\n",
       "    <tr>\n",
       "      <th>1</th>\n",
       "      <td>Street_lat</td>\n",
       "      <td>0.033276</td>\n",
       "    </tr>\n",
       "    <tr>\n",
       "      <th>8</th>\n",
       "      <td>holidays</td>\n",
       "      <td>0.000366</td>\n",
       "    </tr>\n",
       "  </tbody>\n",
       "</table>\n",
       "</div>"
      ],
      "text/plain": [
       "               cols       imp\n",
       "0     Street_Length  0.164125\n",
       "12     hour_RS_mean  0.132253\n",
       "9              hour  0.102151\n",
       "10   Street_RS_mean  0.098661\n",
       "6            To_lng  0.081435\n",
       "4          From_lng  0.075718\n",
       "11  weekday_RS_mean  0.074571\n",
       "3          From_lat  0.072949\n",
       "7           weekday  0.069946\n",
       "5            To_lat  0.057203\n",
       "2        Street_lng  0.037345\n",
       "1        Street_lat  0.033276\n",
       "8          holidays  0.000366"
      ]
     },
     "execution_count": 30,
     "metadata": {},
     "output_type": "execute_result"
    }
   ],
   "source": [
    "fi"
   ]
  },
  {
   "cell_type": "code",
   "execution_count": 31,
   "metadata": {},
   "outputs": [
    {
     "data": {
      "image/png": "[encoded data removed]",
      "text/plain": [
       "<matplotlib.figure.Figure at 0x1c216ebf98>"
      ]
     },
     "metadata": {},
     "output_type": "display_data"
    }
   ],
   "source": [
    "from scipy.cluster import hierarchy as hc\n",
    "corr = np.round(scipy.stats.spearmanr(X).correlation, 4)\n",
    "corr_condensed = hc.distance.squareform(1-corr)\n",
    "z = hc.linkage(corr_condensed, method='average')\n",
    "fig = plt.figure(figsize=(16,10))\n",
    "dendrogram = hc.dendrogram(z, labels=X.columns, orientation='left', leaf_font_size=16)\n",
    "plt.show()"
   ]
  },
  {
   "cell_type": "markdown",
   "metadata": {},
   "source": [
    "# Model 2"
   ]
  },
  {
   "cell_type": "code",
   "execution_count": 48,
   "metadata": {
    "collapsed": true
   },
   "outputs": [],
   "source": [
    "street_cols = ['Street', 'From', 'To']\n",
    "time_columns = ['Date', 'Time', 'datetime', 'daytime', 'hour', 'weekday', 'holidays']\n",
    "time_i_dont_want = ['Date', 'Time', 'datetime', 'daytime']\n",
    "unimportant = ['holidays', 'Street_lng', 'Street_lat']\n",
    "\n",
    "to_drop = street_cols + time_i_dont_want + unimportant +['id']\n",
    "to_drop_on_data = to_drop + ['Real_Spots']"
   ]
  },
  {
   "cell_type": "code",
   "execution_count": 49,
   "metadata": {},
   "outputs": [
    {
     "data": {
      "text/plain": [
       "((1005, 10), (95, 10), (1005,), (95,))"
      ]
     },
     "execution_count": 49,
     "metadata": {},
     "output_type": "execute_result"
    }
   ],
   "source": [
    "X_train, y_train = train.drop(to_drop_on_data + ['any_spot'], axis = 1), train.any_spot\n",
    "X_val, y_val = val.drop(to_drop_on_data + ['any_spot'], axis = 1), val.any_spot\n",
    "X_train.shape, X_val.shape, y_train.shape, y_val.shape"
   ]
  },
  {
   "cell_type": "code",
   "execution_count": 50,
   "metadata": {},
   "outputs": [
    {
     "data": {
      "image/png": "[encoded data removed]",
      "text/plain": [
       "<matplotlib.figure.Figure at 0x1c232034e0>"
      ]
     },
     "metadata": {},
     "output_type": "display_data"
    },
    {
     "name": "stdout",
     "output_type": "stream",
     "text": [
      "CPU times: user 2.36 s, sys: 598 ms, total: 2.96 s\n",
      "Wall time: 5.16 s\n"
     ]
    }
   ],
   "source": [
    "%%time\n",
    "max_features=[0.1, 0.3, 0.5, 0.7]\n",
    "min_samples_leaf= [9, 7, 5, 3, 1]\n",
    "\n",
    "plt.figure(figsize=(8,6))\n",
    "\n",
    "mylist = []\n",
    "for j in min_samples_leaf:\n",
    "    x = []\n",
    "    for i in max_features:\n",
    "        clf = RandomForestClassifier(n_jobs=-1, n_estimators=50, max_features=i, min_samples_leaf=j)\n",
    "        clf.fit(X_train, y_train)\n",
    "        dic = {'max_features':i, 'min_samples_leaf':j, 'log_loss':log_loss(y_val, clf.predict_proba(X_val)[:,1])}\n",
    "        mylist.append(dic)\n",
    "        x.append(dic['log_loss'])\n",
    "    plt.plot(max_features,x, label=str(j))\n",
    "\n",
    "plt.xlabel('max_features', fontsize=12)\n",
    "plt.ylabel('log_loss', fontsize=12)\n",
    "plt.legend(loc='best')\n",
    "plt.show()"
   ]
  },
  {
   "cell_type": "code",
   "execution_count": 51,
   "metadata": {},
   "outputs": [
    {
     "data": {
      "text/html": [
       "<div>\n",
       "<style>\n",
       "    .dataframe thead tr:only-child th {\n",
       "        text-align: right;\n",
       "    }\n",
       "\n",
       "    .dataframe thead th {\n",
       "        text-align: left;\n",
       "    }\n",
       "\n",
       "    .dataframe tbody tr th {\n",
       "        vertical-align: top;\n",
       "    }\n",
       "</style>\n",
       "<table border=\"1\" class=\"dataframe\">\n",
       "  <thead>\n",
       "    <tr style=\"text-align: right;\">\n",
       "      <th></th>\n",
       "      <th>max_features</th>\n",
       "      <th>min_samples_leaf</th>\n",
       "      <th>log_loss</th>\n",
       "    </tr>\n",
       "  </thead>\n",
       "  <tbody>\n",
       "    <tr>\n",
       "      <th>18</th>\n",
       "      <td>0.5</td>\n",
       "      <td>1</td>\n",
       "      <td>0.531185</td>\n",
       "    </tr>\n",
       "    <tr>\n",
       "      <th>5</th>\n",
       "      <td>0.3</td>\n",
       "      <td>7</td>\n",
       "      <td>0.531188</td>\n",
       "    </tr>\n",
       "    <tr>\n",
       "      <th>16</th>\n",
       "      <td>0.1</td>\n",
       "      <td>1</td>\n",
       "      <td>0.534753</td>\n",
       "    </tr>\n",
       "    <tr>\n",
       "      <th>17</th>\n",
       "      <td>0.3</td>\n",
       "      <td>1</td>\n",
       "      <td>0.537489</td>\n",
       "    </tr>\n",
       "    <tr>\n",
       "      <th>10</th>\n",
       "      <td>0.5</td>\n",
       "      <td>5</td>\n",
       "      <td>0.539724</td>\n",
       "    </tr>\n",
       "    <tr>\n",
       "      <th>12</th>\n",
       "      <td>0.1</td>\n",
       "      <td>3</td>\n",
       "      <td>0.539847</td>\n",
       "    </tr>\n",
       "    <tr>\n",
       "      <th>15</th>\n",
       "      <td>0.7</td>\n",
       "      <td>3</td>\n",
       "      <td>0.541691</td>\n",
       "    </tr>\n",
       "    <tr>\n",
       "      <th>9</th>\n",
       "      <td>0.3</td>\n",
       "      <td>5</td>\n",
       "      <td>0.542881</td>\n",
       "    </tr>\n",
       "    <tr>\n",
       "      <th>1</th>\n",
       "      <td>0.3</td>\n",
       "      <td>9</td>\n",
       "      <td>0.544521</td>\n",
       "    </tr>\n",
       "    <tr>\n",
       "      <th>6</th>\n",
       "      <td>0.5</td>\n",
       "      <td>7</td>\n",
       "      <td>0.544794</td>\n",
       "    </tr>\n",
       "    <tr>\n",
       "      <th>0</th>\n",
       "      <td>0.1</td>\n",
       "      <td>9</td>\n",
       "      <td>0.546218</td>\n",
       "    </tr>\n",
       "    <tr>\n",
       "      <th>8</th>\n",
       "      <td>0.1</td>\n",
       "      <td>5</td>\n",
       "      <td>0.546957</td>\n",
       "    </tr>\n",
       "    <tr>\n",
       "      <th>4</th>\n",
       "      <td>0.1</td>\n",
       "      <td>7</td>\n",
       "      <td>0.547263</td>\n",
       "    </tr>\n",
       "    <tr>\n",
       "      <th>14</th>\n",
       "      <td>0.5</td>\n",
       "      <td>3</td>\n",
       "      <td>0.549152</td>\n",
       "    </tr>\n",
       "    <tr>\n",
       "      <th>3</th>\n",
       "      <td>0.7</td>\n",
       "      <td>9</td>\n",
       "      <td>0.549628</td>\n",
       "    </tr>\n",
       "    <tr>\n",
       "      <th>19</th>\n",
       "      <td>0.7</td>\n",
       "      <td>1</td>\n",
       "      <td>0.550901</td>\n",
       "    </tr>\n",
       "    <tr>\n",
       "      <th>2</th>\n",
       "      <td>0.5</td>\n",
       "      <td>9</td>\n",
       "      <td>0.551098</td>\n",
       "    </tr>\n",
       "    <tr>\n",
       "      <th>13</th>\n",
       "      <td>0.3</td>\n",
       "      <td>3</td>\n",
       "      <td>0.557028</td>\n",
       "    </tr>\n",
       "    <tr>\n",
       "      <th>7</th>\n",
       "      <td>0.7</td>\n",
       "      <td>7</td>\n",
       "      <td>0.558208</td>\n",
       "    </tr>\n",
       "    <tr>\n",
       "      <th>11</th>\n",
       "      <td>0.7</td>\n",
       "      <td>5</td>\n",
       "      <td>0.563421</td>\n",
       "    </tr>\n",
       "  </tbody>\n",
       "</table>\n",
       "</div>"
      ],
      "text/plain": [
       "    max_features  min_samples_leaf  log_loss\n",
       "18           0.5                 1  0.531185\n",
       "5            0.3                 7  0.531188\n",
       "16           0.1                 1  0.534753\n",
       "17           0.3                 1  0.537489\n",
       "10           0.5                 5  0.539724\n",
       "12           0.1                 3  0.539847\n",
       "15           0.7                 3  0.541691\n",
       "9            0.3                 5  0.542881\n",
       "1            0.3                 9  0.544521\n",
       "6            0.5                 7  0.544794\n",
       "0            0.1                 9  0.546218\n",
       "8            0.1                 5  0.546957\n",
       "4            0.1                 7  0.547263\n",
       "14           0.5                 3  0.549152\n",
       "3            0.7                 9  0.549628\n",
       "19           0.7                 1  0.550901\n",
       "2            0.5                 9  0.551098\n",
       "13           0.3                 3  0.557028\n",
       "7            0.7                 7  0.558208\n",
       "11           0.7                 5  0.563421"
      ]
     },
     "execution_count": 51,
     "metadata": {},
     "output_type": "execute_result"
    }
   ],
   "source": [
    "pd.DataFrame(mylist, columns=['max_features', 'min_samples_leaf', 'log_loss']).sort_values('log_loss')"
   ]
  },
  {
   "cell_type": "code",
   "execution_count": 52,
   "metadata": {},
   "outputs": [
    {
     "data": {
      "text/plain": [
       "((1100, 10), (726, 10), (1100,))"
      ]
     },
     "execution_count": 52,
     "metadata": {},
     "output_type": "execute_result"
    }
   ],
   "source": [
    "X, y = data.drop(to_drop_on_data + ['any_spot'], axis = 1), data.any_spot\n",
    "X_test = test.drop(to_drop, axis = 1)\n",
    "X.shape, X_test.shape, y.shape"
   ]
  },
  {
   "cell_type": "code",
   "execution_count": 53,
   "metadata": {},
   "outputs": [
    {
     "name": "stdout",
     "output_type": "stream",
     "text": [
      "CPU times: user 119 ms, sys: 29.8 ms, total: 149 ms\n",
      "Wall time: 146 ms\n"
     ]
    }
   ],
   "source": [
    "%%time\n",
    "clf = RandomForestClassifier(n_jobs=-1, n_estimators=50, max_features=0.5, min_samples_leaf=1)\n",
    "clf.fit(X, y)"
   ]
  },
  {
   "cell_type": "code",
   "execution_count": 54,
   "metadata": {
    "collapsed": true
   },
   "outputs": [],
   "source": [
    "pred = clf.predict(X_test)"
   ]
  },
  {
   "cell_type": "code",
   "execution_count": 57,
   "metadata": {},
   "outputs": [],
   "source": [
    "#pd.DataFrame({'id':test.id, 'any_spot':pred}, columns=['id','any_spot']).to_csv('preds/pred6.csv', index=False)\n",
    "#\n",
    "#log_loss(y_val, clf.predict_proba(X_val)[:,1])\n",
    "#0.23065089205484532"
   ]
  },
  {
   "cell_type": "code",
   "execution_count": 47,
   "metadata": {},
   "outputs": [],
   "source": [
    "#pd.DataFrame({'id':test.id, 'any_spot':pred}, columns=['id','any_spot']).to_csv('preds/pred5.csv', index=False)\n",
    "#\n",
    "#log_loss(y_val, clf.predict_proba(X_val)[:,1])\n",
    "#0.2226574070165912"
   ]
  },
  {
   "cell_type": "code",
   "execution_count": null,
   "metadata": {
    "collapsed": true
   },
   "outputs": [],
   "source": [
    "#pd.DataFrame({'id':test.id, 'any_spot':pred}, columns=['id','any_spot']).to_csv('preds/pred2.csv', index=False)\n",
    "#0.48109\n",
    "#log_loss(y_val, clf.predict_proba(X_val)[:,1])\n",
    "#0.41673949769920604"
   ]
  },
  {
   "cell_type": "markdown",
   "metadata": {},
   "source": [
    "### check val set is good or not"
   ]
  },
  {
   "cell_type": "code",
   "execution_count": 58,
   "metadata": {
    "collapsed": true
   },
   "outputs": [],
   "source": [
    "kaggle_score = [0.49815, 0.48109]\n",
    "log_loss_on_val = [0.41012218081600849, 0.41673949769920604]"
   ]
  },
  {
   "cell_type": "code",
   "execution_count": 59,
   "metadata": {},
   "outputs": [
    {
     "data": {
      "text/plain": [
       "[<matplotlib.lines.Line2D at 0x1c233852b0>]"
      ]
     },
     "execution_count": 59,
     "metadata": {},
     "output_type": "execute_result"
    },
    {
     "data": {
      "image/png": "[encoded data removed]",
      "text/plain": [
       "<matplotlib.figure.Figure at 0x1c215df828>"
      ]
     },
     "metadata": {},
     "output_type": "display_data"
    }
   ],
   "source": [
    "plt.plot(kaggle_score, log_loss_on_val)"
   ]
  },
  {
   "cell_type": "code",
   "execution_count": null,
   "metadata": {
    "collapsed": true
   },
   "outputs": [],
   "source": []
  }
 ],
 "metadata": {
  "kernelspec": {
   "display_name": "Python 3",
   "language": "python",
   "name": "python3"
  },
  "language_info": {
   "codemirror_mode": {
    "name": "ipython",
    "version": 3
   },
   "file_extension": ".py",
   "mimetype": "text/x-python",
   "name": "python",
   "nbconvert_exporter": "python",
   "pygments_lexer": "ipython3",
   "version": "3.6.3"
  }
 },
 "nbformat": 4,
 "nbformat_minor": 2
}
